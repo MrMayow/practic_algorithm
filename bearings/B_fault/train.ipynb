{
 "cells": [
  {
   "cell_type": "code",
   "execution_count": 4,
   "metadata": {},
   "outputs": [],
   "source": [
    "import numpy as np\n",
    "import pandas as pd\n",
    "import tensorflow as tf\n",
    "from tensorflow.keras.models import Sequential\n",
    "from tensorflow.keras.layers import Conv1D, MaxPooling1D, Flatten, Dense, Dropout\n",
    "from sklearn.model_selection import train_test_split\n",
    "from sklearn.preprocessing import StandardScaler\n",
    "import os\n",
    "from pathlib import Path"
   ]
  },
  {
   "cell_type": "code",
   "execution_count": 5,
   "metadata": {},
   "outputs": [],
   "source": [
    "NORMAL_FOLDER = \"csv_data/normal\"\n",
    "DEFECT_FOLDER = \"csv_data/defect\"\n",
    "FRAME = 500"
   ]
  },
  {
   "cell_type": "code",
   "execution_count": 6,
   "metadata": {},
   "outputs": [],
   "source": [
    "def load_and_process_data(file_path, label, window_size):\n",
    "    df = pd.read_csv(file_path)\n",
    "    signal = df['vibration'].values\n",
    "    \n",
    "    # Нормализация данных (важный шаг для нейросетей)\n",
    "    scaler = StandardScaler()\n",
    "    signal_scaled = scaler.fit_transform(signal.reshape(-1, 1)).flatten()\n",
    "\n",
    "    X, y = [], []\n",
    "    for i in range(0, len(signal_scaled) - window_size, window_size):\n",
    "        window = signal_scaled[i : i + window_size]\n",
    "        X.append(window)\n",
    "        y.append(label)\n",
    "        \n",
    "    return np.array(X), np.array(y)"
   ]
  },
  {
   "cell_type": "code",
   "execution_count": 10,
   "metadata": {},
   "outputs": [],
   "source": [
    "def create_1d_cnn_model(input_shape):\n",
    "    model = Sequential([\n",
    "        Conv1D(filters=32, kernel_size=5, activation='relu', input_shape=input_shape),\n",
    "        MaxPooling1D(pool_size=2),\n",
    "        Dropout(0.3),\n",
    "        \n",
    "        Conv1D(filters=64, kernel_size=5, activation='relu'),\n",
    "        MaxPooling1D(pool_size=2),\n",
    "        Dropout(0.3),\n",
    "        \n",
    "        Flatten(), \n",
    "        \n",
    "        Dense(100, activation='relu'),\n",
    "        Dense(1, activation='sigmoid') \n",
    "    ])\n",
    "    model.compile(optimizer='adam',\n",
    "                  loss='binary_crossentropy',\n",
    "                  metrics=['accuracy'])\n",
    "    \n",
    "    return model"
   ]
  },
  {
   "cell_type": "code",
   "execution_count": 7,
   "metadata": {},
   "outputs": [],
   "source": [
    "def create_cnn_1d_2l(input_shape):\n",
    "    model = Sequential([\n",
    "        Conv1D(filters=32, kernel_size=5, activation='relu', input_shape=input_shape),\n",
    "        MaxPooling1D(pool_size=2),\n",
    "        Conv1D(filters=64, kernel_size=5, activation='relu'),\n",
    "        MaxPooling1D(pool_size=2),\n",
    "        Flatten(),\n",
    "        Dense(64, activation='relu'),\n",
    "        Dropout(0.3),\n",
    "        Dense(1, activation='sigmoid')\n",
    "    ])\n",
    "    model.compile(optimizer='adam', loss='binary_crossentropy', metrics=['accuracy'])\n",
    "    return model"
   ]
  },
  {
   "cell_type": "code",
   "execution_count": 8,
   "metadata": {},
   "outputs": [
    {
     "name": "stdout",
     "output_type": "stream",
     "text": [
      "(6311, 500)\n",
      "(6311,)\n"
     ]
    }
   ],
   "source": [
    "from pathlib import Path\n",
    "import numpy as np\n",
    "\n",
    "X_normals_list = []\n",
    "y_normals_list = []\n",
    "\n",
    "for file in Path(NORMAL_FOLDER).iterdir():\n",
    "    if file.is_file():\n",
    "    \n",
    "        X_normal, y_normal = load_and_process_data(file, 0, FRAME)\n",
    "        X_normals_list.append(X_normal)\n",
    "        y_normals_list.append(y_normal)\n",
    "\n",
    "X_defects_list = []\n",
    "y_defects_list = []\n",
    "\n",
    "for file in Path(DEFECT_FOLDER).iterdir():\n",
    "    if file.is_file():\n",
    "        X_defect, y_defect = load_and_process_data(file, 1, FRAME)\n",
    "        X_defects_list.append(X_defect)\n",
    "        y_defects_list.append(y_defect)\n",
    "\n",
    "if X_normals_list and X_defects_list:\n",
    "    X_normals = np.concatenate(X_normals_list, axis=0)\n",
    "    y_normals = np.concatenate(y_normals_list, axis=0)\n",
    "    \n",
    "    X_defects = np.concatenate(X_defects_list, axis=0)\n",
    "    y_defects = np.concatenate(y_defects_list, axis=0)\n",
    "    \n",
    "    X = np.concatenate((X_normals, X_defects), axis=0)\n",
    "    y = np.concatenate((y_normals, y_defects), axis=0)\n",
    "    \n",
    "    print(X.shape)\n",
    "    print(y.shape)\n",
    "else:\n",
    "    print(\"Не удалось загрузить данные. Списки пусты.\")\n",
    "\n"
   ]
  },
  {
   "cell_type": "code",
   "execution_count": 12,
   "metadata": {},
   "outputs": [
    {
     "name": "stdout",
     "output_type": "stream",
     "text": [
      "(6311, 500, 1)\n",
      "Форма обучающих данных (X_train): (5048, 500, 1)\n",
      "Форма тестовых данных (X_test): (1263, 500, 1)\n",
      "\n",
      "Создание и обучение модели...\n"
     ]
    },
    {
     "name": "stderr",
     "output_type": "stream",
     "text": [
      "c:\\Users\\scree\\Desktop\\practic\\.venv\\Lib\\site-packages\\keras\\src\\layers\\convolutional\\base_conv.py:113: UserWarning: Do not pass an `input_shape`/`input_dim` argument to a layer. When using Sequential models, prefer using an `Input(shape)` object as the first layer in the model instead.\n",
      "  super().__init__(activity_regularizer=activity_regularizer, **kwargs)\n"
     ]
    },
    {
     "data": {
      "text/html": [
       "<pre style=\"white-space:pre;overflow-x:auto;line-height:normal;font-family:Menlo,'DejaVu Sans Mono',consolas,'Courier New',monospace\"><span style=\"font-weight: bold\">Model: \"sequential_1\"</span>\n",
       "</pre>\n"
      ],
      "text/plain": [
       "\u001b[1mModel: \"sequential_1\"\u001b[0m\n"
      ]
     },
     "metadata": {},
     "output_type": "display_data"
    },
    {
     "data": {
      "text/html": [
       "<pre style=\"white-space:pre;overflow-x:auto;line-height:normal;font-family:Menlo,'DejaVu Sans Mono',consolas,'Courier New',monospace\">┏━━━━━━━━━━━━━━━━━━━━━━━━━━━━━━━━━┳━━━━━━━━━━━━━━━━━━━━━━━━┳━━━━━━━━━━━━━━━┓\n",
       "┃<span style=\"font-weight: bold\"> Layer (type)                    </span>┃<span style=\"font-weight: bold\"> Output Shape           </span>┃<span style=\"font-weight: bold\">       Param # </span>┃\n",
       "┡━━━━━━━━━━━━━━━━━━━━━━━━━━━━━━━━━╇━━━━━━━━━━━━━━━━━━━━━━━━╇━━━━━━━━━━━━━━━┩\n",
       "│ conv1d_2 (<span style=\"color: #0087ff; text-decoration-color: #0087ff\">Conv1D</span>)               │ (<span style=\"color: #00d7ff; text-decoration-color: #00d7ff\">None</span>, <span style=\"color: #00af00; text-decoration-color: #00af00\">496</span>, <span style=\"color: #00af00; text-decoration-color: #00af00\">32</span>)        │           <span style=\"color: #00af00; text-decoration-color: #00af00\">192</span> │\n",
       "├─────────────────────────────────┼────────────────────────┼───────────────┤\n",
       "│ max_pooling1d_2 (<span style=\"color: #0087ff; text-decoration-color: #0087ff\">MaxPooling1D</span>)  │ (<span style=\"color: #00d7ff; text-decoration-color: #00d7ff\">None</span>, <span style=\"color: #00af00; text-decoration-color: #00af00\">248</span>, <span style=\"color: #00af00; text-decoration-color: #00af00\">32</span>)        │             <span style=\"color: #00af00; text-decoration-color: #00af00\">0</span> │\n",
       "├─────────────────────────────────┼────────────────────────┼───────────────┤\n",
       "│ conv1d_3 (<span style=\"color: #0087ff; text-decoration-color: #0087ff\">Conv1D</span>)               │ (<span style=\"color: #00d7ff; text-decoration-color: #00d7ff\">None</span>, <span style=\"color: #00af00; text-decoration-color: #00af00\">244</span>, <span style=\"color: #00af00; text-decoration-color: #00af00\">64</span>)        │        <span style=\"color: #00af00; text-decoration-color: #00af00\">10,304</span> │\n",
       "├─────────────────────────────────┼────────────────────────┼───────────────┤\n",
       "│ max_pooling1d_3 (<span style=\"color: #0087ff; text-decoration-color: #0087ff\">MaxPooling1D</span>)  │ (<span style=\"color: #00d7ff; text-decoration-color: #00d7ff\">None</span>, <span style=\"color: #00af00; text-decoration-color: #00af00\">122</span>, <span style=\"color: #00af00; text-decoration-color: #00af00\">64</span>)        │             <span style=\"color: #00af00; text-decoration-color: #00af00\">0</span> │\n",
       "├─────────────────────────────────┼────────────────────────┼───────────────┤\n",
       "│ flatten_1 (<span style=\"color: #0087ff; text-decoration-color: #0087ff\">Flatten</span>)             │ (<span style=\"color: #00d7ff; text-decoration-color: #00d7ff\">None</span>, <span style=\"color: #00af00; text-decoration-color: #00af00\">7808</span>)           │             <span style=\"color: #00af00; text-decoration-color: #00af00\">0</span> │\n",
       "├─────────────────────────────────┼────────────────────────┼───────────────┤\n",
       "│ dense_2 (<span style=\"color: #0087ff; text-decoration-color: #0087ff\">Dense</span>)                 │ (<span style=\"color: #00d7ff; text-decoration-color: #00d7ff\">None</span>, <span style=\"color: #00af00; text-decoration-color: #00af00\">64</span>)             │       <span style=\"color: #00af00; text-decoration-color: #00af00\">499,776</span> │\n",
       "├─────────────────────────────────┼────────────────────────┼───────────────┤\n",
       "│ dropout_1 (<span style=\"color: #0087ff; text-decoration-color: #0087ff\">Dropout</span>)             │ (<span style=\"color: #00d7ff; text-decoration-color: #00d7ff\">None</span>, <span style=\"color: #00af00; text-decoration-color: #00af00\">64</span>)             │             <span style=\"color: #00af00; text-decoration-color: #00af00\">0</span> │\n",
       "├─────────────────────────────────┼────────────────────────┼───────────────┤\n",
       "│ dense_3 (<span style=\"color: #0087ff; text-decoration-color: #0087ff\">Dense</span>)                 │ (<span style=\"color: #00d7ff; text-decoration-color: #00d7ff\">None</span>, <span style=\"color: #00af00; text-decoration-color: #00af00\">1</span>)              │            <span style=\"color: #00af00; text-decoration-color: #00af00\">65</span> │\n",
       "└─────────────────────────────────┴────────────────────────┴───────────────┘\n",
       "</pre>\n"
      ],
      "text/plain": [
       "┏━━━━━━━━━━━━━━━━━━━━━━━━━━━━━━━━━┳━━━━━━━━━━━━━━━━━━━━━━━━┳━━━━━━━━━━━━━━━┓\n",
       "┃\u001b[1m \u001b[0m\u001b[1mLayer (type)                   \u001b[0m\u001b[1m \u001b[0m┃\u001b[1m \u001b[0m\u001b[1mOutput Shape          \u001b[0m\u001b[1m \u001b[0m┃\u001b[1m \u001b[0m\u001b[1m      Param #\u001b[0m\u001b[1m \u001b[0m┃\n",
       "┡━━━━━━━━━━━━━━━━━━━━━━━━━━━━━━━━━╇━━━━━━━━━━━━━━━━━━━━━━━━╇━━━━━━━━━━━━━━━┩\n",
       "│ conv1d_2 (\u001b[38;5;33mConv1D\u001b[0m)               │ (\u001b[38;5;45mNone\u001b[0m, \u001b[38;5;34m496\u001b[0m, \u001b[38;5;34m32\u001b[0m)        │           \u001b[38;5;34m192\u001b[0m │\n",
       "├─────────────────────────────────┼────────────────────────┼───────────────┤\n",
       "│ max_pooling1d_2 (\u001b[38;5;33mMaxPooling1D\u001b[0m)  │ (\u001b[38;5;45mNone\u001b[0m, \u001b[38;5;34m248\u001b[0m, \u001b[38;5;34m32\u001b[0m)        │             \u001b[38;5;34m0\u001b[0m │\n",
       "├─────────────────────────────────┼────────────────────────┼───────────────┤\n",
       "│ conv1d_3 (\u001b[38;5;33mConv1D\u001b[0m)               │ (\u001b[38;5;45mNone\u001b[0m, \u001b[38;5;34m244\u001b[0m, \u001b[38;5;34m64\u001b[0m)        │        \u001b[38;5;34m10,304\u001b[0m │\n",
       "├─────────────────────────────────┼────────────────────────┼───────────────┤\n",
       "│ max_pooling1d_3 (\u001b[38;5;33mMaxPooling1D\u001b[0m)  │ (\u001b[38;5;45mNone\u001b[0m, \u001b[38;5;34m122\u001b[0m, \u001b[38;5;34m64\u001b[0m)        │             \u001b[38;5;34m0\u001b[0m │\n",
       "├─────────────────────────────────┼────────────────────────┼───────────────┤\n",
       "│ flatten_1 (\u001b[38;5;33mFlatten\u001b[0m)             │ (\u001b[38;5;45mNone\u001b[0m, \u001b[38;5;34m7808\u001b[0m)           │             \u001b[38;5;34m0\u001b[0m │\n",
       "├─────────────────────────────────┼────────────────────────┼───────────────┤\n",
       "│ dense_2 (\u001b[38;5;33mDense\u001b[0m)                 │ (\u001b[38;5;45mNone\u001b[0m, \u001b[38;5;34m64\u001b[0m)             │       \u001b[38;5;34m499,776\u001b[0m │\n",
       "├─────────────────────────────────┼────────────────────────┼───────────────┤\n",
       "│ dropout_1 (\u001b[38;5;33mDropout\u001b[0m)             │ (\u001b[38;5;45mNone\u001b[0m, \u001b[38;5;34m64\u001b[0m)             │             \u001b[38;5;34m0\u001b[0m │\n",
       "├─────────────────────────────────┼────────────────────────┼───────────────┤\n",
       "│ dense_3 (\u001b[38;5;33mDense\u001b[0m)                 │ (\u001b[38;5;45mNone\u001b[0m, \u001b[38;5;34m1\u001b[0m)              │            \u001b[38;5;34m65\u001b[0m │\n",
       "└─────────────────────────────────┴────────────────────────┴───────────────┘\n"
      ]
     },
     "metadata": {},
     "output_type": "display_data"
    },
    {
     "data": {
      "text/html": [
       "<pre style=\"white-space:pre;overflow-x:auto;line-height:normal;font-family:Menlo,'DejaVu Sans Mono',consolas,'Courier New',monospace\"><span style=\"font-weight: bold\"> Total params: </span><span style=\"color: #00af00; text-decoration-color: #00af00\">510,337</span> (1.95 MB)\n",
       "</pre>\n"
      ],
      "text/plain": [
       "\u001b[1m Total params: \u001b[0m\u001b[38;5;34m510,337\u001b[0m (1.95 MB)\n"
      ]
     },
     "metadata": {},
     "output_type": "display_data"
    },
    {
     "data": {
      "text/html": [
       "<pre style=\"white-space:pre;overflow-x:auto;line-height:normal;font-family:Menlo,'DejaVu Sans Mono',consolas,'Courier New',monospace\"><span style=\"font-weight: bold\"> Trainable params: </span><span style=\"color: #00af00; text-decoration-color: #00af00\">510,337</span> (1.95 MB)\n",
       "</pre>\n"
      ],
      "text/plain": [
       "\u001b[1m Trainable params: \u001b[0m\u001b[38;5;34m510,337\u001b[0m (1.95 MB)\n"
      ]
     },
     "metadata": {},
     "output_type": "display_data"
    },
    {
     "data": {
      "text/html": [
       "<pre style=\"white-space:pre;overflow-x:auto;line-height:normal;font-family:Menlo,'DejaVu Sans Mono',consolas,'Courier New',monospace\"><span style=\"font-weight: bold\"> Non-trainable params: </span><span style=\"color: #00af00; text-decoration-color: #00af00\">0</span> (0.00 B)\n",
       "</pre>\n"
      ],
      "text/plain": [
       "\u001b[1m Non-trainable params: \u001b[0m\u001b[38;5;34m0\u001b[0m (0.00 B)\n"
      ]
     },
     "metadata": {},
     "output_type": "display_data"
    },
    {
     "name": "stdout",
     "output_type": "stream",
     "text": [
      "Epoch 1/3\n",
      "\u001b[1m158/158\u001b[0m \u001b[32m━━━━━━━━━━━━━━━━━━━━\u001b[0m\u001b[37m\u001b[0m \u001b[1m1s\u001b[0m 4ms/step - accuracy: 0.9440 - loss: 0.1491 - val_accuracy: 1.0000 - val_loss: 8.0024e-05\n",
      "Epoch 2/3\n",
      "\u001b[1m158/158\u001b[0m \u001b[32m━━━━━━━━━━━━━━━━━━━━\u001b[0m\u001b[37m\u001b[0m \u001b[1m1s\u001b[0m 4ms/step - accuracy: 1.0000 - loss: 3.8910e-04 - val_accuracy: 1.0000 - val_loss: 4.2679e-06\n",
      "Epoch 3/3\n",
      "\u001b[1m158/158\u001b[0m \u001b[32m━━━━━━━━━━━━━━━━━━━━\u001b[0m\u001b[37m\u001b[0m \u001b[1m1s\u001b[0m 4ms/step - accuracy: 1.0000 - loss: 1.2298e-04 - val_accuracy: 1.0000 - val_loss: 1.4253e-06\n"
     ]
    }
   ],
   "source": [
    "X = X.reshape((X.shape[0], X.shape[1], 1))\n",
    "\n",
    "print(X.shape)\n",
    "\n",
    "# Шаг 3: Разделяем данные на обучающую и тестовую выборки\n",
    "X_train, X_test, y_train, y_test = train_test_split(\n",
    "    X, y, test_size=0.2, random_state=42, stratify=y\n",
    ")\n",
    "\n",
    "print(f\"Форма обучающих данных (X_train): {X_train.shape}\")\n",
    "print(f\"Форма тестовых данных (X_test): {X_test.shape}\")\n",
    "\n",
    "# Шаг 4: Создаем и обучаем модель\n",
    "print(\"\\nСоздание и обучение модели...\")\n",
    "model = create_cnn_1d_2l(input_shape=(FRAME, 1))\n",
    "model.summary()\n",
    "\n",
    "history = model.fit(\n",
    "    X_train, y_train,\n",
    "    epochs=3,\n",
    "    batch_size=32,\n",
    "    validation_data=(X_test, y_test)\n",
    "\n",
    ")\n",
    "\n"
   ]
  },
  {
   "cell_type": "code",
   "execution_count": 13,
   "metadata": {},
   "outputs": [
    {
     "name": "stdout",
     "output_type": "stream",
     "text": [
      "\n",
      "Оценка модели...\n",
      "\u001b[1m40/40\u001b[0m \u001b[32m━━━━━━━━━━━━━━━━━━━━\u001b[0m\u001b[37m\u001b[0m \u001b[1m0s\u001b[0m 1ms/step - accuracy: 1.0000 - loss: 1.4080e-06 \n",
      "Точность модели на тестовых данных: 100.00%\n"
     ]
    }
   ],
   "source": [
    "print(\"\\nОценка модели...\")\n",
    "loss, accuracy = model.evaluate(X_test, y_test)\n",
    "print(f\"Точность модели на тестовых данных: {accuracy * 100:.2f}%\")"
   ]
  },
  {
   "cell_type": "code",
   "execution_count": 14,
   "metadata": {},
   "outputs": [
    {
     "name": "stderr",
     "output_type": "stream",
     "text": [
      "WARNING:absl:You are saving your model as an HDF5 file via `model.save()` or `keras.saving.save_model(model)`. This file format is considered legacy. We recommend using instead the native Keras format, e.g. `model.save('my_model.keras')` or `keras.saving.save_model(model, 'my_model.keras')`. \n"
     ]
    },
    {
     "name": "stdout",
     "output_type": "stream",
     "text": [
      "\n",
      "Модель сохранена в файл: bearing_defect_model_v4.h5\n"
     ]
    }
   ],
   "source": [
    "model.save(\"bearing_defect_model_v4.h5\")\n",
    "print(f\"\\nМодель сохранена в файл: {\"bearing_defect_model_v4.h5\"}\")"
   ]
  },
  {
   "cell_type": "code",
   "execution_count": 30,
   "metadata": {},
   "outputs": [
    {
     "name": "stderr",
     "output_type": "stream",
     "text": [
      "WARNING:absl:Compiled the loaded model, but the compiled metrics have yet to be built. `model.compile_metrics` will be empty until you train or evaluate the model.\n"
     ]
    },
    {
     "name": "stdout",
     "output_type": "stream",
     "text": [
      "\u001b[1m6/6\u001b[0m \u001b[32m━━━━━━━━━━━━━━━━━━━━\u001b[0m\u001b[37m\u001b[0m \u001b[1m0s\u001b[0m 9ms/step \n",
      "Окно 1: вероятность дефекта = 1.00, ДЕФЕКТ\n",
      "Окно 2: вероятность дефекта = 1.00, ДЕФЕКТ\n",
      "Окно 3: вероятность дефекта = 1.00, ДЕФЕКТ\n",
      "Окно 4: вероятность дефекта = 1.00, ДЕФЕКТ\n",
      "Окно 5: вероятность дефекта = 1.00, ДЕФЕКТ\n",
      "Окно 6: вероятность дефекта = 1.00, ДЕФЕКТ\n",
      "Окно 7: вероятность дефекта = 1.00, ДЕФЕКТ\n",
      "Окно 8: вероятность дефекта = 1.00, ДЕФЕКТ\n",
      "Окно 9: вероятность дефекта = 1.00, ДЕФЕКТ\n",
      "Окно 10: вероятность дефекта = 1.00, ДЕФЕКТ\n",
      "Окно 11: вероятность дефекта = 1.00, ДЕФЕКТ\n",
      "Окно 12: вероятность дефекта = 1.00, ДЕФЕКТ\n",
      "Окно 13: вероятность дефекта = 1.00, ДЕФЕКТ\n",
      "Окно 14: вероятность дефекта = 1.00, ДЕФЕКТ\n",
      "Окно 15: вероятность дефекта = 1.00, ДЕФЕКТ\n",
      "Окно 16: вероятность дефекта = 0.31, Норма\n",
      "Окно 17: вероятность дефекта = 1.00, ДЕФЕКТ\n",
      "Окно 18: вероятность дефекта = 1.00, ДЕФЕКТ\n",
      "Окно 19: вероятность дефекта = 1.00, ДЕФЕКТ\n",
      "Окно 20: вероятность дефекта = 1.00, ДЕФЕКТ\n",
      "Окно 21: вероятность дефекта = 1.00, ДЕФЕКТ\n",
      "Окно 22: вероятность дефекта = 1.00, ДЕФЕКТ\n",
      "Окно 23: вероятность дефекта = 1.00, ДЕФЕКТ\n",
      "Окно 24: вероятность дефекта = 1.00, ДЕФЕКТ\n",
      "Окно 25: вероятность дефекта = 1.00, ДЕФЕКТ\n",
      "Окно 26: вероятность дефекта = 1.00, ДЕФЕКТ\n",
      "Окно 27: вероятность дефекта = 1.00, ДЕФЕКТ\n",
      "Окно 28: вероятность дефекта = 1.00, ДЕФЕКТ\n",
      "Окно 29: вероятность дефекта = 1.00, ДЕФЕКТ\n",
      "Окно 30: вероятность дефекта = 1.00, ДЕФЕКТ\n",
      "Окно 31: вероятность дефекта = 1.00, ДЕФЕКТ\n",
      "Окно 32: вероятность дефекта = 1.00, ДЕФЕКТ\n",
      "Окно 33: вероятность дефекта = 1.00, ДЕФЕКТ\n",
      "Окно 34: вероятность дефекта = 1.00, ДЕФЕКТ\n",
      "Окно 35: вероятность дефекта = 1.00, ДЕФЕКТ\n",
      "Окно 36: вероятность дефекта = 1.00, ДЕФЕКТ\n",
      "Окно 37: вероятность дефекта = 0.99, ДЕФЕКТ\n",
      "Окно 38: вероятность дефекта = 0.76, ДЕФЕКТ\n",
      "Окно 39: вероятность дефекта = 1.00, ДЕФЕКТ\n",
      "Окно 40: вероятность дефекта = 1.00, ДЕФЕКТ\n",
      "Окно 41: вероятность дефекта = 1.00, ДЕФЕКТ\n",
      "Окно 42: вероятность дефекта = 1.00, ДЕФЕКТ\n",
      "Окно 43: вероятность дефекта = 1.00, ДЕФЕКТ\n",
      "Окно 44: вероятность дефекта = 1.00, ДЕФЕКТ\n",
      "Окно 45: вероятность дефекта = 1.00, ДЕФЕКТ\n",
      "Окно 46: вероятность дефекта = 1.00, ДЕФЕКТ\n",
      "Окно 47: вероятность дефекта = 1.00, ДЕФЕКТ\n",
      "Окно 48: вероятность дефекта = 1.00, ДЕФЕКТ\n",
      "Окно 49: вероятность дефекта = 1.00, ДЕФЕКТ\n",
      "Окно 50: вероятность дефекта = 1.00, ДЕФЕКТ\n",
      "Окно 51: вероятность дефекта = 1.00, ДЕФЕКТ\n",
      "Окно 52: вероятность дефекта = 1.00, ДЕФЕКТ\n",
      "Окно 53: вероятность дефекта = 1.00, ДЕФЕКТ\n",
      "Окно 54: вероятность дефекта = 1.00, ДЕФЕКТ\n",
      "Окно 55: вероятность дефекта = 1.00, ДЕФЕКТ\n",
      "Окно 56: вероятность дефекта = 1.00, ДЕФЕКТ\n",
      "Окно 57: вероятность дефекта = 1.00, ДЕФЕКТ\n",
      "Окно 58: вероятность дефекта = 1.00, ДЕФЕКТ\n",
      "Окно 59: вероятность дефекта = 1.00, ДЕФЕКТ\n",
      "Окно 60: вероятность дефекта = 1.00, ДЕФЕКТ\n",
      "Окно 61: вероятность дефекта = 1.00, ДЕФЕКТ\n",
      "Окно 62: вероятность дефекта = 1.00, ДЕФЕКТ\n",
      "Окно 63: вероятность дефекта = 1.00, ДЕФЕКТ\n",
      "Окно 64: вероятность дефекта = 1.00, ДЕФЕКТ\n",
      "Окно 65: вероятность дефекта = 1.00, ДЕФЕКТ\n",
      "Окно 66: вероятность дефекта = 1.00, ДЕФЕКТ\n",
      "Окно 67: вероятность дефекта = 1.00, ДЕФЕКТ\n",
      "Окно 68: вероятность дефекта = 1.00, ДЕФЕКТ\n",
      "Окно 69: вероятность дефекта = 1.00, ДЕФЕКТ\n",
      "Окно 70: вероятность дефекта = 1.00, ДЕФЕКТ\n",
      "Окно 71: вероятность дефекта = 1.00, ДЕФЕКТ\n",
      "Окно 72: вероятность дефекта = 1.00, ДЕФЕКТ\n",
      "Окно 73: вероятность дефекта = 1.00, ДЕФЕКТ\n",
      "Окно 74: вероятность дефекта = 1.00, ДЕФЕКТ\n",
      "Окно 75: вероятность дефекта = 0.06, Норма\n",
      "Окно 76: вероятность дефекта = 1.00, ДЕФЕКТ\n",
      "Окно 77: вероятность дефекта = 1.00, ДЕФЕКТ\n",
      "Окно 78: вероятность дефекта = 1.00, ДЕФЕКТ\n",
      "Окно 79: вероятность дефекта = 1.00, ДЕФЕКТ\n",
      "Окно 80: вероятность дефекта = 1.00, ДЕФЕКТ\n",
      "Окно 81: вероятность дефекта = 1.00, ДЕФЕКТ\n",
      "Окно 82: вероятность дефекта = 1.00, ДЕФЕКТ\n",
      "Окно 83: вероятность дефекта = 1.00, ДЕФЕКТ\n",
      "Окно 84: вероятность дефекта = 1.00, ДЕФЕКТ\n",
      "Окно 85: вероятность дефекта = 1.00, ДЕФЕКТ\n",
      "Окно 86: вероятность дефекта = 1.00, ДЕФЕКТ\n",
      "Окно 87: вероятность дефекта = 1.00, ДЕФЕКТ\n",
      "Окно 88: вероятность дефекта = 1.00, ДЕФЕКТ\n",
      "Окно 89: вероятность дефекта = 1.00, ДЕФЕКТ\n",
      "Окно 90: вероятность дефекта = 1.00, ДЕФЕКТ\n",
      "Окно 91: вероятность дефекта = 0.00, Норма\n",
      "Окно 92: вероятность дефекта = 1.00, ДЕФЕКТ\n",
      "Окно 93: вероятность дефекта = 1.00, ДЕФЕКТ\n",
      "Окно 94: вероятность дефекта = 1.00, ДЕФЕКТ\n",
      "Окно 95: вероятность дефекта = 1.00, ДЕФЕКТ\n",
      "Окно 96: вероятность дефекта = 1.00, ДЕФЕКТ\n",
      "Окно 97: вероятность дефекта = 1.00, ДЕФЕКТ\n",
      "Окно 98: вероятность дефекта = 1.00, ДЕФЕКТ\n",
      "Окно 99: вероятность дефекта = 1.00, ДЕФЕКТ\n",
      "Окно 100: вероятность дефекта = 1.00, ДЕФЕКТ\n",
      "Окно 101: вероятность дефекта = 1.00, ДЕФЕКТ\n",
      "Окно 102: вероятность дефекта = 1.00, ДЕФЕКТ\n",
      "Окно 103: вероятность дефекта = 1.00, ДЕФЕКТ\n",
      "Окно 104: вероятность дефекта = 1.00, ДЕФЕКТ\n",
      "Окно 105: вероятность дефекта = 1.00, ДЕФЕКТ\n",
      "Окно 106: вероятность дефекта = 1.00, ДЕФЕКТ\n",
      "Окно 107: вероятность дефекта = 1.00, ДЕФЕКТ\n",
      "Окно 108: вероятность дефекта = 1.00, ДЕФЕКТ\n",
      "Окно 109: вероятность дефекта = 1.00, ДЕФЕКТ\n",
      "Окно 110: вероятность дефекта = 1.00, ДЕФЕКТ\n",
      "Окно 111: вероятность дефекта = 1.00, ДЕФЕКТ\n",
      "Окно 112: вероятность дефекта = 1.00, ДЕФЕКТ\n",
      "Окно 113: вероятность дефекта = 1.00, ДЕФЕКТ\n",
      "Окно 114: вероятность дефекта = 1.00, ДЕФЕКТ\n",
      "Окно 115: вероятность дефекта = 1.00, ДЕФЕКТ\n",
      "Окно 116: вероятность дефекта = 1.00, ДЕФЕКТ\n",
      "Окно 117: вероятность дефекта = 1.00, ДЕФЕКТ\n",
      "Окно 118: вероятность дефекта = 0.99, ДЕФЕКТ\n",
      "Окно 119: вероятность дефекта = 1.00, ДЕФЕКТ\n",
      "Окно 120: вероятность дефекта = 1.00, ДЕФЕКТ\n",
      "Окно 121: вероятность дефекта = 1.00, ДЕФЕКТ\n",
      "Окно 122: вероятность дефекта = 1.00, ДЕФЕКТ\n",
      "Окно 123: вероятность дефекта = 0.38, Норма\n",
      "Окно 124: вероятность дефекта = 1.00, ДЕФЕКТ\n",
      "Окно 125: вероятность дефекта = 1.00, ДЕФЕКТ\n",
      "Окно 126: вероятность дефекта = 1.00, ДЕФЕКТ\n",
      "Окно 127: вероятность дефекта = 1.00, ДЕФЕКТ\n",
      "Окно 128: вероятность дефекта = 1.00, ДЕФЕКТ\n",
      "Окно 129: вероятность дефекта = 1.00, ДЕФЕКТ\n",
      "Окно 130: вероятность дефекта = 1.00, ДЕФЕКТ\n",
      "Окно 131: вероятность дефекта = 1.00, ДЕФЕКТ\n",
      "Окно 132: вероятность дефекта = 1.00, ДЕФЕКТ\n",
      "Окно 133: вероятность дефекта = 1.00, ДЕФЕКТ\n",
      "Окно 134: вероятность дефекта = 1.00, ДЕФЕКТ\n",
      "Окно 135: вероятность дефекта = 1.00, ДЕФЕКТ\n",
      "Окно 136: вероятность дефекта = 1.00, ДЕФЕКТ\n",
      "Окно 137: вероятность дефекта = 1.00, ДЕФЕКТ\n",
      "Окно 138: вероятность дефекта = 1.00, ДЕФЕКТ\n",
      "Окно 139: вероятность дефекта = 1.00, ДЕФЕКТ\n",
      "Окно 140: вероятность дефекта = 1.00, ДЕФЕКТ\n",
      "Окно 141: вероятность дефекта = 1.00, ДЕФЕКТ\n",
      "Окно 142: вероятность дефекта = 1.00, ДЕФЕКТ\n",
      "Окно 143: вероятность дефекта = 1.00, ДЕФЕКТ\n",
      "Окно 144: вероятность дефекта = 1.00, ДЕФЕКТ\n",
      "Окно 145: вероятность дефекта = 1.00, ДЕФЕКТ\n",
      "Окно 146: вероятность дефекта = 1.00, ДЕФЕКТ\n",
      "Окно 147: вероятность дефекта = 1.00, ДЕФЕКТ\n",
      "Окно 148: вероятность дефекта = 1.00, ДЕФЕКТ\n",
      "Окно 149: вероятность дефекта = 1.00, ДЕФЕКТ\n",
      "Окно 150: вероятность дефекта = 0.97, ДЕФЕКТ\n",
      "Окно 151: вероятность дефекта = 1.00, ДЕФЕКТ\n",
      "Окно 152: вероятность дефекта = 1.00, ДЕФЕКТ\n",
      "Окно 153: вероятность дефекта = 1.00, ДЕФЕКТ\n",
      "Окно 154: вероятность дефекта = 1.00, ДЕФЕКТ\n",
      "Окно 155: вероятность дефекта = 1.00, ДЕФЕКТ\n",
      "Окно 156: вероятность дефекта = 0.99, ДЕФЕКТ\n",
      "Окно 157: вероятность дефекта = 1.00, ДЕФЕКТ\n",
      "Окно 158: вероятность дефекта = 1.00, ДЕФЕКТ\n",
      "Окно 159: вероятность дефекта = 1.00, ДЕФЕКТ\n",
      "Окно 160: вероятность дефекта = 1.00, ДЕФЕКТ\n",
      "Окно 161: вероятность дефекта = 1.00, ДЕФЕКТ\n",
      "Окно 162: вероятность дефекта = 1.00, ДЕФЕКТ\n",
      "Окно 163: вероятность дефекта = 1.00, ДЕФЕКТ\n",
      "Окно 164: вероятность дефекта = 1.00, ДЕФЕКТ\n",
      "Окно 165: вероятность дефекта = 1.00, ДЕФЕКТ\n",
      "Окно 166: вероятность дефекта = 1.00, ДЕФЕКТ\n",
      "Окно 167: вероятность дефекта = 1.00, ДЕФЕКТ\n",
      "Окно 168: вероятность дефекта = 1.00, ДЕФЕКТ\n",
      "Окно 169: вероятность дефекта = 1.00, ДЕФЕКТ\n",
      "Окно 170: вероятность дефекта = 1.00, ДЕФЕКТ\n",
      "Окно 171: вероятность дефекта = 0.99, ДЕФЕКТ\n",
      "Окно 172: вероятность дефекта = 1.00, ДЕФЕКТ\n",
      "Окно 173: вероятность дефекта = 1.00, ДЕФЕКТ\n",
      "Окно 174: вероятность дефекта = 1.00, ДЕФЕКТ\n",
      "Окно 175: вероятность дефекта = 1.00, ДЕФЕКТ\n",
      "Окно 176: вероятность дефекта = 1.00, ДЕФЕКТ\n",
      "Окно 177: вероятность дефекта = 1.00, ДЕФЕКТ\n",
      "Окно 178: вероятность дефекта = 1.00, ДЕФЕКТ\n",
      "Окно 179: вероятность дефекта = 1.00, ДЕФЕКТ\n",
      "Окно 180: вероятность дефекта = 1.00, ДЕФЕКТ\n",
      "\n",
      "ИТОГ: Скорее всего, дефект присутствует в файле.\n"
     ]
    }
   ],
   "source": [
    "import numpy as np\n",
    "import pandas as pd\n",
    "import tensorflow as tf\n",
    "from sklearn.preprocessing import StandardScaler\n",
    "\n",
    "# --- Конфигурация ---\n",
    "WINDOW_SIZE = 500\n",
    "MODEL_FILE = \"bearing_defect_model_v3.h5\"\n",
    "NEW_FILE = \"csv_self_data/defect/20Hz_accelerometer.csv\"  # замените на имя вашего файла\n",
    "\n",
    "# --- Загрузка и обработка новых данных ---\n",
    "def load_and_prepare(file_path, window_size):\n",
    "    df = pd.read_csv(file_path)\n",
    "    signal = df['vibration'].astype(np.float32).values\n",
    "\n",
    "    # Нормализация (на новых данных обучаем scaler заново)\n",
    "    scaler = StandardScaler()\n",
    "    signal_scaled = scaler.fit_transform(signal.reshape(-1, 1)).flatten()\n",
    "\n",
    "    X = []\n",
    "    for i in range(0, len(signal_scaled) - window_size + 1, window_size):\n",
    "        window = signal_scaled[i : i + window_size]\n",
    "        if len(window) == window_size:\n",
    "            X.append(window)\n",
    "    X = np.array(X)\n",
    "    X = X.reshape((X.shape[0], X.shape[1], 1))\n",
    "    return X\n",
    "\n",
    "# --- Загрузка модели ---\n",
    "model = tf.keras.models.load_model(MODEL_FILE)\n",
    "\n",
    "# --- Подготовка данных ---\n",
    "X_new = load_and_prepare(NEW_FILE, WINDOW_SIZE)\n",
    "\n",
    "# --- Предсказание ---\n",
    "y_pred_prob = model.predict(X_new)\n",
    "y_pred = (y_pred_prob > 0.5).astype(int).flatten()\n",
    "\n",
    "# --- Вывод результатов ---\n",
    "for i, (prob, label) in enumerate(zip(y_pred_prob, y_pred)):\n",
    "    print(f\"Окно {i+1}: вероятность дефекта = {prob[0]:.2f}, {'ДЕФЕКТ' if label else 'Норма'}\")\n",
    "\n",
    "# Если хотите получить общее решение по всему файлу:\n",
    "if np.mean(y_pred) > 0.5:\n",
    "    print(\"\\nИТОГ: Скорее всего, дефект присутствует в файле.\")\n",
    "else:\n",
    "    print(\"\\nИТОГ: Дефект не обнаружен.\")\n"
   ]
  }
 ],
 "metadata": {
  "kernelspec": {
   "display_name": ".venv",
   "language": "python",
   "name": "python3"
  },
  "language_info": {
   "codemirror_mode": {
    "name": "ipython",
    "version": 3
   },
   "file_extension": ".py",
   "mimetype": "text/x-python",
   "name": "python",
   "nbconvert_exporter": "python",
   "pygments_lexer": "ipython3",
   "version": "3.12.0"
  }
 },
 "nbformat": 4,
 "nbformat_minor": 2
}
