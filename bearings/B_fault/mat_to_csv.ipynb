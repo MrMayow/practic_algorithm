{
 "cells": [
  {
   "cell_type": "code",
   "execution_count": 1,
   "metadata": {},
   "outputs": [],
   "source": [
    "import numpy as np\n",
    "import scipy.io\n",
    "import csv\n",
    "from pathlib import Path"
   ]
  },
  {
   "cell_type": "code",
   "execution_count": null,
   "metadata": {},
   "outputs": [],
   "source": [
    "INPUT_DIR = \"mat_self_data/normal\"\n",
    "OUTPUT_DIR = \"csv_self_data/normal\""
   ]
  },
  {
   "cell_type": "code",
   "execution_count": 8,
   "metadata": {},
   "outputs": [],
   "source": [
    "files = []\n",
    "for file in Path(INPUT_DIR).iterdir():\n",
    "    if file.is_file():\n",
    "        files.append(file)"
   ]
  },
  {
   "cell_type": "code",
   "execution_count": 9,
   "metadata": {},
   "outputs": [],
   "source": [
    "def read_data_mat(FILE_PATH):\n",
    "    Bearing_data = scipy.io.loadmat(FILE_PATH)\n",
    "    label = None\n",
    "    for key in Bearing_data.keys():\n",
    "        if \"DE_time\" in key:\n",
    "            label = key\n",
    "            break\n",
    "    return Bearing_data[label].flatten()"
   ]
  },
  {
   "cell_type": "code",
   "execution_count": 10,
   "metadata": {},
   "outputs": [],
   "source": [
    "def save_to_csv(filename, values):\n",
    "    with open(filename, mode='w+', newline='', encoding='utf-8') as file:\n",
    "        writer = csv.writer(file)\n",
    "        writer.writerow(['vibration'])\n",
    "        for value in values:\n",
    "            writer.writerow([value])"
   ]
  },
  {
   "cell_type": "code",
   "execution_count": 11,
   "metadata": {},
   "outputs": [],
   "source": [
    "for file in files:\n",
    "    mat_data = read_data_mat(file)\n",
    "    file_name = file.name.split(\".\")[:-1][0]\n",
    "    save_to_csv(str(OUTPUT_DIR) + \"/\" + file_name + \".csv\", mat_data)"
   ]
  }
 ],
 "metadata": {
  "kernelspec": {
   "display_name": ".venv",
   "language": "python",
   "name": "python3"
  },
  "language_info": {
   "codemirror_mode": {
    "name": "ipython",
    "version": 3
   },
   "file_extension": ".py",
   "mimetype": "text/x-python",
   "name": "python",
   "nbconvert_exporter": "python",
   "pygments_lexer": "ipython3",
   "version": "3.12.3"
  }
 },
 "nbformat": 4,
 "nbformat_minor": 2
}
