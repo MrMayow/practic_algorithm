{
 "cells": [
  {
   "cell_type": "code",
   "execution_count": 1,
   "metadata": {},
   "outputs": [],
   "source": [
    "from PIL import Image"
   ]
  },
  {
   "cell_type": "code",
   "execution_count": 6,
   "metadata": {},
   "outputs": [],
   "source": [
    "height, width = 513, 64513\n",
    "new_height, new_width = 513, 3073\n",
    "image_path = \"for_resize/1024/normal_87842-722749_chunk_0002.png\"\n",
    "save_path = \"resized/1024/normal_87842-722749_chunk_0002.png\""
   ]
  },
  {
   "cell_type": "code",
   "execution_count": 7,
   "metadata": {},
   "outputs": [],
   "source": [
    "\n",
    "def resize_image(image_path, save_path,size=(height, width)):\n",
    "    with Image.open(image_path) as img:\n",
    "        img_resized = img.resize(size, Image.LANCZOS)\n",
    "        img_resized.save(save_path)  # перезаписываем файл\n",
    "\n"
   ]
  },
  {
   "cell_type": "code",
   "execution_count": 8,
   "metadata": {},
   "outputs": [],
   "source": [
    "\n",
    "resize_image(image_path, save_path,size=(new_width, new_height))  # или (224, 224)"
   ]
  }
 ],
 "metadata": {
  "kernelspec": {
   "display_name": ".venv",
   "language": "python",
   "name": "python3"
  },
  "language_info": {
   "codemirror_mode": {
    "name": "ipython",
    "version": 3
   },
   "file_extension": ".py",
   "mimetype": "text/x-python",
   "name": "python",
   "nbconvert_exporter": "python",
   "pygments_lexer": "ipython3",
   "version": "3.12.3"
  }
 },
 "nbformat": 4,
 "nbformat_minor": 2
}
