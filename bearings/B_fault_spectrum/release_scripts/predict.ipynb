{
 "cells": [
  {
   "cell_type": "code",
   "execution_count": 1,
   "metadata": {},
   "outputs": [],
   "source": [
    "import tensorflow as tf\n",
    "import pandas as pd\n",
    "import numpy as np\n",
    "import matplotlib.pyplot as plt\n",
    "from scipy import signal\n",
    "import os\n",
    "from pathlib import Path"
   ]
  },
  {
   "cell_type": "code",
   "execution_count": 2,
   "metadata": {},
   "outputs": [],
   "source": [
    "SAMPLING_RATE = 12000 # Частота дискретизации \n",
    "WINDOW_SIZE = 4096 # Размер фрейма для дробления исходных данных   \n",
    "STEP = 2048 # Шаг фрейма\n",
    "\n",
    "\n",
    "NPERSEG = 2048  # Размер фрейма для создания спектрограммы            \n",
    "NOVERLAP = NPERSEG - 1 #коэф наложения фрейма\n",
    "\n",
    "DPI = 100 # Количество точек на дюйм для изображения\n",
    "IMG_HEIGHT = 257  # Высота изображения \n",
    "IMG_WIDTH = 3585 # Ширина изображения\n",
    "CLASS_NAMES = ['defect', 'normal'] # Классы модели, важен порядок (смотри train.ipynb)"
   ]
  },
  {
   "cell_type": "code",
   "execution_count": 3,
   "metadata": {},
   "outputs": [],
   "source": [
    "def create_spectrogram_from_chunk_normalized(chunk_data, fs):\n",
    "    \"\"\"\n",
    "    Создает нормализованную спектрограмму из фрагмента данных в памяти, не сохраняя на диск.\n",
    "    Возвращает изображение в виде numpy-массива.\n",
    "    \"\"\"\n",
    "    frequencies, times, Zxx = signal.stft(\n",
    "        chunk_data, \n",
    "        fs=fs, \n",
    "        nperseg=NPERSEG, \n",
    "        noverlap=NOVERLAP, \n",
    "        boundary=None\n",
    "    )\n",
    "    Zxx_abs = np.abs(Zxx)\n",
    "    min_val = np.min(Zxx_abs)\n",
    "    max_val = np.max(Zxx_abs)\n",
    "    if max_val > min_val:\n",
    "        Zxx_normalized = (Zxx_abs - min_val) / (max_val - min_val)\n",
    "    else:\n",
    "        Zxx_normalized = np.zeros_like(Zxx_abs)\n",
    "    height, width = IMG_HEIGHT, IMG_WIDTH # Zxx_normalized.shape\n",
    "    dpi = DPI\n",
    "    fig_size = (width / dpi, height / dpi)\n",
    "    fig = plt.figure(figsize=fig_size, dpi=dpi)\n",
    "    ax = plt.Axes(fig, [0., 0., 1., 1.])\n",
    "    ax.set_axis_off()\n",
    "    fig.add_axes(ax)\n",
    "    ax.imshow(Zxx_normalized, cmap='gray', origin='lower', aspect='auto')\n",
    "    fig.canvas.draw()\n",
    "    buf = fig.canvas.buffer_rgba()\n",
    "    img_array = np.frombuffer(buf, dtype=np.uint8).reshape(fig.canvas.get_width_height()[::-1] + (4,))\n",
    "    img_array_rgb = img_array[:, :, :3]\n",
    "    plt.close(fig)\n",
    "    return img_array_rgb"
   ]
  },
  {
   "cell_type": "code",
   "execution_count": 7,
   "metadata": {},
   "outputs": [],
   "source": [
    "def predict_vibration_state(csv_path, model_path):\n",
    "    \"\"\"\n",
    "    Загружает CSV файл, обрабатывает его и делает предсказание с помощью модели.\n",
    "    \"\"\"\n",
    "    print(f\"Загрузка модели из файла: {model_path}\")\n",
    "    try:\n",
    "        model = tf.keras.models.load_model(model_path)\n",
    "    except Exception as e:\n",
    "        print(f\"Ошибка при загрузке модели: {e}\")\n",
    "        return\n",
    "    print(f\"Чтение и обработка файла: {csv_path}\")\n",
    "    try:\n",
    "        df = pd.read_csv(csv_path)\n",
    "        if 'vibration' not in df.columns:\n",
    "            print(\"Ошибка: в CSV файле отсутствует колонка 'vibration'.\")\n",
    "            return\n",
    "        signal_data = df['vibration'].values\n",
    "    except Exception as e:\n",
    "        print(f\"Ошибка при чтении CSV файла: {e}\")\n",
    "        return\n",
    "    predictions = []\n",
    "    for i in range(0, len(signal_data) - WINDOW_SIZE + 1, STEP):\n",
    "        chunk = signal_data[i : i + WINDOW_SIZE]\n",
    "        spectrogram_img = create_spectrogram_from_chunk_normalized(chunk, SAMPLING_RATE)\n",
    "        img_tensor = tf.expand_dims(spectrogram_img, 0)\n",
    "        prediction = model.predict(img_tensor, verbose=0)\n",
    "        score = tf.nn.sigmoid(prediction[0][0])\n",
    "        predicted_class_index = 1 if score > 0.5 else 0\n",
    "        predictions.append(CLASS_NAMES[predicted_class_index])\n",
    "    if not predictions:\n",
    "        print(\"Не удалось создать ни одного фрагмента для анализа. Файл слишком короткий.\")\n",
    "        return\n",
    "    print(f\"\\nАнализ завершен. Всего проанализировано фрагментов: {len(predictions)}\")\n",
    "    defect_count = predictions.count('defect')\n",
    "    normal_count = predictions.count('normal')\n",
    "    print(f\"  - Фрагментов 'normal': {normal_count}\")\n",
    "    print(f\"  - Фрагментов 'defect': {defect_count}\")\n",
    "    if defect_count > 0:\n",
    "        final_verdict = \"DEFECT\"\n",
    "        print(\"Результат: Defect\")\n",
    "    else:\n",
    "        final_verdict = \"NORMAL\"\n",
    "        print(\"Результат: Norm\")\n",
    "    return final_verdict"
   ]
  },
  {
   "cell_type": "code",
   "execution_count": 8,
   "metadata": {},
   "outputs": [
    {
     "name": "stdout",
     "output_type": "stream",
     "text": [
      "Загрузка модели из файла: my_models/vibration_classifier_model_512_NORM_e3.keras\n",
      "Чтение и обработка файла: csv_cwru_data/defect/B007_0.csv\n",
      "\n",
      "Анализ завершен. Всего проанализировано фрагментов: 58\n",
      "  - Фрагментов 'normal': 0\n",
      "  - Фрагментов 'defect': 58\n",
      "Результат: Defect\n"
     ]
    }
   ],
   "source": [
    "PATH_TO_NEW_CSV = 'csv_cwru_data/defect/B007_0.csv'\n",
    "PATH_TO_MODEL = 'my_models/vibration_classifier_model_512_NORM_e3.keras'\n",
    "\n",
    "if not os.path.exists(PATH_TO_NEW_CSV):\n",
    "    print(f\"Файл не найден: {PATH_TO_NEW_CSV}. Укажите правильный путь.\")\n",
    "elif not os.path.exists(PATH_TO_MODEL):\n",
    "    print(f\"Модель не найдена: {PATH_TO_MODEL}. Укажите правильный путь.\")\n",
    "else:\n",
    "    predict_vibration_state(PATH_TO_NEW_CSV, PATH_TO_MODEL)"
   ]
  }
 ],
 "metadata": {
  "kernelspec": {
   "display_name": "tf_gpu",
   "language": "python",
   "name": "python3"
  },
  "language_info": {
   "codemirror_mode": {
    "name": "ipython",
    "version": 3
   },
   "file_extension": ".py",
   "mimetype": "text/x-python",
   "name": "python",
   "nbconvert_exporter": "python",
   "pygments_lexer": "ipython3",
   "version": "3.10.18"
  }
 },
 "nbformat": 4,
 "nbformat_minor": 2
}
