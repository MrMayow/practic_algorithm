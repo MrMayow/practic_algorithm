{
 "cells": [
  {
   "cell_type": "code",
   "execution_count": 1,
   "metadata": {},
   "outputs": [
    {
     "name": "stderr",
     "output_type": "stream",
     "text": [
      "2025-07-14 11:09:59.947125: I tensorflow/core/platform/cpu_feature_guard.cc:193] This TensorFlow binary is optimized with oneAPI Deep Neural Network Library (oneDNN) to use the following CPU instructions in performance-critical operations:  AVX2 AVX512F AVX512_VNNI FMA\n",
      "To enable them in other operations, rebuild TensorFlow with the appropriate compiler flags.\n",
      "2025-07-14 11:10:00.080760: I tensorflow/core/util/util.cc:169] oneDNN custom operations are on. You may see slightly different numerical results due to floating-point round-off errors from different computation orders. To turn them off, set the environment variable `TF_ENABLE_ONEDNN_OPTS=0`.\n",
      "2025-07-14 11:10:00.085209: W tensorflow/stream_executor/platform/default/dso_loader.cc:64] Could not load dynamic library 'libcudart.so.11.0'; dlerror: libcudart.so.11.0: cannot open shared object file: No such file or directory\n",
      "2025-07-14 11:10:00.085226: I tensorflow/stream_executor/cuda/cudart_stub.cc:29] Ignore above cudart dlerror if you do not have a GPU set up on your machine.\n",
      "2025-07-14 11:10:00.106942: E tensorflow/stream_executor/cuda/cuda_blas.cc:2981] Unable to register cuBLAS factory: Attempting to register factory for plugin cuBLAS when one has already been registered\n",
      "2025-07-14 11:10:00.649924: W tensorflow/stream_executor/platform/default/dso_loader.cc:64] Could not load dynamic library 'libnvinfer.so.7'; dlerror: libnvinfer.so.7: cannot open shared object file: No such file or directory\n",
      "2025-07-14 11:10:00.649987: W tensorflow/stream_executor/platform/default/dso_loader.cc:64] Could not load dynamic library 'libnvinfer_plugin.so.7'; dlerror: libnvinfer_plugin.so.7: cannot open shared object file: No such file or directory\n",
      "2025-07-14 11:10:00.649992: W tensorflow/compiler/tf2tensorrt/utils/py_utils.cc:38] TF-TRT Warning: Cannot dlopen some TensorRT libraries. If you would like to use Nvidia GPU with TensorRT, please make sure the missing libraries mentioned above are installed properly.\n"
     ]
    }
   ],
   "source": [
    "import os\n",
    "import pandas as pd\n",
    "import numpy as np\n",
    "import matplotlib.pyplot as plt\n",
    "from scipy import signal\n",
    "import tensorflow as tf\n",
    "from sklearn.metrics import classification_report, confusion_matrix, ConfusionMatrixDisplay"
   ]
  },
  {
   "cell_type": "code",
   "execution_count": 3,
   "metadata": {},
   "outputs": [],
   "source": [
    "SAMPLING_RATE = 12000 # Частота дискретизации \n",
    "WINDOW_SIZE = 4096 # Размер фрейма для дробления исходных данных   \n",
    "STEP = 2048 # Шаг фрейма\n",
    "\n",
    "\n",
    "NPERSEG = 2048  # Размер фрейма для создания спектрограммы            \n",
    "NOVERLAP = NPERSEG - 1 #коэф наложения фрейма\n",
    "\n",
    "DPI = 100 # Количество точек на дюйм для изображения\n",
    "IMG_HEIGHT = 257  # Высота изображения \n",
    "IMG_WIDTH = 3585 # Ширина изображения\n",
    "CLASS_NAMES = ['defect', 'normal'] # Классы модели, важен порядок (смотри train.ipynb)"
   ]
  },
  {
   "cell_type": "code",
   "execution_count": 4,
   "metadata": {},
   "outputs": [],
   "source": [
    "def create_spectrogram_from_chunk_normalized(chunk_data, fs):\n",
    "    \"\"\"\n",
    "    Создает нормализованную спектрограмму из фрагмента данных в памяти, не сохраняя на диск.\n",
    "    Возвращает изображение в виде numpy-массива.\n",
    "    \"\"\"\n",
    "    frequencies, times, Zxx = signal.stft(\n",
    "        chunk_data, \n",
    "        fs=fs, \n",
    "        nperseg=NPERSEG, \n",
    "        noverlap=NOVERLAP, \n",
    "        boundary=None\n",
    "    )\n",
    "    Zxx_abs = np.abs(Zxx)\n",
    "    min_val = np.min(Zxx_abs)\n",
    "    max_val = np.max(Zxx_abs)\n",
    "    if max_val > min_val:\n",
    "        Zxx_normalized = (Zxx_abs - min_val) / (max_val - min_val)\n",
    "    else:\n",
    "        Zxx_normalized = np.zeros_like(Zxx_abs)\n",
    "    height, width = IMG_HEIGHT, IMG_WIDTH # Zxx_normalized.shape\n",
    "    dpi = DPI\n",
    "    fig_size = (width / dpi, height / dpi)\n",
    "    fig = plt.figure(figsize=fig_size, dpi=dpi)\n",
    "    ax = plt.Axes(fig, [0., 0., 1., 1.])\n",
    "    ax.set_axis_off()\n",
    "    fig.add_axes(ax)\n",
    "    ax.imshow(Zxx_normalized, cmap='gray', origin='lower', aspect='auto')\n",
    "    fig.canvas.draw()\n",
    "    buf = fig.canvas.buffer_rgba()\n",
    "    img_array = np.frombuffer(buf, dtype=np.uint8).reshape(fig.canvas.get_width_height()[::-1] + (4,))\n",
    "    img_array_rgb = img_array[:, :, :3]\n",
    "    plt.close(fig)\n",
    "    return img_array_rgb"
   ]
  },
  {
   "cell_type": "code",
   "execution_count": 5,
   "metadata": {},
   "outputs": [],
   "source": [
    "def evaluate_model(test_data_dir, model_path):\n",
    "    \"\"\"\n",
    "    Основная функция для оценки модели на тестовом наборе данных.\n",
    "    \"\"\"\n",
    "    print(f\"Загрузка модели из: {model_path}\")\n",
    "    try:\n",
    "        model = tf.keras.models.load_model(model_path)\n",
    "    except Exception as e:\n",
    "        print(f\"Ошибка при загрузке модели: {e}\")\n",
    "        return\n",
    "\n",
    "    y_true = []  \n",
    "    y_pred = []  \n",
    "\n",
    "    for label in CLASS_NAMES:\n",
    "        class_dir = os.path.join(test_data_dir, label)\n",
    "        if not os.path.isdir(class_dir):\n",
    "            print(f\"ПРЕДУПРЕЖДЕНИЕ: Директория для класса '{label}' не найдена, пропускаем.\")\n",
    "            continue\n",
    "\n",
    "        print(f\"\\nОбработка файлов для класса: '{label}'...\")\n",
    "        for filename in os.listdir(class_dir):\n",
    "            if filename.endswith('.csv'):\n",
    "                file_path = os.path.join(class_dir, filename)\n",
    "                print(f\"  -> Файл: {filename}\")\n",
    "                \n",
    "                try:\n",
    "                    df = pd.read_csv(file_path)\n",
    "                    if 'vibration' not in df.columns:\n",
    "                        print(f\"    ПРЕДУПРЕЖДЕНИЕ: В файле {filename} нет колонки 'vibration'. Пропускаем.\")\n",
    "                        continue\n",
    "                    \n",
    "                    signal_data = df['vibration'].values\n",
    "                    \n",
    "                    chunk_predictions = []\n",
    "                    for i in range(0, len(signal_data) - WINDOW_SIZE + 1, STEP):\n",
    "                        chunk = signal_data[i:i + WINDOW_SIZE]\n",
    "                        spectrogram_img = create_spectrogram_from_chunk_normalized(chunk, SAMPLING_RATE)\n",
    "                        img_tensor = tf.expand_dims(spectrogram_img, 0)\n",
    "                        \n",
    "                        prediction = model.predict(img_tensor, verbose=0)\n",
    "                        score = tf.nn.sigmoid(prediction[0][0])\n",
    "                        predicted_class = CLASS_NAMES[1] if score > 0.5 else CLASS_NAMES[0]\n",
    "                        chunk_predictions.append(predicted_class)\n",
    "                    if 'defect' in chunk_predictions:\n",
    "                        final_prediction = 'defect'\n",
    "                    else:\n",
    "                        final_prediction = 'normal'\n",
    "                        \n",
    "                    y_true.append(label)\n",
    "                    y_pred.append(final_prediction)\n",
    "\n",
    "                except Exception as e:\n",
    "                    print(f\"    ОШИБКА при обработке файла {filename}: {e}\")\n",
    "\n",
    "    if not y_true:\n",
    "        print(\"\\nНе удалось обработать ни одного файла. Проверьте структуру папок и формат данных.\")\n",
    "        return\n",
    "\n",
    "    print(\"\\n--- ОТЧЕТ О КАЧЕСТВЕ МОДЕЛИ ---\")\n",
    "    \n",
    "    report = classification_report(y_true, y_pred, target_names=CLASS_NAMES)\n",
    "    print(\"Отчет по классификации:\")\n",
    "    print(report)\n",
    "    \n",
    "    print(\"Матрица ошибок (Confusion Matrix):\")\n",
    "    cm = confusion_matrix(y_true, y_pred, labels=CLASS_NAMES)\n",
    "    print(cm)\n",
    "    \n",
    "    disp = ConfusionMatrixDisplay(confusion_matrix=cm, display_labels=CLASS_NAMES)\n",
    "    disp.plot(cmap=plt.cm.Blues)\n",
    "    plt.title('Матрица ошибок')\n",
    "    plt.show()"
   ]
  },
  {
   "cell_type": "code",
   "execution_count": 6,
   "metadata": {},
   "outputs": [
    {
     "name": "stderr",
     "output_type": "stream",
     "text": [
      "2025-07-14 11:10:01.265463: I tensorflow/core/platform/cpu_feature_guard.cc:193] This TensorFlow binary is optimized with oneAPI Deep Neural Network Library (oneDNN) to use the following CPU instructions in performance-critical operations:  AVX2 AVX512F AVX512_VNNI FMA\n",
      "To enable them in other operations, rebuild TensorFlow with the appropriate compiler flags.\n"
     ]
    },
    {
     "name": "stdout",
     "output_type": "stream",
     "text": [
      "Загрузка модели из: model.keras\n",
      "\n",
      "Обработка файлов для класса: 'defect'...\n",
      "  -> Файл: B007_0.csv\n",
      "  -> Файл: B007_1.csv\n",
      "  -> Файл: B007_2.csv\n",
      "  -> Файл: B007_3.csv\n",
      "\n",
      "Обработка файлов для класса: 'normal'...\n",
      "  -> Файл: Normal_1.csv\n",
      "  -> Файл: Normal_2.csv\n",
      "\n",
      "--- ОТЧЕТ О КАЧЕСТВЕ МОДЕЛИ ---\n",
      "Отчет по классификации:\n",
      "              precision    recall  f1-score   support\n",
      "\n",
      "      defect       1.00      1.00      1.00         4\n",
      "      normal       1.00      1.00      1.00         2\n",
      "\n",
      "    accuracy                           1.00         6\n",
      "   macro avg       1.00      1.00      1.00         6\n",
      "weighted avg       1.00      1.00      1.00         6\n",
      "\n",
      "Матрица ошибок (Confusion Matrix):\n",
      "[[4 0]\n",
      " [0 2]]\n"
     ]
    },
    {
     "data": {
      "image/png": "[encoded data removed]",
      "text/plain": [
       "<Figure size 640x480 with 2 Axes>"
      ]
     },
     "metadata": {},
     "output_type": "display_data"
    }
   ],
   "source": [
    "\n",
    "# Укажите путь к папке с вашими тестовыми CSV файлами\n",
    "PATH_TO_TEST_DATASET = 'csv_cwru_data'\n",
    "\n",
    "# Укажите путь к вашей обученной модели\n",
    "PATH_TO_MODEL = 'model.keras'\n",
    "\n",
    "if not os.path.exists(PATH_TO_TEST_DATASET):\n",
    "    print(f\"Тестовый датасет не найден: {PATH_TO_TEST_DATASET}. Укажите правильный путь.\")\n",
    "elif not os.path.exists(PATH_TO_MODEL):\n",
    "        print(f\"Модель не найдена: {PATH_TO_MODEL}. Укажите правильный путь.\")\n",
    "else:\n",
    "    evaluate_model(PATH_TO_TEST_DATASET, PATH_TO_MODEL)\n"
   ]
  }
 ],
 "metadata": {
  "kernelspec": {
   "display_name": "tf-gpu",
   "language": "python",
   "name": "python3"
  },
  "language_info": {
   "codemirror_mode": {
    "name": "ipython",
    "version": 3
   },
   "file_extension": ".py",
   "mimetype": "text/x-python",
   "name": "python",
   "nbconvert_exporter": "python",
   "pygments_lexer": "ipython3",
   "version": "3.10.18"
  }
 },
 "nbformat": 4,
 "nbformat_minor": 2
}
