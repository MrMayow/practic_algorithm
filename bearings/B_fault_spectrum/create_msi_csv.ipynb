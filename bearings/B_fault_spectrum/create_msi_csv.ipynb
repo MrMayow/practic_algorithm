{
 "cells": [
  {
   "cell_type": "code",
   "execution_count": 1,
   "id": "bc251cbb",
   "metadata": {},
   "outputs": [],
   "source": [
    "import numpy as np\n",
    "import csv\n",
    "from pathlib import Path"
   ]
  },
  {
   "cell_type": "code",
   "execution_count": 2,
   "id": "957c6495",
   "metadata": {},
   "outputs": [],
   "source": [
    "INPUT_NORMAL_FOLDER = \"raw_ims_data/normal\"\n",
    "INPUT_DEFECT_FOLDER = \"raw_ims_data/defect\"\n",
    "\n",
    "OUTPUT_NORMAL_FOLDER = \"csv_ims_data/normal\"\n",
    "OUTPUT_DEFECT_FOLDER = \"csv_ims_data/defect\""
   ]
  },
  {
   "cell_type": "code",
   "execution_count": 3,
   "id": "8c2b2bf2",
   "metadata": {},
   "outputs": [],
   "source": [
    "def extract_data(filename, column):\n",
    "    with open(filename, 'r') as f:\n",
    "        lines = [line.strip() for line in f if line.strip()]\n",
    "    matrix = [list(map(float, line.split())) for line in lines]\n",
    "    arr = np.array(matrix)\n",
    "    return arr[:, column]"
   ]
  },
  {
   "cell_type": "code",
   "execution_count": 4,
   "id": "650fd8a2",
   "metadata": {},
   "outputs": [],
   "source": [
    "def save_to_csv(filename, values, label):\n",
    "    with open(filename, mode='w', newline='', encoding='utf-8') as file:\n",
    "        writer = csv.writer(file)\n",
    "        writer.writerow([label]) \n",
    "        for value in values:\n",
    "            writer.writerow([value])"
   ]
  },
  {
   "cell_type": "code",
   "execution_count": 5,
   "id": "f6b96a03",
   "metadata": {},
   "outputs": [],
   "source": [
    "for file in Path(INPUT_NORMAL_FOLDER).iterdir():\n",
    "    if file.is_file():\n",
    "        data_1 = extract_data(file, 6)\n",
    "        #data_2 = extract_data(file, 7)\n",
    "        save_path = OUTPUT_NORMAL_FOLDER + \"/\" + file.name + \".csv\"\n",
    "        save_to_csv(save_path, data_1, \"vibration\")"
   ]
  },
  {
   "cell_type": "code",
   "execution_count": 6,
   "id": "0e586aca",
   "metadata": {},
   "outputs": [],
   "source": [
    "for file in Path(INPUT_DEFECT_FOLDER).iterdir():\n",
    "    if file.is_file():\n",
    "        data_1 = extract_data(file, 6)\n",
    "        #data_2 = extract_data(file, 7)\n",
    "        save_path = OUTPUT_DEFECT_FOLDER + \"/\" + file.name + \".csv\"\n",
    "        save_to_csv(save_path, data_1, \"vibration\")"
   ]
  }
 ],
 "metadata": {
  "kernelspec": {
   "display_name": "tf_gpu",
   "language": "python",
   "name": "python3"
  },
  "language_info": {
   "codemirror_mode": {
    "name": "ipython",
    "version": 3
   },
   "file_extension": ".py",
   "mimetype": "text/x-python",
   "name": "python",
   "nbconvert_exporter": "python",
   "pygments_lexer": "ipython3",
   "version": "3.10.18"
  }
 },
 "nbformat": 4,
 "nbformat_minor": 5
}
