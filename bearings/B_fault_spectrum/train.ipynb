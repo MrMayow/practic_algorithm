{
 "cells": [
  {
   "cell_type": "code",
   "execution_count": 1,
   "metadata": {},
   "outputs": [],
   "source": [
    "import tensorflow as tf\n",
    "from tensorflow.keras import layers, models\n",
    "import matplotlib.pyplot as plt\n",
    "import numpy as np\n",
    "import os"
   ]
  },
  {
   "cell_type": "code",
   "execution_count": 10,
   "metadata": {},
   "outputs": [],
   "source": [
    "DATASET_DIR = 'output_data_self_norm_16k_1024'\n",
    "SAVE_MODEL_NAME = \"vibration_classifier_model_1024_16k_NORM_e5.keras\"\n",
    "BATCH_SIZE = 16\n",
    "IMG_HEIGHT = 513\n",
    "IMG_WIDTH = 15361\n",
    "EPOCHS = 4\n",
    "os.environ[\"CUDA_VISIBLE_DEVICES\"] = \"-1\""
   ]
  },
  {
   "cell_type": "code",
   "execution_count": 3,
   "metadata": {},
   "outputs": [
    {
     "name": "stdout",
     "output_type": "stream",
     "text": [
      "Загрузка обучающего набора данных\n",
      "Found 72 files belonging to 2 classes.\n",
      "\n",
      "Загрузка валидационного набора данных\n",
      "Found 18 files belonging to 2 classes.\n",
      "\n",
      "Найденные классы: ['defect', 'normal']\n"
     ]
    }
   ],
   "source": [
    "print(\"Загрузка обучающего набора данных\")\n",
    "train_dataset = tf.keras.utils.image_dataset_from_directory(\n",
    "    f'{DATASET_DIR}/train',\n",
    "    seed=123,\n",
    "    image_size=(IMG_HEIGHT, IMG_WIDTH),\n",
    "    batch_size=BATCH_SIZE,\n",
    "    label_mode='binary'\n",
    ")\n",
    "\n",
    "print(\"\\nЗагрузка валидационного набора данных\")\n",
    "validation_dataset = tf.keras.utils.image_dataset_from_directory(\n",
    "    f'{DATASET_DIR}/validation',\n",
    "    seed=123,\n",
    "    image_size=(IMG_HEIGHT, IMG_WIDTH),\n",
    "    batch_size=BATCH_SIZE,\n",
    "    label_mode='binary'\n",
    ")\n",
    "\n",
    "class_names = train_dataset.class_names\n",
    "print(f\"\\nНайденные классы: {class_names}\")"
   ]
  },
  {
   "cell_type": "code",
   "execution_count": 4,
   "metadata": {},
   "outputs": [],
   "source": [
    "AUTOTUNE = tf.data.AUTOTUNE\n",
    "train_dataset = train_dataset.cache().shuffle(1000).prefetch(buffer_size=AUTOTUNE)\n",
    "validation_dataset = validation_dataset.cache().prefetch(buffer_size=AUTOTUNE)"
   ]
  },
  {
   "cell_type": "code",
   "execution_count": 5,
   "metadata": {},
   "outputs": [
    {
     "name": "stdout",
     "output_type": "stream",
     "text": [
      "\n",
      "Создание архитектуры сверточной нейронной сети (CNN)...\n"
     ]
    }
   ],
   "source": [
    "print(\"\\nСоздание архитектуры сверточной нейронной сети (CNN)...\")\n",
    "\n",
    "model = models.Sequential([\n",
    "    layers.Rescaling(1./255, input_shape=(IMG_HEIGHT, IMG_WIDTH, 3)),\n",
    "    \n",
    "    layers.Conv2D(16, (3, 3), padding='same', activation='relu'),\n",
    "    layers.MaxPooling2D(),\n",
    "    \n",
    "    layers.Conv2D(32, (3, 3), padding='same', activation='relu'),\n",
    "    layers.MaxPooling2D(),\n",
    "\n",
    "    layers.Conv2D(64, (3, 3), padding='same', activation='relu'),\n",
    "    layers.MaxPooling2D(),\n",
    "    \n",
    "    layers.Dropout(0.2),\n",
    "\n",
    "    layers.Flatten(), \n",
    "    layers.Dense(128, activation='relu'), \n",
    "    layers.Dense(1)\n",
    "])"
   ]
  },
  {
   "cell_type": "code",
   "execution_count": 6,
   "metadata": {},
   "outputs": [
    {
     "name": "stdout",
     "output_type": "stream",
     "text": [
      "Компиляция модели...\n",
      "Model: \"sequential\"\n",
      "_________________________________________________________________\n",
      " Layer (type)                Output Shape              Param #   \n",
      "=================================================================\n",
      " rescaling (Rescaling)       (None, 513, 15361, 3)     0         \n",
      "                                                                 \n",
      " conv2d (Conv2D)             (None, 513, 15361, 16)    448       \n",
      "                                                                 \n",
      " max_pooling2d (MaxPooling2D  (None, 256, 7680, 16)    0         \n",
      " )                                                               \n",
      "                                                                 \n",
      " conv2d_1 (Conv2D)           (None, 256, 7680, 32)     4640      \n",
      "                                                                 \n",
      " max_pooling2d_1 (MaxPooling  (None, 128, 3840, 32)    0         \n",
      " 2D)                                                             \n",
      "                                                                 \n",
      " conv2d_2 (Conv2D)           (None, 128, 3840, 64)     18496     \n",
      "                                                                 \n",
      " max_pooling2d_2 (MaxPooling  (None, 64, 1920, 64)     0         \n",
      " 2D)                                                             \n",
      "                                                                 \n",
      " dropout (Dropout)           (None, 64, 1920, 64)      0         \n",
      "                                                                 \n",
      " flatten (Flatten)           (None, 7864320)           0         \n",
      "                                                                 \n",
      " dense (Dense)               (None, 128)               1006633088\n",
      "                                                                 \n",
      " dense_1 (Dense)             (None, 1)                 129       \n",
      "                                                                 \n",
      "=================================================================\n",
      "Total params: 1,006,656,801\n",
      "Trainable params: 1,006,656,801\n",
      "Non-trainable params: 0\n",
      "_________________________________________________________________\n"
     ]
    }
   ],
   "source": [
    "print(\"Компиляция модели...\")\n",
    "model.compile(\n",
    "    optimizer='adam',\n",
    "    loss=tf.keras.losses.BinaryCrossentropy(from_logits=True),\n",
    "    metrics=['accuracy']\n",
    ")\n",
    "\n",
    "model.summary()"
   ]
  },
  {
   "cell_type": "code",
   "execution_count": null,
   "metadata": {},
   "outputs": [],
   "source": []
  },
  {
   "cell_type": "code",
   "execution_count": 7,
   "metadata": {},
   "outputs": [
    {
     "name": "stdout",
     "output_type": "stream",
     "text": [
      "\n",
      "Начинаем обучение модели...\n",
      "Epoch 1/4\n",
      "5/5 [==============================] - 74s 16s/step - loss: 19.3718 - accuracy: 0.5972 - val_loss: 1.4820e-04 - val_accuracy: 1.0000\n",
      "Epoch 2/4\n",
      "5/5 [==============================] - 70s 14s/step - loss: 0.2107 - accuracy: 0.9167 - val_loss: 0.0241 - val_accuracy: 1.0000\n",
      "Epoch 3/4\n",
      "5/5 [==============================] - 73s 16s/step - loss: 0.1474 - accuracy: 0.9722 - val_loss: 0.1086 - val_accuracy: 1.0000\n",
      "Epoch 4/4\n",
      "5/5 [==============================] - 82s 17s/step - loss: 0.0687 - accuracy: 1.0000 - val_loss: 0.0302 - val_accuracy: 1.0000\n"
     ]
    }
   ],
   "source": [
    "\n",
    "print(\"\\nНачинаем обучение модели...\")\n",
    "\n",
    "history = model.fit(\n",
    "    train_dataset,\n",
    "    validation_data=validation_dataset,\n",
    "    epochs=EPOCHS\n",
    ")"
   ]
  },
  {
   "cell_type": "code",
   "execution_count": 11,
   "metadata": {},
   "outputs": [
    {
     "name": "stdout",
     "output_type": "stream",
     "text": [
      "\n",
      "Сохранение обученной модели в файл: vibration_classifier_model_1024_16k_NORM_e5.keras\n",
      "Модель успешно сохранена.\n"
     ]
    }
   ],
   "source": [
    "print(f\"\\nСохранение обученной модели в файл: {SAVE_MODEL_NAME}\")\n",
    "model.save(SAVE_MODEL_NAME)\n",
    "print(\"Модель успешно сохранена.\")"
   ]
  }
 ],
 "metadata": {
  "kernelspec": {
   "display_name": "tf_gpu",
   "language": "python",
   "name": "python3"
  },
  "language_info": {
   "codemirror_mode": {
    "name": "ipython",
    "version": 3
   },
   "file_extension": ".py",
   "mimetype": "text/x-python",
   "name": "python",
   "nbconvert_exporter": "python",
   "pygments_lexer": "ipython3",
   "version": "3.10.18"
  }
 },
 "nbformat": 4,
 "nbformat_minor": 2
}
