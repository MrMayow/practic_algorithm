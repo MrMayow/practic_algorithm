{
 "cells": [
  {
   "cell_type": "code",
   "execution_count": 1,
   "metadata": {},
   "outputs": [],
   "source": [
    "import numpy as np\n",
    "import matplotlib.pyplot as plt\n",
    "from scipy import signal\n",
    "import os\n",
    "from pathlib import Path\n",
    "import csv\n",
    "import pandas as pd"
   ]
  },
  {
   "cell_type": "code",
   "execution_count": 2,
   "metadata": {},
   "outputs": [],
   "source": [
    "NORMAL_FOLDER = \"csv_cwru_data/normal\"\n",
    "DEFECT_FOLDER = \"csv_cwru_data/defect\"\n",
    "SAVE_NORMAL_FOLDER = \"data_cwru_train/normal\"\n",
    "SAVE_DEFECT_FOLDER = \"data_cwru_train/defect\"\n",
    "SAMPLING_RATE = 12000\n",
    "FRAME = 512\n",
    "NOVERLAP = FRAME // 2 "
   ]
  },
  {
   "cell_type": "code",
   "execution_count": 3,
   "metadata": {},
   "outputs": [],
   "source": [
    "def create_and_save_spectrogram(signal_data, sampling_rate, save_path, nperseg, noverlap):\n",
    "    \"\"\"\n",
    "    Создает спектрограмму из сигнала и сохраняет ее как изображение.\n",
    "    \n",
    "    Аргументы:\n",
    "    signal_data (np.array): Входной одномерный сигнал (временной ряд).\n",
    "    sampling_rate (int): Частота дискретизации сигнала в Гц.\n",
    "    save_path (str): Полный путь для сохранения файла (включая имя файла, например, 'data/normal/spec_01.png').\n",
    "    \"\"\"\n",
    "\n",
    "    # Создаем спектрограмму\n",
    "    frequencies, times, Zxx = signal.stft(signal_data, fs=sampling_rate, nperseg=nperseg, noverlap=noverlap)\n",
    "    dpi = 256\n",
    "    img_size_px = 1920 \n",
    "    figsize_inch = img_size_px / dpi\n",
    "    \n",
    "    plt.figure(figsize=(figsize_inch, figsize_inch))\n",
    "    \n",
    "    # Отображаем спектрограмму\n",
    "    plt.pcolormesh(times, frequencies, np.log(np.abs(Zxx) + 1e-9), cmap='gray')\n",
    "    \n",
    "    # Убираем все лишнее\n",
    "    plt.axis('off')\n",
    "    plt.gca().set_position([0, 0, 1, 1])\n",
    "    \n",
    "    # Создаем директорию\n",
    "    os.makedirs(os.path.dirname(save_path), exist_ok=True)\n",
    "    \n",
    "    # Сохраняем файл с заданным DPI\n",
    "    plt.savefig(save_path, dpi=dpi)\n",
    "    \n",
    "    plt.close()"
   ]
  },
  {
   "cell_type": "code",
   "execution_count": 4,
   "metadata": {},
   "outputs": [],
   "source": [
    "def read_data(file_path):\n",
    "    with open(file_path, mode='r', newline='') as csv_file:\n",
    "        df = pd.read_csv(file_path)\n",
    "        signal = df['vibration'].values\n",
    "        return signal"
   ]
  },
  {
   "cell_type": "code",
   "execution_count": 5,
   "metadata": {},
   "outputs": [],
   "source": [
    "for file in Path(NORMAL_FOLDER).iterdir():\n",
    "    if file.is_file():\n",
    "        data = read_data(file)\n",
    "        name = file.name.split(\".\")[:-1][0]\n",
    "        save_path = SAVE_NORMAL_FOLDER + \"/\" + name + \".png\"\n",
    "        create_and_save_spectrogram(data, SAMPLING_RATE, save_path, FRAME, NOVERLAP)"
   ]
  },
  {
   "cell_type": "code",
   "execution_count": 6,
   "metadata": {},
   "outputs": [],
   "source": [
    "for file in Path(DEFECT_FOLDER).iterdir():\n",
    "    if file.is_file():\n",
    "        data = read_data(file)\n",
    "        name = file.name.split(\".\")[:-1][0]\n",
    "        save_path = SAVE_DEFECT_FOLDER + \"/\" + name + \".png\"\n",
    "        create_and_save_spectrogram(data, SAMPLING_RATE, save_path, FRAME, NOVERLAP)"
   ]
  }
 ],
 "metadata": {
  "kernelspec": {
   "display_name": ".venv",
   "language": "python",
   "name": "python3"
  },
  "language_info": {
   "codemirror_mode": {
    "name": "ipython",
    "version": 3
   },
   "file_extension": ".py",
   "mimetype": "text/x-python",
   "name": "python",
   "nbconvert_exporter": "python",
   "pygments_lexer": "ipython3",
   "version": "3.12.3"
  }
 },
 "nbformat": 4,
 "nbformat_minor": 2
}
