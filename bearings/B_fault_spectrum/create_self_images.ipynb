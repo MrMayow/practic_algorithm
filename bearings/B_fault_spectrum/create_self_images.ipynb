{
 "cells": [
  {
   "cell_type": "code",
   "execution_count": 6,
   "metadata": {},
   "outputs": [],
   "source": [
    "import numpy as np\n",
    "import matplotlib.pyplot as plt\n",
    "from scipy import signal\n",
    "import os\n",
    "from pathlib import Path"
   ]
  },
  {
   "cell_type": "code",
   "execution_count": 26,
   "metadata": {},
   "outputs": [],
   "source": [
    "NORMAL_FOLDER = \"raw_self_data/normal\"\n",
    "DEFECT_FOLDER = \"raw_self_data/defect\"\n",
    "SAVE_NORMAL_FOLDER = \"data_train/normal\"\n",
    "SAVE_DEFECT_FOLDER = \"data_train/defect\"\n",
    "SAMPLING_RATE = 9000\n",
    "FRAME = 256\n",
    "NOVERLAP = FRAME // 2 "
   ]
  },
  {
   "cell_type": "code",
   "execution_count": null,
   "metadata": {},
   "outputs": [],
   "source": [
    "def create_and_save_spectrogram(signal_data, sampling_rate, save_path, nperseg, noverlap):\n",
    "    \"\"\"\n",
    "    Создает спектрограмму из сигнала и сохраняет ее как изображение.\n",
    "    \n",
    "    Аргументы:\n",
    "    signal_data (np.array): Входной одномерный сигнал (временной ряд).\n",
    "    sampling_rate (int): Частота дискретизации сигнала в Гц.\n",
    "    save_path (str): Полный путь для сохранения файла (включая имя файла, например, 'data/normal/spec_01.png').\n",
    "    \"\"\"\n",
    "\n",
    "    frequencies, times, Zxx = signal.stft(signal_data, fs=sampling_rate, nperseg=nperseg, noverlap=noverlap)\n",
    "    dpi = 100\n",
    "    img_size_px = 256 \n",
    "    figsize_inch = img_size_px / dpi\n",
    "    \n",
    "    plt.figure(figsize=(figsize_inch, figsize_inch))\n",
    "\n",
    "    plt.pcolormesh(times, frequencies, np.log(np.abs(Zxx) + 1e-9), cmap='gray')\n",
    "    \n",
    "    plt.axis('off')\n",
    "    plt.gca().set_position([0, 0, 1, 1])\n",
    "    \n",
    "    os.makedirs(os.path.dirname(save_path), exist_ok=True)\n",
    "    \n",
    "    plt.savefig(save_path, dpi=dpi)\n",
    "    \n",
    "    plt.close()"
   ]
  },
  {
   "cell_type": "code",
   "execution_count": 28,
   "metadata": {},
   "outputs": [],
   "source": [
    "def read_data_raw(FILE_PATH_RAW):\n",
    "    header = []\n",
    "    data = []\n",
    "    with open(FILE_PATH_RAW, 'r') as file:\n",
    "        for line in file:\n",
    "            line = line.strip()\n",
    "            if line == \"Data as Time Sequence:\":\n",
    "                break\n",
    "            if line:  \n",
    "                header.append(line)\n",
    "        \n",
    "        for line in file:\n",
    "            line = line.strip()\n",
    "            if line:  \n",
    "                try:\n",
    "                    value = float(line)\n",
    "                    data.append(value)\n",
    "                except ValueError:\n",
    "                    continue  \n",
    "    return data, header"
   ]
  },
  {
   "cell_type": "code",
   "execution_count": 31,
   "metadata": {},
   "outputs": [],
   "source": [
    "for file in Path(NORMAL_FOLDER).iterdir():\n",
    "    if file.is_file():\n",
    "        data, header = read_data_raw(file)\n",
    "        name = file.name.split(\".\")[:-1][0]\n",
    "        save_path = SAVE_NORMAL_FOLDER + \"/\" + name + \".png\"\n",
    "        create_and_save_spectrogram(data, SAMPLING_RATE, save_path, FRAME, NOVERLAP)"
   ]
  },
  {
   "cell_type": "code",
   "execution_count": 32,
   "metadata": {},
   "outputs": [],
   "source": [
    "for file in Path(DEFECT_FOLDER).iterdir():\n",
    "    if file.is_file():\n",
    "        data, header = read_data_raw(file)\n",
    "        name = file.name.split(\".\")[:-1][0]\n",
    "        save_path = SAVE_DEFECT_FOLDER + \"/\" + name + \".png\"\n",
    "        create_and_save_spectrogram(data, SAMPLING_RATE, save_path, FRAME, NOVERLAP)"
   ]
  }
 ],
 "metadata": {
  "kernelspec": {
   "display_name": ".venv",
   "language": "python",
   "name": "python3"
  },
  "language_info": {
   "codemirror_mode": {
    "name": "ipython",
    "version": 3
   },
   "file_extension": ".py",
   "mimetype": "text/x-python",
   "name": "python",
   "nbconvert_exporter": "python",
   "pygments_lexer": "ipython3",
   "version": "3.12.3"
  }
 },
 "nbformat": 4,
 "nbformat_minor": 2
}
