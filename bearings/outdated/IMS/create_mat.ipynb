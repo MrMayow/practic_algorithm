{
 "cells": [
  {
   "cell_type": "code",
   "execution_count": null,
   "id": "bc251cbb",
   "metadata": {},
   "outputs": [],
   "source": [
    "import numpy as np\n",
    "import csv\n",
    "from pathlib import Path\n",
    "import scipy.io\n",
    "from scipy.signal import resample_poly\n",
    "import pandas as pd\n"
   ]
  },
  {
   "cell_type": "code",
   "execution_count": 3,
   "id": "f6b96a03",
   "metadata": {},
   "outputs": [],
   "source": [
    "from pathlib import Path\n",
    "files = []\n",
    "example_mat = Path(\"example.mat\")\n",
    "directory = Path('raw_data/ball/20k')\n",
    "output_dir = Path('mat_data/ball/20k')\n",
    "for file in directory.iterdir():\n",
    "    if file.is_file():\n",
    "        files.append(file)"
   ]
  },
  {
   "cell_type": "code",
   "execution_count": 4,
   "id": "b72a38b1",
   "metadata": {},
   "outputs": [],
   "source": [
    "import numpy as np\n",
    "import csv\n",
    "\n",
    "def extract_data(filename, column):\n",
    "    with open(filename, 'r') as f:\n",
    "        lines = [line.strip() for line in f if line.strip()]\n",
    "    matrix = [list(map(float, line.split())) for line in lines]\n",
    "    arr = np.array(matrix)\n",
    "    return arr[:, column]"
   ]
  },
  {
   "cell_type": "code",
   "execution_count": 11,
   "id": "8fd173b8",
   "metadata": {},
   "outputs": [
    {
     "name": "stdout",
     "output_type": "stream",
     "text": [
      "dict_keys(['__header__', '__version__', '__globals__', 'X107_DE_time', 'X107_FE_time', 'X107_BA_time', 'X107RPM'])\n",
      "[[-0.09323776]\n",
      " [ 0.1872877 ]\n",
      " [ 0.21766307]\n",
      " ...\n",
      " [ 0.06562379]\n",
      " [-0.184039  ]\n",
      " [-0.04044635]]\n",
      "(122136, 1)\n"
     ]
    }
   ],
   "source": [
    "mat_source = scipy.io.loadmat(\"IR007_2.mat\")\n",
    "print(mat_source.keys())\n",
    "print(mat_source[\"X107_DE_time\"])\n",
    "print(mat_source[\"X107_DE_time\"].shape)"
   ]
  },
  {
   "cell_type": "code",
   "execution_count": 17,
   "id": "3480937f",
   "metadata": {},
   "outputs": [
    {
     "name": "stdout",
     "output_type": "stream",
     "text": [
      "[-0.21   0.054 -0.259 ... -0.149 -0.283 -0.347]\n",
      "[-0.4    0.012  0.288 ... -0.117 -0.186 -0.183]\n",
      "[-0.378 -0.251  0.281 ... -0.251 -0.254 -0.42 ]\n",
      "[-0.112  0.2   -0.322 ...  0.076 -0.039 -0.098]\n",
      "[-0.139 -0.095  0.142 ... -0.105 -0.081  0.042]\n",
      "[-0.02  -0.081 -0.107 ... -0.007  0.105  0.232]\n"
     ]
    }
   ],
   "source": [
    "for file_path in files: \n",
    "    mat_source = scipy.io.loadmat(example_mat)\n",
    "    \n",
    "    data = extract_data(file_path, 7)\n",
    "    print(data)\n",
    "\n",
    "    mat_source[\"X118_DE_time\"] = np.array([[x] for x in data])\n",
    "    file_name = file_path.name\n",
    "    scipy.io.savemat(str(output_dir) + \"/\" + file_name + \".mat\", mat_source)"
   ]
  },
  {
   "cell_type": "code",
   "execution_count": null,
   "id": "4a96705a",
   "metadata": {},
   "outputs": [],
   "source": []
  }
 ],
 "metadata": {
  "kernelspec": {
   "display_name": ".venv",
   "language": "python",
   "name": "python3"
  },
  "language_info": {
   "codemirror_mode": {
    "name": "ipython",
    "version": 3
   },
   "file_extension": ".py",
   "mimetype": "text/x-python",
   "name": "python",
   "nbconvert_exporter": "python",
   "pygments_lexer": "ipython3",
   "version": "3.12.0"
  }
 },
 "nbformat": 4,
 "nbformat_minor": 5
}
