{
 "cells": [
  {
   "cell_type": "code",
   "execution_count": 1,
   "metadata": {},
   "outputs": [],
   "source": [
    "import numpy as np\n",
    "import matplotlib.pyplot as plt\n",
    "from scipy.signal import detrend, butter, filtfilt\n",
    "import scipy.io\n",
    "from pathlib import Path"
   ]
  },
  {
   "cell_type": "code",
   "execution_count": 2,
   "metadata": {},
   "outputs": [],
   "source": [
    "SAMPLE_RATE = 9000\n",
    "FILE_DIR_INPUT = \"raw_data/ball\"\n",
    "FILE_DIR_OUTPUT = \"mat_data/filtered/ball\"\n",
    "EXAMPLE_PATH_MAT = \"example.mat\""
   ]
  },
  {
   "cell_type": "code",
   "execution_count": 3,
   "metadata": {},
   "outputs": [],
   "source": [
    "files = []\n",
    "for file in Path(FILE_DIR_INPUT).iterdir():\n",
    "    if file.is_file():\n",
    "        files.append(file)"
   ]
  },
  {
   "cell_type": "code",
   "execution_count": 4,
   "metadata": {},
   "outputs": [],
   "source": [
    "def read_data_raw(FILE_PATH_RAW):\n",
    "    header = []\n",
    "    data = []\n",
    "    with open(FILE_PATH_RAW, 'r') as file:\n",
    "        for line in file:\n",
    "            line = line.strip()\n",
    "            if line == \"Data as Time Sequence:\":\n",
    "                break\n",
    "            if line:  \n",
    "                header.append(line)\n",
    "        \n",
    "        for line in file:\n",
    "            line = line.strip()\n",
    "            if line:  \n",
    "                try:\n",
    "                    value = float(line)\n",
    "                    data.append(value)\n",
    "                except ValueError:\n",
    "                    continue  \n",
    "    return data, header"
   ]
  },
  {
   "cell_type": "code",
   "execution_count": 5,
   "metadata": {},
   "outputs": [],
   "source": [
    "def find_peak_frequency_in_range(signal, sampling_rate, f_min, f_max):\n",
    "    n = len(signal)\n",
    "    freq = np.fft.rfftfreq(n, d=1/sampling_rate)\n",
    "    fft_values = np.fft.rfft(signal)\n",
    "    magnitude = np.abs(fft_values)\n",
    "    mask = (freq >= f_min) & (freq <= f_max)\n",
    "    freq_in_range = freq[mask]\n",
    "    magnitude_in_range = magnitude[mask]\n",
    "    if len(magnitude_in_range) == 0:\n",
    "        return None, None\n",
    "    max_index = np.argmax(magnitude_in_range)\n",
    "    peak_frequency = freq_in_range[max_index]\n",
    "    peak_amplitude = magnitude_in_range[max_index]\n",
    "    return peak_frequency, peak_amplitude"
   ]
  },
  {
   "cell_type": "code",
   "execution_count": 6,
   "metadata": {},
   "outputs": [],
   "source": [
    "def butter_bandstop(lowcut, highcut, fs, order=6):\n",
    "    nyq = 0.5 * fs\n",
    "    low = lowcut / nyq\n",
    "    high = highcut / nyq\n",
    "    b, a = butter(order, [low, high], btype='bandstop')\n",
    "    return b, a\n",
    "\n",
    "def butter_bandstop_filter(data, lowcut, highcut, fs, order=6):\n",
    "    b, a = butter_bandstop(lowcut, highcut, fs, order=order)\n",
    "    y = filtfilt(b, a, data)\n",
    "    return y"
   ]
  },
  {
   "cell_type": "code",
   "execution_count": 7,
   "metadata": {},
   "outputs": [
    {
     "name": "stderr",
     "output_type": "stream",
     "text": [
      "/home/maybe/Рабочий стол/github/.venv/lib/python3.12/site-packages/scipy/io/matlab/_mio.py:317: MatWriteWarning: Starting field name with a underscore (__header__) is ignored\n",
      "  MW.put_variables(mdict)\n",
      "/home/maybe/Рабочий стол/github/.venv/lib/python3.12/site-packages/scipy/io/matlab/_mio.py:317: MatWriteWarning: Starting field name with a underscore (__version__) is ignored\n",
      "  MW.put_variables(mdict)\n",
      "/home/maybe/Рабочий стол/github/.venv/lib/python3.12/site-packages/scipy/io/matlab/_mio.py:317: MatWriteWarning: Starting field name with a underscore (__globals__) is ignored\n",
      "  MW.put_variables(mdict)\n"
     ]
    }
   ],
   "source": [
    "for file in files:\n",
    "    signal, header = read_data_raw(file)\n",
    "    peak_freq, peak_vibr = find_peak_frequency_in_range(signal, SAMPLE_RATE, 1, 30)\n",
    "    lowcut = peak_freq - 2\n",
    "    highcut = peak_freq + 2\n",
    "    filtered_signal = butter_bandstop_filter(signal, lowcut, highcut, SAMPLE_RATE, order=2)\n",
    "    mat_source = scipy.io.loadmat(EXAMPLE_PATH_MAT)\n",
    "    mat_source[\"X118_DE_time\"] = np.array([[x] for x in filtered_signal])\n",
    "    file_name = file.name.split(\".\")[:-1][0]\n",
    "    scipy.io.savemat(str(FILE_DIR_OUTPUT) + \"/\" + file_name + \".mat\", mat_source)"
   ]
  }
 ],
 "metadata": {
  "kernelspec": {
   "display_name": ".venv",
   "language": "python",
   "name": "python3"
  },
  "language_info": {
   "codemirror_mode": {
    "name": "ipython",
    "version": 3
   },
   "file_extension": ".py",
   "mimetype": "text/x-python",
   "name": "python",
   "nbconvert_exporter": "python",
   "pygments_lexer": "ipython3",
   "version": "3.12.3"
  }
 },
 "nbformat": 4,
 "nbformat_minor": 2
}
