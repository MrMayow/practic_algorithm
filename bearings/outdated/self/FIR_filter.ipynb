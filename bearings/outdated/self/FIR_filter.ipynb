{
 "cells": [
  {
   "cell_type": "code",
   "execution_count": 1,
   "metadata": {},
   "outputs": [],
   "source": [
    "import numpy as np\n",
    "import matplotlib.pyplot as plt\n",
    "from scipy.signal import detrend, filtfilt, firwin, lfilter\n",
    "import scipy.io\n",
    "from pathlib import Path"
   ]
  },
  {
   "cell_type": "code",
   "execution_count": null,
   "metadata": {},
   "outputs": [],
   "source": [
    "SAMPLE_RATE = 9000\n",
    "FILE_DIR_INPUT = \"raw_data/ball\"\n",
    "FILE_DIR_OUTPUT = \"mat_data/filtered_FIR/ball\"\n",
    "EXAMPLE_PATH_MAT = \"example.mat\""
   ]
  },
  {
   "cell_type": "code",
   "execution_count": 3,
   "metadata": {},
   "outputs": [],
   "source": [
    "files = []\n",
    "for file in Path(FILE_DIR_INPUT).iterdir():\n",
    "    if file.is_file():\n",
    "        files.append(file)"
   ]
  },
  {
   "cell_type": "code",
   "execution_count": 11,
   "metadata": {},
   "outputs": [],
   "source": [
    "def read_data_raw(FILE_PATH_RAW):\n",
    "    header = []\n",
    "    data = []\n",
    "    with open(FILE_PATH_RAW, 'r') as file:\n",
    "        for line in file:\n",
    "            line = line.strip()\n",
    "            if line == \"Data as Time Sequence:\":\n",
    "                break\n",
    "            if line:  \n",
    "                header.append(line)\n",
    "        \n",
    "        for line in file:\n",
    "            line = line.strip()\n",
    "            if line:  \n",
    "                try:\n",
    "                    value = float(line)\n",
    "                    data.append(value)\n",
    "                except ValueError:\n",
    "                    continue  \n",
    "    return data, header"
   ]
  },
  {
   "cell_type": "code",
   "execution_count": 12,
   "metadata": {},
   "outputs": [],
   "source": [
    "def find_peak_frequency_in_range(signal, sampling_rate, f_min, f_max):\n",
    "    n = len(signal)\n",
    "    freq = np.fft.rfftfreq(n, d=1/sampling_rate)\n",
    "    fft_values = np.fft.rfft(signal)\n",
    "    magnitude = np.abs(fft_values)\n",
    "    mask = (freq >= f_min) & (freq <= f_max)\n",
    "    freq_in_range = freq[mask]\n",
    "    magnitude_in_range = magnitude[mask]\n",
    "    if len(magnitude_in_range) == 0:\n",
    "        return None, None\n",
    "    max_index = np.argmax(magnitude_in_range)\n",
    "    peak_frequency = freq_in_range[max_index]\n",
    "    peak_amplitude = magnitude_in_range[max_index]\n",
    "    return peak_frequency, peak_amplitude"
   ]
  },
  {
   "cell_type": "code",
   "execution_count": 13,
   "metadata": {},
   "outputs": [],
   "source": [
    "def fir_bandstop(numtaps, lowcut, highcut, fs):\n",
    "    # numtaps — число коэффициентов (порядок фильтра + 1)\n",
    "    taps = firwin(\n",
    "        numtaps=numtaps,\n",
    "        cutoff=[lowcut, highcut],\n",
    "        fs=fs,\n",
    "        pass_zero='bandstop'\n",
    "    )\n",
    "    return taps"
   ]
  },
  {
   "cell_type": "code",
   "execution_count": 17,
   "metadata": {},
   "outputs": [
    {
     "name": "stdout",
     "output_type": "stream",
     "text": [
      "mat_data/filtered_FIR/normal/30Hz_accelerometer.mat\n",
      "mat_data/filtered_FIR/normal/20Hz_accelerometer.mat\n",
      "mat_data/filtered_FIR/normal/40Hz_accelerometer.mat\n",
      "mat_data/filtered_FIR/normal/10Hz_accelerometer.mat\n",
      "mat_data/filtered_FIR/normal/50Hz_accelerometer.mat\n"
     ]
    }
   ],
   "source": [
    "for file in files:\n",
    "    signal, header = read_data_raw(file)\n",
    "    peak_freq, peak_vibr = find_peak_frequency_in_range(signal, SAMPLE_RATE, 1, 30)\n",
    "    lowcut = peak_freq - 2\n",
    "    highcut = peak_freq + 2\n",
    "    taps = firwin(8001, [lowcut, highcut], pass_zero=True, fs=SAMPLE_RATE)\n",
    "    filtered_signal = lfilter(taps, 1.0, signal)\n",
    "    mat_source = scipy.io.loadmat(EXAMPLE_PATH_MAT)\n",
    "    mat_source[\"X118_DE_time\"] = np.array([[x] for x in filtered_signal])\n",
    "    \n",
    "    file_name = file.name.split(\".\")[:-1][0]\n",
    "    print(str(FILE_DIR_OUTPUT) + \"/\" + file_name + \".mat\")\n",
    "    scipy.io.savemat(str(FILE_DIR_OUTPUT) + \"/\" + file_name + \".mat\", mat_source)"
   ]
  }
 ],
 "metadata": {
  "kernelspec": {
   "display_name": ".venv",
   "language": "python",
   "name": "python3"
  },
  "language_info": {
   "codemirror_mode": {
    "name": "ipython",
    "version": 3
   },
   "file_extension": ".py",
   "mimetype": "text/x-python",
   "name": "python",
   "nbconvert_exporter": "python",
   "pygments_lexer": "ipython3",
   "version": "3.12.3"
  }
 },
 "nbformat": 4,
 "nbformat_minor": 2
}
