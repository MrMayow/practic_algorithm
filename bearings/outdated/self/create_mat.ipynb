{
 "cells": [
  {
   "cell_type": "code",
   "execution_count": 1,
   "id": "bc251cbb",
   "metadata": {},
   "outputs": [],
   "source": [
    "import numpy as np\n",
    "import csv\n",
    "from pathlib import Path\n",
    "import scipy.io\n",
    "from scipy.signal import resample_poly, butter, filtfilt\n",
    "import pandas as pd"
   ]
  },
  {
   "cell_type": "code",
   "execution_count": 11,
   "id": "f6b96a03",
   "metadata": {},
   "outputs": [],
   "source": [
    "from pathlib import Path\n",
    "files = []\n",
    "example_mat = Path(\"example.mat\")\n",
    "directory = Path('raw_data/ball')\n",
    "output_dir = Path('mat_data/filtered/ball')\n",
    "for file in directory.iterdir():\n",
    "    if file.is_file():\n",
    "        files.append(file)"
   ]
  },
  {
   "cell_type": "code",
   "execution_count": 3,
   "id": "b72a38b1",
   "metadata": {},
   "outputs": [],
   "source": [
    "def extract_data(file_path):\n",
    "    header = []\n",
    "    data = []\n",
    "    with open(file_path, 'r') as file:\n",
    "        for line in file:\n",
    "            line = line.strip()\n",
    "            if line == \"Data as Time Sequence:\":\n",
    "                break\n",
    "            if line:  \n",
    "                header.append(line)\n",
    "        \n",
    "        for line in file:\n",
    "            line = line.strip()\n",
    "            if line:  \n",
    "                try:\n",
    "                    value = float(line)\n",
    "                    data.append(value)\n",
    "                except ValueError:\n",
    "                    continue  \n",
    "    \n",
    "    return header, data"
   ]
  },
  {
   "cell_type": "code",
   "execution_count": 4,
   "id": "07b893cb",
   "metadata": {},
   "outputs": [],
   "source": [
    "def filter(data, fs = 9000, cutoff = 30):                    \n",
    "    acc = data\n",
    "    time = np.arange(len(acc)) / fs\n",
    "    order = 4  \n",
    "    b, a = butter(N=order, Wn=cutoff/(fs/2), btype='high')\n",
    "    acc_filtered = filtfilt(b, a, acc)\n",
    "    return acc_filtered "
   ]
  },
  {
   "cell_type": "code",
   "execution_count": null,
   "id": "285af457",
   "metadata": {},
   "outputs": [],
   "source": [
    "def bandstop_filter(data, fs=9000, lowcut=10, highcut=40, order=4):\n",
    "    nyq = 0.5 * fs\n",
    "    low = lowcut / nyq\n",
    "    high = highcut / nyq\n",
    "    b, a = butter(order, [low, high], btype='bandstop')\n",
    "    filtered_data = filtfilt(b, a, data)\n",
    "    print(filtered_data)\n",
    "    return filtered_data\n"
   ]
  },
  {
   "cell_type": "code",
   "execution_count": 33,
   "id": "3480937f",
   "metadata": {},
   "outputs": [
    {
     "name": "stdout",
     "output_type": "stream",
     "text": [
      "[ 0.44322898  0.4471775   0.44154178 ... -0.02647729 -0.0264396\n",
      " -0.03030928]\n",
      "[ 2.11863482  2.11475148  2.13477952 ... -0.02267656  0.00428924\n",
      " -0.01852891]\n",
      "[-0.63592317 -0.66890093 -0.67099042 ...  0.54801221  0.52838572\n",
      "  0.53001684]\n",
      "[-1.03236608 -1.048182   -1.0678466  ... -0.05385931 -0.01158907\n",
      " -0.04967089]\n",
      "[-10.69476035 -10.76909543 -10.51762393 ...  -0.60017934  -0.52693146\n",
      "  -0.48975813]\n",
      "[-7.13918205e-04 -6.41035443e-04 -5.88209325e-04 ...  1.23922743e+00\n",
      "  1.24207552e+00  1.24320160e+00]\n"
     ]
    }
   ],
   "source": [
    "for file_path in files: \n",
    "    mat_source = scipy.io.loadmat(example_mat)\n",
    "    header, data = extract_data(file_path)\n",
    "    filtered_data = bandstop_filter(data) #filter\n",
    "    mat_source[\"X118_DE_time\"] = np.array([[x] for x in filtered_data])\n",
    "    file_name = file_path.name.split(\".\")[:-1][0]\n",
    "    scipy.io.savemat(str(output_dir) + \"/\" + file_name + \".mat\", mat_source)"
   ]
  },
  {
   "cell_type": "code",
   "execution_count": null,
   "id": "4a96705a",
   "metadata": {},
   "outputs": [],
   "source": []
  }
 ],
 "metadata": {
  "kernelspec": {
   "display_name": ".venv",
   "language": "python",
   "name": "python3"
  },
  "language_info": {
   "codemirror_mode": {
    "name": "ipython",
    "version": 3
   },
   "file_extension": ".py",
   "mimetype": "text/x-python",
   "name": "python",
   "nbconvert_exporter": "python",
   "pygments_lexer": "ipython3",
   "version": "3.12.0"
  }
 },
 "nbformat": 4,
 "nbformat_minor": 5
}
