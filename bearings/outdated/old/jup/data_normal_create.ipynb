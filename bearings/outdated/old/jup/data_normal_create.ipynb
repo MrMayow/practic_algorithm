{
 "cells": [
  {
   "cell_type": "code",
   "execution_count": 2,
   "id": "392e0373",
   "metadata": {},
   "outputs": [],
   "source": [
    "import numpy as np\n",
    "import csv\n",
    "from pathlib import Path"
   ]
  },
  {
   "cell_type": "code",
   "execution_count": 3,
   "id": "8db83576",
   "metadata": {},
   "outputs": [],
   "source": [
    "from pathlib import Path\n",
    "files = []\n",
    "directory = Path('IMS_data/RAW/Normal')\n",
    "for file in directory.iterdir():\n",
    "    if file.is_file():\n",
    "        files.append(file)"
   ]
  },
  {
   "cell_type": "code",
   "execution_count": 5,
   "id": "d1b339ef",
   "metadata": {},
   "outputs": [],
   "source": [
    "data_rows = []\n",
    "for file in files:\n",
    "    lines = []\n",
    "    with open(file, 'r') as f:\n",
    "        lines = [line.strip() for line in f if line.strip()]\n",
    "\n",
    "    matrix = [list(map(float, line.split())) for line in lines]\n",
    "    arr = np.array(matrix)\n",
    "\n",
    "    data_rows.append(arr[:, 1])\n",
    "    data_rows.append(arr[:, 3])\n",
    "    data_rows.append(arr[:, 5])\n",
    "    data_rows.append(arr[:, 7])"
   ]
  },
  {
   "cell_type": "code",
   "execution_count": null,
   "id": "5825725e",
   "metadata": {},
   "outputs": [
    {
     "name": "stdout",
     "output_type": "stream",
     "text": [
      "0 [-0.039 -0.017 -0.098 ... -0.303  0.076  0.098]\n",
      "1 [-0.054 -0.183 -0.125 ... -0.125 -0.332 -0.059]\n",
      "2 [-0.134  0.029 -0.007 ... -0.251 -0.002 -0.342]\n",
      "3 [-0.142 -0.122 -0.071 ...  0.007 -0.005 -0.276]\n",
      "4 [-0.076 -0.068 -0.12  ... -0.081 -0.02  -0.073]\n",
      "5 [-0.144 -0.083 -0.212 ... -0.059 -0.115 -0.176]\n",
      "6 [-0.002 -0.076 -0.112 ... -0.107 -0.117 -0.068]\n",
      "7 [-0.051 -0.085 -0.054 ... -0.173 -0.068 -0.059]\n",
      "8 [-0.049 -0.044 -0.112 ... -0.042  0.042 -0.054]\n",
      "9 [-0.081 -0.149 -0.178 ...  0.022 -0.054 -0.024]\n",
      "10 [-0.222 -0.142 -0.103 ... -0.063  0.005 -0.022]\n",
      "11 [-0.129 -0.146 -0.078 ... -0.115 -0.11  -0.093]\n",
      "12 [-0.034 -0.139 -0.208 ... -0.105 -0.166 -0.127]\n",
      "13 [-0.137 -0.103 -0.002 ... -0.061 -0.056 -0.125]\n",
      "14 [-0.017 -0.107 -0.073 ...  0.115 -0.327 -0.239]\n",
      "15 [-0.063 -0.037 -0.054 ... -0.085 -0.007  0.015]\n",
      "16 [-0.244 -0.098 -0.166 ... -0.222 -0.024 -0.129]\n",
      "17 [-0.027 -0.027 -0.059 ... -0.088 -0.107 -0.076]\n",
      "18 [-0.103 -0.039 -0.071 ... -0.195 -0.195 -0.161]\n",
      "19 [-0.046 -0.032 -0.122 ... -0.107 -0.066  0.037]\n",
      "20 [-0.181 -0.085 -0.137 ... -0.146 -0.176 -0.154]\n",
      "21 [-0.061 -0.139 -0.1   ... -0.081 -0.117 -0.078]\n",
      "22 [-0.088 -0.051 -0.217 ... -0.171 -0.037 -0.088]\n",
      "23 [-0.168 -0.332 -0.083 ... -0.146 -0.125 -0.154]\n"
     ]
    }
   ],
   "source": [
    "def save_to_csv(filename, values, header):\n",
    "    with open(filename, mode='w', newline='', encoding='utf-8') as file:\n",
    "        writer = csv.writer(file)\n",
    "        writer.writerow([header]) \n",
    "        for value in values:\n",
    "            writer.writerow([value])\n",
    "\n",
    "for i, row in enumerate(data_rows):\n",
    "    save_to_csv(f\"N_{i}.csv\", row, \"vibration\")\n",
    "   "
   ]
  }
 ],
 "metadata": {
  "kernelspec": {
   "display_name": ".venv",
   "language": "python",
   "name": "python3"
  },
  "language_info": {
   "codemirror_mode": {
    "name": "ipython",
    "version": 3
   },
   "file_extension": ".py",
   "mimetype": "text/x-python",
   "name": "python",
   "nbconvert_exporter": "python",
   "pygments_lexer": "ipython3",
   "version": "3.12.0"
  }
 },
 "nbformat": 4,
 "nbformat_minor": 5
}
