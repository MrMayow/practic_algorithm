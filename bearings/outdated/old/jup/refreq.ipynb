{
 "cells": [
  {
   "cell_type": "code",
   "execution_count": 1,
   "id": "ef45cec1",
   "metadata": {},
   "outputs": [],
   "source": [
    "import numpy as np\n",
    "import csv\n",
    "from pathlib import Path\n",
    "import scipy.io\n",
    "from scipy.signal import resample_poly\n",
    "import pandas as pd"
   ]
  },
  {
   "cell_type": "code",
   "execution_count": 2,
   "id": "345b0b60",
   "metadata": {},
   "outputs": [],
   "source": [
    "from pathlib import Path\n",
    "files = []\n",
    "directory = Path('Data/48')\n",
    "output_dir = Path('Data/9kn')\n",
    "for file in directory.iterdir():\n",
    "    if file.is_file():\n",
    "        files.append(file)"
   ]
  },
  {
   "cell_type": "code",
   "execution_count": null,
   "id": "255246f2",
   "metadata": {},
   "outputs": [],
   "source": [
    "for file_path in files: \n",
    "    \n",
    "    Bearing_data = scipy.io.loadmat(file_path)\n",
    "    print(Bearing_data.keys())\n",
    "    label = None\n",
    "    for key in Bearing_data.keys():\n",
    "        if \"DE_time\" in key:\n",
    "            label = key\n",
    "            break\n",
    "  \n",
    "    signal = Bearing_data[label].flatten()\n",
    "    up = 1\n",
    "    down = 4  # 12kHz * 3/4 = 9kHz\n",
    "    resampled_signal = resample_poly(signal, up, down)\n",
    "    print(f\"Было точек: {len(signal)}\")      \n",
    "    print(f\"Стало точек: {len(resampled_signal)}\")  \n",
    "    Bearing_data[label] = [[x] for x in resampled_signal]\n",
    "    file_name = file_path.name\n",
    "    scipy.io.savemat(str(output_dir) + \"/\" + file_name, Bearing_data)\n"
   ]
  }
 ],
 "metadata": {
  "kernelspec": {
   "display_name": ".venv",
   "language": "python",
   "name": "python3"
  },
  "language_info": {
   "codemirror_mode": {
    "name": "ipython",
    "version": 3
   },
   "file_extension": ".py",
   "mimetype": "text/x-python",
   "name": "python",
   "nbconvert_exporter": "python",
   "pygments_lexer": "ipython3",
   "version": "3.12.0"
  }
 },
 "nbformat": 4,
 "nbformat_minor": 5
}
