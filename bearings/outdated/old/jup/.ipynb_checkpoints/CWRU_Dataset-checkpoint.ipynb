{
 "cells": [
  {
   "cell_type": "markdown",
   "metadata": {},
   "source": [
    "# Prerequisites\n",
    "Understanding in\n",
    "- machine learning and deep learning\n",
    "- python syntax\n",
    "- python libraries: numpy, pandas, Pytorch"
   ]
  },
  {
   "cell_type": "markdown",
   "metadata": {},
   "source": [
    "# Introduction\n",
    "This notebook shows the study of the [CWRU Bearing Dataset](https://csegroups.case.edu/bearingdatacenter/home), which contains data of normal and fault bearings. Artificial defects of different diameters (0.007 ~ 0.028 Inches) are manufactured at different locations of the bearings: inner raceway(IR), outer raceway(OR) and ball(B) defects. \n",
    "\n",
    "Vibration data was recorded for motor loads of 0 to 3 hp (motor speed of 1797 to 1720 RPM) using accelerometers at the drive end (DE) and fan end (FE) and the data is stored as Matlab files. The sampling rate is 12 kHz and each Matlab file contains between ~120k to ~240k sample points. For more information please refer to the [website](https://csegroups.case.edu/bearingdatacenter/home).\n",
    "\n",
    "This study focuses on the classification of the drive end bearing defects using only the signal data at **DE**. It is a **multiclass classification** problem. The input is the vibration signal data at DE and the output is the type of defects:\n",
    "- 0 : Normal (N), \n",
    "- 1 : Fault at Ball (B),\n",
    "- 2 : Fault at Inner Raceway (IR), \n",
    "- 3 : Fault at Outer Raceway (OR), \n"
   ]
  },
  {
   "cell_type": "markdown",
   "metadata": {},
   "source": [
    "\n",
    "# Import"
   ]
  },
  {
   "cell_type": "code",
   "execution_count": 1,
   "metadata": {
    "code_folding": []
   },
   "outputs": [
    {
     "name": "stderr",
     "output_type": "stream",
     "text": [
      "C:\\Users\\scree\\Desktop\\bearings\\.venv\\Lib\\site-packages\\tqdm\\auto.py:21: TqdmWarning: IProgress not found. Please update jupyter and ipywidgets. See https://ipywidgets.readthedocs.io/en/stable/user_install.html\n",
      "  from .autonotebook import tqdm as notebook_tqdm\n"
     ]
    }
   ],
   "source": [
    "# Data science libraries\n",
    "import scipy.io\n",
    "import matplotlib.pyplot as plt\n",
    "import numpy as np\n",
    "import pandas as pd\n",
    "from sklearn.model_selection import train_test_split\n",
    "\n",
    "# Pytorch\n",
    "import torch\n",
    "from torch import nn\n",
    "from torch.nn import functional as F\n",
    "from torch import Tensor\n",
    "from torch.utils.data import TensorDataset, DataLoader\n",
    "from torch import optim\n",
    "from torch.nn.modules.loss import CrossEntropyLoss\n",
    "\n",
    "# Others\n",
    "from IPython.core.debugger import set_trace\n",
    "from pathlib import Path\n",
    "\n",
    "from helper import get_df_all, download\n",
    "from train_helper import get_dataloader, fit, validate \n",
    "import nn_model\n",
    "from data_urls import URLS"
   ]
  },
  {
   "cell_type": "code",
   "execution_count": 2,
   "metadata": {},
   "outputs": [],
   "source": [
    "working_dir = Path('.')\n",
    "DATA_PATH = Path(\"./Data\")\n",
    "save_model_path = working_dir / 'Model'\n",
    "DE_path = DATA_PATH / '12k_DE'\n",
    "\n",
    "for path in [DATA_PATH, save_model_path]:\n",
    "    if not path.exists():\n",
    "        path.mkdir(parents=True)"
   ]
  },
  {
   "cell_type": "code",
   "execution_count": 3,
   "metadata": {},
   "outputs": [],
   "source": [
    "# # Uncomment this to download the 12k_DE data if needed\n",
    "# for name, url in URLS[\"DE_12k\"].items():\n",
    "#     download(url, DE_path, name, suffix=\".mat\")"
   ]
  },
  {
   "cell_type": "code",
   "execution_count": 4,
   "metadata": {},
   "outputs": [
    {
     "name": "stdout",
     "output_type": "stream",
     "text": [
      "cuda\n"
     ]
    }
   ],
   "source": [
    "#### HYPERPARAMETERS ####\n",
    "bs = 64\n",
    "lr = 0.001\n",
    "wd = 1e-5\n",
    "betas=(0.99, 0.999)\n",
    "device = torch.device(\"cuda\") if torch.cuda.is_available() else torch.device(\"cpu\")\n",
    "print(device)\n",
    "random_seed = 42"
   ]
  },
  {
   "cell_type": "markdown",
   "metadata": {},
   "source": [
    "# Load Data and Preprocessing"
   ]
  },
  {
   "cell_type": "code",
   "execution_count": 5,
   "metadata": {},
   "outputs": [
    {
     "name": "stdout",
     "output_type": "stream",
     "text": [
      "                                                         DE_time  \\\n",
      "B007_0.mat     [[-0.0027613972055888225], [-0.096324031936127...   \n",
      "B007_1.mat     [[-0.07212119760479042], [0.30310395209580837]...   \n",
      "B007_2.mat     [[-0.3144744111776447], [0.12198878243512974],...   \n",
      "B007_3.mat     [[0.09031393213572854], [0.22497265469061875],...   \n",
      "B014_0.mat     [[-0.46781317365269465], [0.1790035129740519],...   \n",
      "...                                                          ...   \n",
      "OR021@3_3.mat  [[0.08868958083832335], [0.06854762475049901],...   \n",
      "OR021@6_0.mat  [[0.10436457085828342], [0.017461776447105788]...   \n",
      "OR021@6_1.mat  [[-0.025989620758483035], [-0.0272078842315369...   \n",
      "OR021@6_2.mat  [[-0.08771497005988023], [-0.00203043912175648...   \n",
      "OR021@6_3.mat  [[-0.27613972055888225], [0.0625375249500998],...   \n",
      "\n",
      "                                                         FE_time  \\\n",
      "B007_0.mat     [[-0.24716181818181818], [0.14279090909090908]...   \n",
      "B007_1.mat     [[0.07745636363636363], [0.045610909090909084]...   \n",
      "B007_2.mat     [[0.1479272727272727], [-0.044994545454545454]...   \n",
      "B007_3.mat     [[0.07232], [-0.007807272727272727], [0.123272...   \n",
      "B014_0.mat     [[0.09697454545454545], [0.27058363636363636],...   \n",
      "...                                                          ...   \n",
      "OR021@3_3.mat  [[0.28106181818181813], [0.23031454545454547],...   \n",
      "OR021@6_0.mat  [[0.10909636363636364], [0.09800181818181818],...   \n",
      "OR021@6_1.mat  [[0.0034927272727272728], [0.04725454545454546...   \n",
      "OR021@6_2.mat  [[0.36016181818181814], [0.04889818181818182],...   \n",
      "OR021@6_3.mat  [[0.3069490909090909], [-0.1528581818181818], ...   \n",
      "\n",
      "                                                         BA_time       RPM  \\\n",
      "B007_0.mat     [[0.015531632047477748], [0.016939940652818994...  [[1796]]   \n",
      "B007_1.mat     [[0.07327228486646885], [0.06932902077151336],...  [[1772]]   \n",
      "B007_2.mat     [[-0.01126646884272997], [0.02265364985163205]...  [[1748]]   \n",
      "B007_3.mat     [[-0.05460213649851632], [-0.05778089020771514...  [[1722]]   \n",
      "B014_0.mat     [[0.0016497329376854602], [0.08047477744807123...  [[1796]]   \n",
      "...                                                          ...       ...   \n",
      "OR021@3_3.mat  [[-0.32656642927794266], [-0.34403374876360043...  [[1719]]   \n",
      "OR021@6_0.mat  [[0.03557859545004946], [-0.03227831849653808]...  [[1796]]   \n",
      "OR021@6_1.mat  [[0.029541503461918896], [0.005071157270029674...  [[1771]]   \n",
      "OR021@6_2.mat  [[0.02173353115727003], [0.060290425321463906]...  [[1748]]   \n",
      "OR021@6_3.mat  [[0.04934316518298714], [0.023343422354104852]...  [[1721]]   \n",
      "\n",
      "               ans  \n",
      "B007_0.mat     NaN  \n",
      "B007_1.mat     NaN  \n",
      "B007_2.mat     NaN  \n",
      "B007_3.mat     NaN  \n",
      "B014_0.mat     NaN  \n",
      "...            ...  \n",
      "OR021@3_3.mat  NaN  \n",
      "OR021@6_0.mat  NaN  \n",
      "OR021@6_1.mat  NaN  \n",
      "OR021@6_2.mat  NaN  \n",
      "OR021@6_3.mat  NaN  \n",
      "\n",
      "[64 rows x 5 columns]\n",
      "AAAAAAAAAAAAAAAAAAAAAAAAAAAAAAAAAAAAAAAAAAAAAAAAAAAAAAAAAAAAAAAAAA\n",
      "         filename                                            DE_time  \\\n",
      "0      B007_0.mat  [[-0.0027613972055888225], [-0.096324031936127...   \n",
      "1      B007_1.mat  [[-0.07212119760479042], [0.30310395209580837]...   \n",
      "2      B007_2.mat  [[-0.3144744111776447], [0.12198878243512974],...   \n",
      "3      B007_3.mat  [[0.09031393213572854], [0.22497265469061875],...   \n",
      "4      B014_0.mat  [[-0.46781317365269465], [0.1790035129740519],...   \n",
      "..            ...                                                ...   \n",
      "59  OR021@3_3.mat  [[0.08868958083832335], [0.06854762475049901],...   \n",
      "60  OR021@6_0.mat  [[0.10436457085828342], [0.017461776447105788]...   \n",
      "61  OR021@6_1.mat  [[-0.025989620758483035], [-0.0272078842315369...   \n",
      "62  OR021@6_2.mat  [[-0.08771497005988023], [-0.00203043912175648...   \n",
      "63  OR021@6_3.mat  [[-0.27613972055888225], [0.0625375249500998],...   \n",
      "\n",
      "                                              FE_time  \\\n",
      "0   [[-0.24716181818181818], [0.14279090909090908]...   \n",
      "1   [[0.07745636363636363], [0.045610909090909084]...   \n",
      "2   [[0.1479272727272727], [-0.044994545454545454]...   \n",
      "3   [[0.07232], [-0.007807272727272727], [0.123272...   \n",
      "4   [[0.09697454545454545], [0.27058363636363636],...   \n",
      "..                                                ...   \n",
      "59  [[0.28106181818181813], [0.23031454545454547],...   \n",
      "60  [[0.10909636363636364], [0.09800181818181818],...   \n",
      "61  [[0.0034927272727272728], [0.04725454545454546...   \n",
      "62  [[0.36016181818181814], [0.04889818181818182],...   \n",
      "63  [[0.3069490909090909], [-0.1528581818181818], ...   \n",
      "\n",
      "                                              BA_time       RPM  ans  \n",
      "0   [[0.015531632047477748], [0.016939940652818994...  [[1796]]  NaN  \n",
      "1   [[0.07327228486646885], [0.06932902077151336],...  [[1772]]  NaN  \n",
      "2   [[-0.01126646884272997], [0.02265364985163205]...  [[1748]]  NaN  \n",
      "3   [[-0.05460213649851632], [-0.05778089020771514...  [[1722]]  NaN  \n",
      "4   [[0.0016497329376854602], [0.08047477744807123...  [[1796]]  NaN  \n",
      "..                                                ...       ...  ...  \n",
      "59  [[-0.32656642927794266], [-0.34403374876360043...  [[1719]]  NaN  \n",
      "60  [[0.03557859545004946], [-0.03227831849653808]...  [[1796]]  NaN  \n",
      "61  [[0.029541503461918896], [0.005071157270029674...  [[1771]]  NaN  \n",
      "62  [[0.02173353115727003], [0.060290425321463906]...  [[1748]]  NaN  \n",
      "63  [[0.04934316518298714], [0.023343422354104852]...  [[1721]]  NaN  \n",
      "\n",
      "[64 rows x 6 columns]\n"
     ]
    }
   ],
   "source": [
    "df_all = get_df_all(DE_path, segment_length=500, normalize=True)\n",
    "features = df_all.columns[2:]\n",
    "target = 'label'"
   ]
  },
  {
   "cell_type": "code",
   "execution_count": 6,
   "metadata": {},
   "outputs": [
    {
     "data": {
      "text/html": [
       "<div>\n",
       "<style scoped>\n",
       "    .dataframe tbody tr th:only-of-type {\n",
       "        vertical-align: middle;\n",
       "    }\n",
       "\n",
       "    .dataframe tbody tr th {\n",
       "        vertical-align: top;\n",
       "    }\n",
       "\n",
       "    .dataframe thead th {\n",
       "        text-align: right;\n",
       "    }\n",
       "</style>\n",
       "<table border=\"1\" class=\"dataframe\">\n",
       "  <thead>\n",
       "    <tr style=\"text-align: right;\">\n",
       "      <th></th>\n",
       "      <th>label</th>\n",
       "      <th>filename</th>\n",
       "      <th>0</th>\n",
       "      <th>1</th>\n",
       "      <th>2</th>\n",
       "      <th>3</th>\n",
       "      <th>4</th>\n",
       "      <th>5</th>\n",
       "      <th>6</th>\n",
       "      <th>7</th>\n",
       "      <th>...</th>\n",
       "      <th>490</th>\n",
       "      <th>491</th>\n",
       "      <th>492</th>\n",
       "      <th>493</th>\n",
       "      <th>494</th>\n",
       "      <th>495</th>\n",
       "      <th>496</th>\n",
       "      <th>497</th>\n",
       "      <th>498</th>\n",
       "      <th>499</th>\n",
       "    </tr>\n",
       "  </thead>\n",
       "  <tbody>\n",
       "    <tr>\n",
       "      <th>15479</th>\n",
       "      <td>3</td>\n",
       "      <td>OR021@12_1.mat</td>\n",
       "      <td>0.316805</td>\n",
       "      <td>0.208280</td>\n",
       "      <td>0.382612</td>\n",
       "      <td>0.294869</td>\n",
       "      <td>-0.026085</td>\n",
       "      <td>0.087057</td>\n",
       "      <td>0.283324</td>\n",
       "      <td>0.044340</td>\n",
       "      <td>...</td>\n",
       "      <td>-1.584677</td>\n",
       "      <td>0.853653</td>\n",
       "      <td>1.740318</td>\n",
       "      <td>-2.180405</td>\n",
       "      <td>-2.749579</td>\n",
       "      <td>1.561368</td>\n",
       "      <td>1.572914</td>\n",
       "      <td>-2.358200</td>\n",
       "      <td>-1.589295</td>\n",
       "      <td>1.574068</td>\n",
       "    </tr>\n",
       "    <tr>\n",
       "      <th>12027</th>\n",
       "      <td>3</td>\n",
       "      <td>OR007@12_3.mat</td>\n",
       "      <td>0.347905</td>\n",
       "      <td>-0.000213</td>\n",
       "      <td>-0.028113</td>\n",
       "      <td>0.120899</td>\n",
       "      <td>0.552718</td>\n",
       "      <td>0.384683</td>\n",
       "      <td>0.022615</td>\n",
       "      <td>0.200161</td>\n",
       "      <td>...</td>\n",
       "      <td>0.467749</td>\n",
       "      <td>0.187479</td>\n",
       "      <td>-0.816293</td>\n",
       "      <td>-0.261460</td>\n",
       "      <td>0.619298</td>\n",
       "      <td>0.321907</td>\n",
       "      <td>0.002324</td>\n",
       "      <td>0.179236</td>\n",
       "      <td>0.282593</td>\n",
       "      <td>-0.074402</td>\n",
       "    </tr>\n",
       "    <tr>\n",
       "      <th>10315</th>\n",
       "      <td>0</td>\n",
       "      <td>Normal_3.mat</td>\n",
       "      <td>1.548705</td>\n",
       "      <td>2.132356</td>\n",
       "      <td>1.751854</td>\n",
       "      <td>0.587778</td>\n",
       "      <td>-0.534379</td>\n",
       "      <td>-0.834265</td>\n",
       "      <td>-0.298984</td>\n",
       "      <td>0.294340</td>\n",
       "      <td>...</td>\n",
       "      <td>-2.881879</td>\n",
       "      <td>-2.056384</td>\n",
       "      <td>-0.727854</td>\n",
       "      <td>0.429773</td>\n",
       "      <td>0.816724</td>\n",
       "      <td>0.732884</td>\n",
       "      <td>0.719986</td>\n",
       "      <td>0.568430</td>\n",
       "      <td>0.084742</td>\n",
       "      <td>-0.921329</td>\n",
       "    </tr>\n",
       "    <tr>\n",
       "      <th>7667</th>\n",
       "      <td>2</td>\n",
       "      <td>IR028_3.mat</td>\n",
       "      <td>-0.437454</td>\n",
       "      <td>2.169837</td>\n",
       "      <td>1.952810</td>\n",
       "      <td>-0.541765</td>\n",
       "      <td>-0.815150</td>\n",
       "      <td>0.873113</td>\n",
       "      <td>1.275527</td>\n",
       "      <td>0.635322</td>\n",
       "      <td>...</td>\n",
       "      <td>-0.769669</td>\n",
       "      <td>-0.792904</td>\n",
       "      <td>0.495416</td>\n",
       "      <td>0.771273</td>\n",
       "      <td>0.278389</td>\n",
       "      <td>0.691680</td>\n",
       "      <td>1.697717</td>\n",
       "      <td>1.275033</td>\n",
       "      <td>-0.359838</td>\n",
       "      <td>-0.653987</td>\n",
       "    </tr>\n",
       "    <tr>\n",
       "      <th>13047</th>\n",
       "      <td>3</td>\n",
       "      <td>OR007@3_3.mat</td>\n",
       "      <td>0.967685</td>\n",
       "      <td>-1.387162</td>\n",
       "      <td>-1.362214</td>\n",
       "      <td>1.041512</td>\n",
       "      <td>1.576126</td>\n",
       "      <td>-0.531780</td>\n",
       "      <td>-1.328609</td>\n",
       "      <td>0.202423</td>\n",
       "      <td>...</td>\n",
       "      <td>1.050677</td>\n",
       "      <td>0.474821</td>\n",
       "      <td>-0.695728</td>\n",
       "      <td>-0.555201</td>\n",
       "      <td>0.517591</td>\n",
       "      <td>0.643861</td>\n",
       "      <td>-0.256327</td>\n",
       "      <td>-0.580659</td>\n",
       "      <td>0.029819</td>\n",
       "      <td>0.563415</td>\n",
       "    </tr>\n",
       "  </tbody>\n",
       "</table>\n",
       "<p>5 rows × 502 columns</p>\n",
       "</div>"
      ],
      "text/plain": [
       "       label        filename         0         1         2         3  \\\n",
       "15479      3  OR021@12_1.mat  0.316805  0.208280  0.382612  0.294869   \n",
       "12027      3  OR007@12_3.mat  0.347905 -0.000213 -0.028113  0.120899   \n",
       "10315      0    Normal_3.mat  1.548705  2.132356  1.751854  0.587778   \n",
       "7667       2     IR028_3.mat -0.437454  2.169837  1.952810 -0.541765   \n",
       "13047      3   OR007@3_3.mat  0.967685 -1.387162 -1.362214  1.041512   \n",
       "\n",
       "              4         5         6         7  ...       490       491  \\\n",
       "15479 -0.026085  0.087057  0.283324  0.044340  ... -1.584677  0.853653   \n",
       "12027  0.552718  0.384683  0.022615  0.200161  ...  0.467749  0.187479   \n",
       "10315 -0.534379 -0.834265 -0.298984  0.294340  ... -2.881879 -2.056384   \n",
       "7667  -0.815150  0.873113  1.275527  0.635322  ... -0.769669 -0.792904   \n",
       "13047  1.576126 -0.531780 -1.328609  0.202423  ...  1.050677  0.474821   \n",
       "\n",
       "            492       493       494       495       496       497       498  \\\n",
       "15479  1.740318 -2.180405 -2.749579  1.561368  1.572914 -2.358200 -1.589295   \n",
       "12027 -0.816293 -0.261460  0.619298  0.321907  0.002324  0.179236  0.282593   \n",
       "10315 -0.727854  0.429773  0.816724  0.732884  0.719986  0.568430  0.084742   \n",
       "7667   0.495416  0.771273  0.278389  0.691680  1.697717  1.275033 -0.359838   \n",
       "13047 -0.695728 -0.555201  0.517591  0.643861 -0.256327 -0.580659  0.029819   \n",
       "\n",
       "            499  \n",
       "15479  1.574068  \n",
       "12027 -0.074402  \n",
       "10315 -0.921329  \n",
       "7667  -0.653987  \n",
       "13047  0.563415  \n",
       "\n",
       "[5 rows x 502 columns]"
      ]
     },
     "execution_count": 6,
     "metadata": {},
     "output_type": "execute_result"
    }
   ],
   "source": [
    "df_all.sample(5)"
   ]
  },
  {
   "cell_type": "code",
   "execution_count": 7,
   "metadata": {},
   "outputs": [
    {
     "data": {
      "text/plain": [
       "(17987, 502)"
      ]
     },
     "execution_count": 7,
     "metadata": {},
     "output_type": "execute_result"
    }
   ],
   "source": [
    "df_all.shape"
   ]
  },
  {
   "cell_type": "code",
   "execution_count": 8,
   "metadata": {},
   "outputs": [],
   "source": [
    "## Split the data into train and validation set\n",
    "X_train, X_valid, y_train, y_valid = train_test_split(df_all[features], \n",
    "                                                      df_all[target], \n",
    "                                                      test_size=0.20, random_state=random_seed, shuffle=True\n",
    "                                                     )"
   ]
  },
  {
   "cell_type": "code",
   "execution_count": 9,
   "metadata": {},
   "outputs": [],
   "source": [
    "## Create DataLoader of train and validation set\n",
    "X_train = torch.tensor(X_train.values, dtype=torch.float32)\n",
    "X_valid = torch.tensor(X_valid.values, dtype=torch.float32)\n",
    "y_train = torch.tensor(y_train.values, dtype=torch.long)\n",
    "y_valid = torch.tensor(y_valid.values, dtype=torch.long)\n",
    "\n",
    "train_ds = TensorDataset(X_train, y_train)\n",
    "valid_ds = TensorDataset(X_valid, y_valid)\n",
    "train_dl, valid_dl = get_dataloader(train_ds, valid_ds, bs)"
   ]
  },
  {
   "cell_type": "markdown",
   "metadata": {},
   "source": [
    "# Training with Adams Optimizer"
   ]
  },
  {
   "cell_type": "code",
   "execution_count": 10,
   "metadata": {},
   "outputs": [],
   "source": [
    "## Instantiate model, optimizer and loss function\n",
    "model = nn_model.CNN_1D_2L(len(features))\n",
    "model.to(device)\n",
    "opt = optim.Adam(model.parameters(), lr=lr, betas=betas, weight_decay=wd)\n",
    "loss_func = CrossEntropyLoss()"
   ]
  },
  {
   "cell_type": "code",
   "execution_count": 11,
   "metadata": {},
   "outputs": [
    {
     "name": "stdout",
     "output_type": "stream",
     "text": [
      "EPOCH \t Train Loss \t Val Loss \t Train Acc \t Val Acc \t\n",
      "0 \t 0.00972 \t 0.30471 \t 0.00000 \t0.87771 \t\n",
      "1 \t 0.00267 \t 0.28640 \t 0.00000 \t0.89744 \t\n",
      "2 \t 0.00138 \t 0.12245 \t 0.00000 \t0.95636 \t\n",
      "3 \t 0.00103 \t 0.25903 \t 0.00000 \t0.90411 \t\n",
      "4 \t 0.00106 \t 0.09459 \t 0.00000 \t0.96109 \t\n",
      "5 \t 0.00093 \t 0.10815 \t 0.00000 \t0.96804 \t\n",
      "6 \t 0.00076 \t 0.15685 \t 0.00000 \t0.95525 \t\n",
      "7 \t 0.00090 \t 0.16750 \t 0.00000 \t0.94136 \t\n",
      "8 \t 0.00045 \t 0.11840 \t 0.00000 \t0.95859 \t\n",
      "9 \t 0.00038 \t 0.11844 \t 0.00000 \t0.95553 \t\n",
      "10 \t 0.00026 \t 0.06812 \t 0.00000 \t0.97443 \t\n",
      "11 \t 0.00021 \t 0.08259 \t 0.00000 \t0.96998 \t\n",
      "12 \t 0.00024 \t 0.05450 \t 0.00000 \t0.98027 \t\n",
      "13 \t 0.00037 \t 0.01944 \t 0.00000 \t0.99361 \t\n",
      "14 \t 0.00034 \t 0.07288 \t 0.00000 \t0.97443 \t\n",
      "15 \t 0.00050 \t 0.17354 \t 0.00000 \t0.95303 \t\n",
      "16 \t 0.00056 \t 0.13825 \t 0.00000 \t0.96637 \t\n",
      "17 \t 0.00054 \t 0.10775 \t 0.00000 \t0.96581 \t\n",
      "18 \t 0.00032 \t 0.17109 \t 0.00000 \t0.95025 \t\n",
      "19 \t 0.00021 \t 0.09135 \t 0.00000 \t0.96859 \t\n",
      "CPU times: total: 11.5 s\n",
      "Wall time: 12.1 s\n"
     ]
    }
   ],
   "source": [
    "%%time\n",
    "## Train\n",
    "epochs = 20\n",
    "model, metrics = fit(epochs, model, loss_func, opt, train_dl, valid_dl, train_metric=False)"
   ]
  },
  {
   "cell_type": "code",
   "execution_count": 12,
   "metadata": {},
   "outputs": [
    {
     "name": "stdout",
     "output_type": "stream",
     "text": [
      "EPOCH \t Train Loss \t Val Loss \t Train Acc \t Val Acc \t\n",
      "0 \t 0.00022 \t 0.24229 \t 0.00000 \t0.93274 \t\n",
      "1 \t 0.00020 \t 0.05039 \t 0.00000 \t0.98193 \t\n",
      "2 \t 0.00029 \t 0.17963 \t 0.00000 \t0.94997 \t\n",
      "3 \t 0.00029 \t 0.07733 \t 0.00000 \t0.97721 \t\n",
      "4 \t 0.00028 \t 0.04317 \t 0.00000 \t0.98555 \t\n",
      "5 \t 0.00017 \t 0.03448 \t 0.00000 \t0.99138 \t\n",
      "6 \t 0.00018 \t 0.07745 \t 0.00000 \t0.97665 \t\n",
      "7 \t 0.00014 \t 0.06705 \t 0.00000 \t0.98054 \t\n",
      "8 \t 0.00033 \t 0.06601 \t 0.00000 \t0.97860 \t\n",
      "9 \t 0.00022 \t 0.04243 \t 0.00000 \t0.98777 \t\n",
      "10 \t 0.00020 \t 0.08321 \t 0.00000 \t0.97193 \t\n",
      "11 \t 0.00018 \t 0.04951 \t 0.00000 \t0.98888 \t\n",
      "12 \t 0.00019 \t 0.05189 \t 0.00000 \t0.98360 \t\n",
      "13 \t 0.00014 \t 0.06283 \t 0.00000 \t0.97860 \t\n",
      "14 \t 0.00022 \t 0.02842 \t 0.00000 \t0.98999 \t\n",
      "15 \t 0.00017 \t 0.04112 \t 0.00000 \t0.98638 \t\n",
      "16 \t 0.00020 \t 0.02733 \t 0.00000 \t0.99055 \t\n",
      "17 \t 0.00020 \t 0.08156 \t 0.00000 \t0.97387 \t\n",
      "18 \t 0.00017 \t 0.03271 \t 0.00000 \t0.98944 \t\n",
      "19 \t 0.00016 \t 0.06353 \t 0.00000 \t0.98638 \t\n",
      "CPU times: total: 9.77 s\n",
      "Wall time: 10.1 s\n"
     ]
    }
   ],
   "source": [
    "%%time\n",
    "## Train\n",
    "epochs = 20\n",
    "model, metrics = fit(epochs, model, loss_func, opt, train_dl, valid_dl, train_metric=False)"
   ]
  },
  {
   "cell_type": "markdown",
   "metadata": {},
   "source": [
    "# Save trained model"
   ]
  },
  {
   "cell_type": "code",
   "execution_count": 13,
   "metadata": {},
   "outputs": [],
   "source": [
    "torch.save(model.state_dict(), save_model_path / 'model_2.pth')"
   ]
  },
  {
   "cell_type": "code",
   "execution_count": 14,
   "metadata": {},
   "outputs": [],
   "source": [
    "model2 = nn_model.CNN_1D_2L(len(features))"
   ]
  },
  {
   "cell_type": "code",
   "execution_count": 16,
   "metadata": {},
   "outputs": [
    {
     "name": "stderr",
     "output_type": "stream",
     "text": [
      "C:\\Users\\scree\\AppData\\Local\\Temp\\ipykernel_34356\\214197978.py:1: FutureWarning: You are using `torch.load` with `weights_only=False` (the current default value), which uses the default pickle module implicitly. It is possible to construct malicious pickle data which will execute arbitrary code during unpickling (See https://github.com/pytorch/pytorch/blob/main/SECURITY.md#untrusted-models for more details). In a future release, the default value for `weights_only` will be flipped to `True`. This limits the functions that could be executed during unpickling. Arbitrary objects will no longer be allowed to be loaded via this mode unless they are explicitly allowlisted by the user via `torch.serialization.add_safe_globals`. We recommend you start setting `weights_only=True` for any use case where you don't have full control of the loaded file. Please open an issue on GitHub for any issues related to this experimental feature.\n",
      "  model2.load_state_dict(torch.load(save_model_path / 'model_2.pth'))\n"
     ]
    },
    {
     "data": {
      "text/plain": [
       "CNN_1D_2L(\n",
       "  (layer1): Sequential(\n",
       "    (0): Conv1d(1, 64, kernel_size=(9,), stride=(1,), padding=(4,))\n",
       "    (1): BatchNorm1d(64, eps=1e-05, momentum=0.1, affine=True, track_running_stats=True)\n",
       "    (2): ReLU()\n",
       "    (3): Dropout(p=0.5, inplace=False)\n",
       "    (4): MaxPool1d(kernel_size=2, stride=2, padding=0, dilation=1, ceil_mode=False)\n",
       "  )\n",
       "  (layer2): Sequential(\n",
       "    (0): Conv1d(64, 128, kernel_size=(5,), stride=(1,), padding=(2,))\n",
       "    (1): BatchNorm1d(128, eps=1e-05, momentum=0.1, affine=True, track_running_stats=True)\n",
       "    (2): ReLU()\n",
       "    (3): Dropout(p=0.5, inplace=False)\n",
       "    (4): AvgPool1d(kernel_size=(2,), stride=(2,), padding=(0,))\n",
       "  )\n",
       "  (linear1): Linear(in_features=16000, out_features=4, bias=True)\n",
       ")"
      ]
     },
     "execution_count": 16,
     "metadata": {},
     "output_type": "execute_result"
    }
   ],
   "source": [
    "model2.load_state_dict(torch.load(save_model_path / 'model_2.pth'))\n",
    "model2.eval()"
   ]
  },
  {
   "cell_type": "code",
   "execution_count": 17,
   "metadata": {},
   "outputs": [
    {
     "name": "stdout",
     "output_type": "stream",
     "text": [
      "(0.06352972865203424, np.float64(0.9863813229571985), (array([2, 0, 1, ..., 3, 1, 3], shape=(3598,)), array([2, 0, 1, ..., 3, 1, 3], shape=(3598,))))\n",
      "CPU times: total: 156 ms\n",
      "Wall time: 151 ms\n"
     ]
    }
   ],
   "source": [
    "%%time\n",
    "print(validate(model, valid_dl, loss_func))"
   ]
  },
  {
   "cell_type": "code",
   "execution_count": null,
   "metadata": {},
   "outputs": [],
   "source": []
  },
  {
   "cell_type": "code",
   "execution_count": null,
   "metadata": {},
   "outputs": [],
   "source": []
  }
 ],
 "metadata": {
  "kernelspec": {
   "display_name": "Python 3 (ipykernel)",
   "language": "python",
   "name": "python3"
  },
  "language_info": {
   "codemirror_mode": {
    "name": "ipython",
    "version": 3
   },
   "file_extension": ".py",
   "mimetype": "text/x-python",
   "name": "python",
   "nbconvert_exporter": "python",
   "pygments_lexer": "ipython3",
   "version": "3.12.0"
  }
 },
 "nbformat": 4,
 "nbformat_minor": 4
}
