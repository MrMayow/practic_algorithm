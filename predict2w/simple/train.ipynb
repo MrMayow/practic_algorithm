{
 "cells": [
  {
   "cell_type": "code",
   "execution_count": 1,
   "metadata": {},
   "outputs": [
    {
     "name": "stderr",
     "output_type": "stream",
     "text": [
      "2025-07-14 14:09:47.269095: I tensorflow/core/platform/cpu_feature_guard.cc:193] This TensorFlow binary is optimized with oneAPI Deep Neural Network Library (oneDNN) to use the following CPU instructions in performance-critical operations:  AVX2 AVX512F AVX512_VNNI FMA\n",
      "To enable them in other operations, rebuild TensorFlow with the appropriate compiler flags.\n",
      "2025-07-14 14:09:47.391207: I tensorflow/core/util/util.cc:169] oneDNN custom operations are on. You may see slightly different numerical results due to floating-point round-off errors from different computation orders. To turn them off, set the environment variable `TF_ENABLE_ONEDNN_OPTS=0`.\n",
      "2025-07-14 14:09:47.420462: E tensorflow/stream_executor/cuda/cuda_blas.cc:2981] Unable to register cuBLAS factory: Attempting to register factory for plugin cuBLAS when one has already been registered\n",
      "2025-07-14 14:09:48.044194: W tensorflow/stream_executor/platform/default/dso_loader.cc:64] Could not load dynamic library 'libnvinfer.so.7'; dlerror: libnvinfer.so.7: cannot open shared object file: No such file or directory; LD_LIBRARY_PATH: /home/maybe/miniconda3/envs/tf-gpu/lib:\n",
      "2025-07-14 14:09:48.044335: W tensorflow/stream_executor/platform/default/dso_loader.cc:64] Could not load dynamic library 'libnvinfer_plugin.so.7'; dlerror: libnvinfer_plugin.so.7: cannot open shared object file: No such file or directory; LD_LIBRARY_PATH: /home/maybe/miniconda3/envs/tf-gpu/lib:\n",
      "2025-07-14 14:09:48.044346: W tensorflow/compiler/tf2tensorrt/utils/py_utils.cc:38] TF-TRT Warning: Cannot dlopen some TensorRT libraries. If you would like to use Nvidia GPU with TensorRT, please make sure the missing libraries mentioned above are installed properly.\n"
     ]
    }
   ],
   "source": [
    "import pandas as pd\n",
    "import numpy as np\n",
    "from sklearn.preprocessing import MinMaxScaler\n",
    "from tensorflow.keras.models import Sequential\n",
    "from tensorflow.keras.layers import LSTM, Dense\n",
    "import matplotlib.pyplot as plt"
   ]
  },
  {
   "cell_type": "code",
   "execution_count": 2,
   "metadata": {},
   "outputs": [],
   "source": [
    "# Загружаем данные из вашего CSV файла\n",
    "try:\n",
    "    data = pd.read_csv('dataset_bar_harmonics_median_cleaned.csv', parse_dates=['date'])\n",
    "except FileNotFoundError:\n",
    "    print(\"Ошибка: Файл 'dataset_bar_harmonics_median_cleaned.csv' не найден.\")\n",
    "    print(\"Пожалуйста, убедитесь, что файл находится в той же директории, что и скрипт.\")\n",
    "    exit()"
   ]
  },
  {
   "cell_type": "code",
   "execution_count": 3,
   "metadata": {},
   "outputs": [
    {
     "name": "stdout",
     "output_type": "stream",
     "text": [
      "Агрегируем данные: вычисляем медианное значение за каждый день...\n"
     ]
    }
   ],
   "source": [
    "\n",
    "# Агрегируем данные до одного значения (медианы) в день\n",
    "print(\"Агрегируем данные: вычисляем медианное значение за каждый день...\")\n",
    "daily_data = data.groupby(data['date'].dt.date)['value'].median().reset_index()\n",
    "daily_data.columns = ['date', 'value']"
   ]
  },
  {
   "cell_type": "code",
   "execution_count": 4,
   "metadata": {},
   "outputs": [
    {
     "name": "stdout",
     "output_type": "stream",
     "text": [
      "Данные успешно подготовлены. Всего используется 450 дней.\n"
     ]
    }
   ],
   "source": [
    "# Для модели нам нужен только столбец со значениями\n",
    "time_series_data = daily_data[['value']].values.astype('float32')\n",
    "print(f\"Данные успешно подготовлены. Всего используется {len(time_series_data)} дней.\")"
   ]
  },
  {
   "cell_type": "code",
   "execution_count": 5,
   "metadata": {},
   "outputs": [],
   "source": [
    "# Нормализация данных (приведение к диапазону от 0 до 1)\n",
    "scaler = MinMaxScaler(feature_range=(0, 1))\n",
    "scaled_data = scaler.fit_transform(time_series_data)"
   ]
  },
  {
   "cell_type": "code",
   "execution_count": 6,
   "metadata": {},
   "outputs": [],
   "source": [
    "def create_sequences(dataset, look_back=30):\n",
    "    X, Y = [], []\n",
    "    for i in range(len(dataset) - look_back):\n",
    "        X.append(dataset[i:(i + look_back), 0])\n",
    "        Y.append(dataset[i + look_back, 0])\n",
    "    return np.array(X), np.array(Y)"
   ]
  },
  {
   "cell_type": "code",
   "execution_count": 7,
   "metadata": {},
   "outputs": [],
   "source": [
    "# Используем историю за последние 30 дней для предсказания следующего\n",
    "look_back = 30\n",
    "X_train, y_train = create_sequences(scaled_data, look_back)"
   ]
  },
  {
   "cell_type": "code",
   "execution_count": 8,
   "metadata": {},
   "outputs": [],
   "source": [
    "X_train = np.reshape(X_train, (X_train.shape[0], X_train.shape[1], 1))"
   ]
  },
  {
   "cell_type": "code",
   "execution_count": 9,
   "metadata": {},
   "outputs": [
    {
     "name": "stdout",
     "output_type": "stream",
     "text": [
      "\n",
      "Создание и обучение нейросети...\n"
     ]
    },
    {
     "name": "stderr",
     "output_type": "stream",
     "text": [
      "2025-07-14 14:09:49.031407: I tensorflow/stream_executor/cuda/cuda_gpu_executor.cc:980] successful NUMA node read from SysFS had negative value (-1), but there must be at least one NUMA node, so returning NUMA node zero\n",
      "2025-07-14 14:09:49.038417: I tensorflow/stream_executor/cuda/cuda_gpu_executor.cc:980] successful NUMA node read from SysFS had negative value (-1), but there must be at least one NUMA node, so returning NUMA node zero\n",
      "2025-07-14 14:09:49.039029: I tensorflow/stream_executor/cuda/cuda_gpu_executor.cc:980] successful NUMA node read from SysFS had negative value (-1), but there must be at least one NUMA node, so returning NUMA node zero\n",
      "2025-07-14 14:09:49.039710: I tensorflow/core/platform/cpu_feature_guard.cc:193] This TensorFlow binary is optimized with oneAPI Deep Neural Network Library (oneDNN) to use the following CPU instructions in performance-critical operations:  AVX2 AVX512F AVX512_VNNI FMA\n",
      "To enable them in other operations, rebuild TensorFlow with the appropriate compiler flags.\n",
      "2025-07-14 14:09:49.040435: I tensorflow/stream_executor/cuda/cuda_gpu_executor.cc:980] successful NUMA node read from SysFS had negative value (-1), but there must be at least one NUMA node, so returning NUMA node zero\n",
      "2025-07-14 14:09:49.040717: I tensorflow/stream_executor/cuda/cuda_gpu_executor.cc:980] successful NUMA node read from SysFS had negative value (-1), but there must be at least one NUMA node, so returning NUMA node zero\n",
      "2025-07-14 14:09:49.040874: I tensorflow/stream_executor/cuda/cuda_gpu_executor.cc:980] successful NUMA node read from SysFS had negative value (-1), but there must be at least one NUMA node, so returning NUMA node zero\n",
      "2025-07-14 14:09:49.497225: I tensorflow/stream_executor/cuda/cuda_gpu_executor.cc:980] successful NUMA node read from SysFS had negative value (-1), but there must be at least one NUMA node, so returning NUMA node zero\n",
      "2025-07-14 14:09:49.497614: I tensorflow/stream_executor/cuda/cuda_gpu_executor.cc:980] successful NUMA node read from SysFS had negative value (-1), but there must be at least one NUMA node, so returning NUMA node zero\n",
      "2025-07-14 14:09:49.497780: I tensorflow/stream_executor/cuda/cuda_gpu_executor.cc:980] successful NUMA node read from SysFS had negative value (-1), but there must be at least one NUMA node, so returning NUMA node zero\n",
      "2025-07-14 14:09:49.497938: I tensorflow/core/common_runtime/gpu/gpu_device.cc:1616] Created device /job:localhost/replica:0/task:0/device:GPU:0 with 6112 MB memory:  -> device: 0, name: NVIDIA GeForce RTX 3070 Laptop GPU, pci bus id: 0000:01:00.0, compute capability: 8.6\n"
     ]
    }
   ],
   "source": [
    "print(\"\\nСоздание и обучение нейросети...\")\n",
    "model = Sequential()\n",
    "# Более сложная модель для лучшего захвата зависимостей\n",
    "model.add(LSTM(units=75, return_sequences=True, input_shape=(look_back, 1)))\n",
    "model.add(LSTM(units=75))\n",
    "model.add(Dense(units=1))"
   ]
  },
  {
   "cell_type": "code",
   "execution_count": 10,
   "metadata": {},
   "outputs": [],
   "source": [
    "# Компиляция модели\n",
    "model.compile(optimizer='adam', loss='mean_squared_error')"
   ]
  },
  {
   "cell_type": "code",
   "execution_count": 11,
   "metadata": {},
   "outputs": [
    {
     "name": "stdout",
     "output_type": "stream",
     "text": [
      "Epoch 1/40\n"
     ]
    },
    {
     "name": "stderr",
     "output_type": "stream",
     "text": [
      "2025-07-14 14:09:52.376550: I tensorflow/stream_executor/cuda/cuda_dnn.cc:384] Loaded cuDNN version 8100\n"
     ]
    },
    {
     "name": "stdout",
     "output_type": "stream",
     "text": [
      "12/14 [========================>.....] - ETA: 0s - loss: 0.0683 "
     ]
    },
    {
     "name": "stderr",
     "output_type": "stream",
     "text": [
      "2025-07-14 14:09:52.996751: I tensorflow/stream_executor/cuda/cuda_blas.cc:1614] TensorFloat-32 will be used for the matrix multiplication. This will only be logged once.\n"
     ]
    },
    {
     "name": "stdout",
     "output_type": "stream",
     "text": [
      "14/14 [==============================] - 3s 5ms/step - loss: 0.0633\n",
      "Epoch 2/40\n",
      "14/14 [==============================] - 0s 5ms/step - loss: 0.0095\n",
      "Epoch 3/40\n",
      "14/14 [==============================] - 0s 5ms/step - loss: 0.0059\n",
      "Epoch 4/40\n",
      "14/14 [==============================] - 0s 5ms/step - loss: 0.0049\n",
      "Epoch 5/40\n",
      "14/14 [==============================] - 0s 5ms/step - loss: 0.0043\n",
      "Epoch 6/40\n",
      "14/14 [==============================] - 0s 5ms/step - loss: 0.0043\n",
      "Epoch 7/40\n",
      "14/14 [==============================] - 0s 5ms/step - loss: 0.0044\n",
      "Epoch 8/40\n",
      "14/14 [==============================] - 0s 5ms/step - loss: 0.0043\n",
      "Epoch 9/40\n",
      "14/14 [==============================] - 0s 4ms/step - loss: 0.0045\n",
      "Epoch 10/40\n",
      "14/14 [==============================] - 0s 5ms/step - loss: 0.0044\n",
      "Epoch 11/40\n",
      "14/14 [==============================] - 0s 5ms/step - loss: 0.0063\n",
      "Epoch 12/40\n",
      "14/14 [==============================] - 0s 4ms/step - loss: 0.0049\n",
      "Epoch 13/40\n",
      "14/14 [==============================] - 0s 4ms/step - loss: 0.0048\n",
      "Epoch 14/40\n",
      "14/14 [==============================] - 0s 4ms/step - loss: 0.0045\n",
      "Epoch 15/40\n",
      "14/14 [==============================] - 0s 4ms/step - loss: 0.0043\n",
      "Epoch 16/40\n",
      "14/14 [==============================] - 0s 4ms/step - loss: 0.0044\n",
      "Epoch 17/40\n",
      "14/14 [==============================] - 0s 5ms/step - loss: 0.0046\n",
      "Epoch 18/40\n",
      "14/14 [==============================] - 0s 4ms/step - loss: 0.0049\n",
      "Epoch 19/40\n",
      "14/14 [==============================] - 0s 5ms/step - loss: 0.0046\n",
      "Epoch 20/40\n",
      "14/14 [==============================] - 0s 5ms/step - loss: 0.0043\n",
      "Epoch 21/40\n",
      "14/14 [==============================] - 0s 5ms/step - loss: 0.0043\n",
      "Epoch 22/40\n",
      "14/14 [==============================] - 0s 5ms/step - loss: 0.0048\n",
      "Epoch 23/40\n",
      "14/14 [==============================] - 0s 4ms/step - loss: 0.0051\n",
      "Epoch 24/40\n",
      "14/14 [==============================] - 0s 4ms/step - loss: 0.0046\n",
      "Epoch 25/40\n",
      "14/14 [==============================] - 0s 4ms/step - loss: 0.0042\n",
      "Epoch 26/40\n",
      "14/14 [==============================] - 0s 5ms/step - loss: 0.0043\n",
      "Epoch 27/40\n",
      "14/14 [==============================] - 0s 5ms/step - loss: 0.0044\n",
      "Epoch 28/40\n",
      "14/14 [==============================] - 0s 5ms/step - loss: 0.0048\n",
      "Epoch 29/40\n",
      "14/14 [==============================] - 0s 4ms/step - loss: 0.0048\n",
      "Epoch 30/40\n",
      "14/14 [==============================] - 0s 5ms/step - loss: 0.0047\n",
      "Epoch 31/40\n",
      "14/14 [==============================] - 0s 4ms/step - loss: 0.0048\n",
      "Epoch 32/40\n",
      "14/14 [==============================] - 0s 5ms/step - loss: 0.0046\n",
      "Epoch 33/40\n",
      "14/14 [==============================] - 0s 4ms/step - loss: 0.0042\n",
      "Epoch 34/40\n",
      "14/14 [==============================] - 0s 5ms/step - loss: 0.0044\n",
      "Epoch 35/40\n",
      "14/14 [==============================] - 0s 4ms/step - loss: 0.0045\n",
      "Epoch 36/40\n",
      "14/14 [==============================] - 0s 5ms/step - loss: 0.0044\n",
      "Epoch 37/40\n",
      "14/14 [==============================] - 0s 5ms/step - loss: 0.0043\n",
      "Epoch 38/40\n",
      "14/14 [==============================] - 0s 4ms/step - loss: 0.0042\n",
      "Epoch 39/40\n",
      "14/14 [==============================] - 0s 4ms/step - loss: 0.0043\n",
      "Epoch 40/40\n",
      "14/14 [==============================] - 0s 5ms/step - loss: 0.0045\n",
      "Обучение завершено.\n"
     ]
    }
   ],
   "source": [
    "# Увеличим количество эпох для лучшего обучения\n",
    "model.fit(X_train, y_train, epochs=40, batch_size=32, verbose=1)\n",
    "print(\"Обучение завершено.\")"
   ]
  },
  {
   "cell_type": "code",
   "execution_count": null,
   "metadata": {},
   "outputs": [],
   "source": [
    "days_to_predict = 90\n",
    "future_predictions = []"
   ]
  },
  {
   "cell_type": "code",
   "execution_count": 13,
   "metadata": {},
   "outputs": [],
   "source": [
    "last_sequence = scaled_data[-look_back:]\n",
    "current_batch = last_sequence.reshape(1, look_back, 1)"
   ]
  },
  {
   "cell_type": "code",
   "execution_count": 14,
   "metadata": {},
   "outputs": [
    {
     "name": "stdout",
     "output_type": "stream",
     "text": [
      "\n",
      "Генерация прогноза на 14 дней...\n"
     ]
    }
   ],
   "source": [
    "print(\"\\nГенерация прогноза на 14 дней...\")\n",
    "# Запускаем цикл итеративного прогнозирования\n",
    "for i in range(days_to_predict):\n",
    "    # Предсказываем следующий шаг\n",
    "    next_prediction = model.predict(current_batch, verbose=0)\n",
    "    \n",
    "    # Сохраняем прогноз\n",
    "    future_predictions.append(next_prediction[0, 0])\n",
    "    \n",
    "    # Обновляем последовательность для следующего прогноза\n",
    "    current_batch = np.append(current_batch[:, 1:, :], [next_prediction], axis=1)"
   ]
  },
  {
   "cell_type": "code",
   "execution_count": 15,
   "metadata": {},
   "outputs": [],
   "source": [
    "# Возвращаем прогноз к исходному масштабу\n",
    "predicted_values = scaler.inverse_transform(np.array(future_predictions).reshape(-1, 1))"
   ]
  },
  {
   "cell_type": "code",
   "execution_count": 18,
   "metadata": {},
   "outputs": [
    {
     "name": "stdout",
     "output_type": "stream",
     "text": [
      "\n",
      "--- ПРОГНОЗ ТЕНДЕНЦИИ НА СЛЕДУЮЩИЕ 14 ДНЕЙ ---\n",
      "День 1 (2025-08-30): Прогнозируемое значение = 2.0545\n",
      "День 2 (2025-08-31): Прогнозируемое значение = 2.0519\n",
      "День 3 (2025-09-01): Прогнозируемое значение = 2.0506\n",
      "День 4 (2025-09-02): Прогнозируемое значение = 2.0502\n",
      "День 5 (2025-09-03): Прогнозируемое значение = 2.0505\n",
      "День 6 (2025-09-04): Прогнозируемое значение = 2.0512\n",
      "День 7 (2025-09-05): Прогнозируемое значение = 2.0522\n",
      "День 8 (2025-09-06): Прогнозируемое значение = 2.0533\n",
      "День 9 (2025-09-07): Прогнозируемое значение = 2.0545\n",
      "День 10 (2025-09-08): Прогнозируемое значение = 2.0557\n",
      "День 11 (2025-09-09): Прогнозируемое значение = 2.0570\n",
      "День 12 (2025-09-10): Прогнозируемое значение = 2.0583\n",
      "День 13 (2025-09-11): Прогнозируемое значение = 2.0595\n",
      "День 14 (2025-09-12): Прогнозируемое значение = 2.0608\n",
      "\n",
      "Отображение графика...\n"
     ]
    },
    {
     "data": {
      "image/png": "[encoded data removed]",
      "text/plain": [
       "<Figure size 1500x700 with 1 Axes>"
      ]
     },
     "metadata": {},
     "output_type": "display_data"
    }
   ],
   "source": [
    "print(f\"\\n--- ПРОГНОЗ ТЕНДЕНЦИИ НА СЛЕДУЮЩИЕ {days_to_predict} ДНЕЙ ---\")\n",
    "# Генерация дат для прогноза\n",
    "last_date = daily_data['date'].iloc[-1]\n",
    "future_dates = pd.date_range(start=last_date + pd.Timedelta(days=1), periods=days_to_predict)\n",
    "\n",
    "for i, val in enumerate(predicted_values):\n",
    "    print(f\"День {i+1} ({future_dates[i].strftime('%Y-%m-%d')}): Прогнозируемое значение = {val[0]:.4f}\")\n",
    "\n",
    "# Построение графика\n",
    "print(\"\\nОтображение графика...\")\n",
    "plt.figure(figsize=(15, 7))\n",
    "plt.scatter(daily_data['date'], daily_data['value'], label='Исторические данные (старые точки)')\n",
    "plt.scatter(future_dates, predicted_values, label='Прогноз (новые точки)', marker='o', color='red')\n",
    "plt.title('История и прогноз параметра двигателя')\n",
    "plt.xlabel('Дата')\n",
    "plt.ylabel('Значение параметра')\n",
    "plt.legend()\n",
    "plt.grid(True)\n",
    "plt.show()\n"
   ]
  },
  {
   "cell_type": "code",
   "execution_count": 17,
   "metadata": {},
   "outputs": [],
   "source": [
    "\n",
    "\n",
    "\n",
    "\n",
    "\n",
    "\n",
    "# --- Шаг 2: Создание обучающих последовательностей ---\n",
    "\n",
    "# Функция для \"нарезки\" данных на обучающие примеры\n",
    "\n",
    "\n",
    "\n",
    "\n",
    "# Преобразование данных в формат для LSTM: [образцы, временные шаги, признаки]\n",
    "\n",
    "\n",
    "\n",
    "# --- Шаг 3: Создание и обучение LSTM модели ---\n",
    "\n",
    "\n",
    "\n",
    "# Обучение модели на ваших данных\n",
    "\n",
    "\n",
    "\n",
    "# --- Шаг 4: Прогнозирование на 14 дней вперед ---\n",
    "\n",
    "\n",
    "\n",
    "# Берем последнюю известную последовательность из реальных данных\n",
    "\n",
    "\n",
    "\n",
    "\n",
    "\n",
    "\n",
    "\n",
    "# --- Шаг 5: Вывод результата ---\n",
    "\n",
    "\n",
    "\n"
   ]
  }
 ],
 "metadata": {
  "kernelspec": {
   "display_name": "tf-gpu",
   "language": "python",
   "name": "python3"
  },
  "language_info": {
   "codemirror_mode": {
    "name": "ipython",
    "version": 3
   },
   "file_extension": ".py",
   "mimetype": "text/x-python",
   "name": "python",
   "nbconvert_exporter": "python",
   "pygments_lexer": "ipython3",
   "version": "3.10.18"
  }
 },
 "nbformat": 4,
 "nbformat_minor": 2
}
