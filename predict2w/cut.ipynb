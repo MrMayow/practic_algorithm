{
 "cells": [
  {
   "cell_type": "code",
   "execution_count": null,
   "metadata": {},
   "outputs": [],
   "source": [
    "import pandas as pd\n",
    "\n",
    "# Загрузите ваш файл\n",
    "df = pd.read_csv('dataset_bar_harmonics_median_cleaned.csv', parse_dates=['date'])\n",
    "\n",
    "# Установите дату отсечения\n",
    "cutoff_date = pd.Timestamp('2025-06-01 23:59:59')\n",
    "\n",
    "# Оставьте только строки с датой не позже cutoff_date\n",
    "filtered_df = df[df['date'] <= cutoff_date]\n",
    "\n",
    "# Сохраните результат, если нужно\n",
    "filtered_df.to_csv('filtered_dataset.csv', index=False)\n"
   ]
  }
 ],
 "metadata": {
  "kernelspec": {
   "display_name": "tf-gpu",
   "language": "python",
   "name": "python3"
  },
  "language_info": {
   "name": "python",
   "version": "3.10.18"
  }
 },
 "nbformat": 4,
 "nbformat_minor": 2
}
