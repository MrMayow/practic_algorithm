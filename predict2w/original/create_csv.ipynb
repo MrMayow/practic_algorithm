{
 "cells": [
  {
   "cell_type": "code",
   "execution_count": 1,
   "metadata": {},
   "outputs": [],
   "source": [
    "import pandas as pd\n",
    "import matplotlib.pyplot as plt\n",
    "import matplotlib.dates as mdates\n",
    "import datetime\n",
    "import csv\n",
    "import statistics as st"
   ]
  },
  {
   "cell_type": "code",
   "execution_count": 2,
   "metadata": {},
   "outputs": [],
   "source": [
    "def Filtering_processing(Date, Data, Method):\n",
    "    \n",
    "    Day, Data_filtered = [], []\n",
    "    i = 0\n",
    "    while i < len(Date)-1:\n",
    "        Day_temp = Date[i]\n",
    "        Data_filtered_temp = [Data[i]]\n",
    "        k = 1\n",
    "        while (i+k < len(Date)-1) and (Date[i+k].day == Day_temp.day):\n",
    "            \n",
    "            Data_filtered_temp.append(Data[i+k])\n",
    "            k+=1\n",
    "        \n",
    "        Day.append(Day_temp)\n",
    "        if Method == 'Mean':\n",
    "            Data_filtered.append(st.mean(Data_filtered_temp))\n",
    "        elif Method == 'Median':\n",
    "            Data_filtered.append(st.median(Data_filtered_temp))\n",
    "        elif Method == 'Min':\n",
    "            Data_filtered.append(min(Data_filtered_temp))\n",
    "        elif Method == 'Max':\n",
    "            Data_filtered.append(max(Data_filtered_temp))\n",
    "        \n",
    "        i += k\n",
    "        \n",
    "    return Day, Data_filtered"
   ]
  },
  {
   "cell_type": "code",
   "execution_count": null,
   "metadata": {},
   "outputs": [],
   "source": [
    "file_name = \"current_all_202507041338.csv\"\n",
    "Date_shift = -60\n",
    "Data = pd.read_csv(file_name)\n",
    "N = len(Data['date'])\n",
    "date_format_1 = '%Y-%m-%d %H:%M:%S'\n",
    "date_format_2 = '%Y_%m_%d_%H_%M_%S'\n",
    "Date = [datetime.datetime.strptime(x, date_format_1)-datetime.timedelta(days = Date_shift) for x in Data['date']]\n",
    "Data['date'] = Date\n",
    "Date_cut = datetime.datetime.strptime('2024_03_15_00_00_00', date_format_2)\n",
    "Data = Data[Data['date'].tolist().index(Data['date'][Data['date']>Date_cut].tolist()[1]):]\n",
    "Data.reset_index(drop=True, inplace=True)\n",
    "label = \"bar_harmonics\"\n",
    "\n",
    "Date = Data[\"date\"]\n",
    "Data = Data[label]\n",
    "\n",
    "Date, Data = Filtering_processing(Date, Data, \"Median\")\n",
    "\n",
    "def save_to_csv(filename, dates, values):\n",
    "    with open(filename, mode='w', newline='', encoding='utf-8') as file:\n",
    "        writer = csv.writer(file)\n",
    "        writer.writerow(['date','value']) \n",
    "        for i in range(len(dates)):\n",
    "            writer.writerow([dates[i], values[i]])\n",
    "\n",
    "save_to_csv('dataset_bar_harmonics_median.csv', Date, Data)"
   ]
  }
 ],
 "metadata": {
  "kernelspec": {
   "display_name": "tf-gpu",
   "language": "python",
   "name": "python3"
  },
  "language_info": {
   "codemirror_mode": {
    "name": "ipython",
    "version": 3
   },
   "file_extension": ".py",
   "mimetype": "text/x-python",
   "name": "python",
   "nbconvert_exporter": "python",
   "pygments_lexer": "ipython3",
   "version": "3.10.18"
  }
 },
 "nbformat": 4,
 "nbformat_minor": 2
}
