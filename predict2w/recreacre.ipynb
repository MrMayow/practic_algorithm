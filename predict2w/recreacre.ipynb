{
 "cells": [
  {
   "cell_type": "code",
   "execution_count": 1,
   "metadata": {},
   "outputs": [],
   "source": [
    "import pandas as pd\n",
    "import numpy as np"
   ]
  },
  {
   "cell_type": "code",
   "execution_count": null,
   "metadata": {},
   "outputs": [],
   "source": [
    "# Загрузка данных\n",
    "data = pd.read_csv('dataset_bar_harmonics_median.csv')\n",
    "data['date'] = pd.to_datetime(data['date'])\n",
    "data = data.sort_values('date').reset_index(drop=True)\n",
    "\n",
    "def replace_out_of_range_with_neighbors_mean(series, low=1.3, high=2.3):\n",
    "    values = series.values.copy()\n",
    "    n = len(values)\n",
    "    for i in range(n):\n",
    "        if values[i] < low or values[i] > high:\n",
    "            neighbors = []\n",
    "            # Сосед слева\n",
    "            if i > 0 and low <= values[i-1] <= high:\n",
    "                neighbors.append(values[i-1])\n",
    "            # Сосед справа\n",
    "            if i < n-1 and low <= values[i+1] <= high:\n",
    "                neighbors.append(values[i+1])\n",
    "            # Если есть допустимые соседи — заменить на их среднее\n",
    "            if neighbors:\n",
    "                values[i] = np.mean(neighbors)\n",
    "            # Если нет — оставить без изменений\n",
    "    return pd.Series(values, index=series.index)\n",
    "\n",
    "# Применение функции к столбцу 'value'\n",
    "data['value'] = replace_out_of_range_with_neighbors_mean(data['value'], 1.3, 2.3)\n",
    "\n",
    "# Сохранить результат, если нужно\n",
    "data.to_csv('dataset_bar_harmonics_median_cleaned.csv', index=False)\n"
   ]
  }
 ],
 "metadata": {
  "kernelspec": {
   "display_name": "tf-gpu",
   "language": "python",
   "name": "python3"
  },
  "language_info": {
   "codemirror_mode": {
    "name": "ipython",
    "version": 3
   },
   "file_extension": ".py",
   "mimetype": "text/x-python",
   "name": "python",
   "nbconvert_exporter": "python",
   "pygments_lexer": "ipython3",
   "version": "3.10.18"
  }
 },
 "nbformat": 4,
 "nbformat_minor": 2
}
