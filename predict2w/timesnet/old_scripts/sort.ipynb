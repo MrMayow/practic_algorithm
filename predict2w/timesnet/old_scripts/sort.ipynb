{
 "cells": [
  {
   "cell_type": "code",
   "execution_count": 1,
   "metadata": {},
   "outputs": [],
   "source": [
    "import pandas as pd"
   ]
  },
  {
   "cell_type": "code",
   "execution_count": 2,
   "metadata": {},
   "outputs": [],
   "source": [
    "# Замените 'input.csv' на имя вашего файла\n",
    "input_file = 'dataset_bar_harmonics_median.csv'\n",
    "output_file = 'sorted_output.csv'"
   ]
  },
  {
   "cell_type": "code",
   "execution_count": null,
   "metadata": {},
   "outputs": [],
   "source": [
    "# Загружаем CSV в DataFrame\n",
    "df = pd.read_csv(input_file)\n",
    "\n",
    "# Преобразуем колонку с датой в datetime-формат\n",
    "df['date'] = pd.to_datetime(df['date'], dayfirst=True, errors='coerce')\n",
    "\n",
    "# Удаляем строки с некорректными датами\n",
    "df = df.dropna(subset=['date'])\n",
    "\n",
    "# Сортируем по дате в порядке убывания (сверху вниз)\n",
    "df_sorted = df.sort_values(by='date', ascending=False)\n",
    "\n",
    "# Сохраняем результат\n",
    "df_sorted.to_csv(output_file, index=False)\n",
    "\n",
    "print(f'Файл отсортирован и сохранён как {output_file}')\n"
   ]
  }
 ],
 "metadata": {
  "kernelspec": {
   "display_name": "task2",
   "language": "python",
   "name": "python3"
  },
  "language_info": {
   "codemirror_mode": {
    "name": "ipython",
    "version": 3
   },
   "file_extension": ".py",
   "mimetype": "text/x-python",
   "name": "python",
   "nbconvert_exporter": "python",
   "pygments_lexer": "ipython3",
   "version": "3.10.18"
  }
 },
 "nbformat": 4,
 "nbformat_minor": 2
}
