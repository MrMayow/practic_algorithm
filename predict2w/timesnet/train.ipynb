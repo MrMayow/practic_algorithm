{
 "cells": [
  {
   "cell_type": "code",
   "execution_count": null,
   "id": "7ec50a38",
   "metadata": {},
   "outputs": [],
   "source": [
    "import pandas as pd\n",
    "from neuralforecast.core import NeuralForecast\n",
    "from neuralforecast.models import TimesNet\n",
    "import matplotlib.pyplot as plt"
   ]
  },
  {
   "cell_type": "code",
   "execution_count": null,
   "id": "44b331d4",
   "metadata": {},
   "outputs": [],
   "source": [
    "import pandas as pd\n",
    "\n",
    "# Загрузка файла и преобразование столбца date к формату datetime\n",
    "df = pd.read_csv('dataset_bar_harmonics_median.csv', parse_dates=['date'])\n",
    "\n",
    "# Отсечение данных после 1 июля 2025 включительно\n",
    "cutoff_date = pd.Timestamp('2025-07-01')\n",
    "filtered_df = df[df['date'] <= cutoff_date]\n",
    "\n",
    "# Сохранение или дальнейшая работа\n",
    "filtered_df.to_csv('dataset_bar_harmonics_median_filtered.csv', index=False)\n"
   ]
  },
  {
   "cell_type": "code",
   "execution_count": null,
   "id": "ea73915b",
   "metadata": {},
   "outputs": [],
   "source": [
    "# Загрузка вашего файла\n",
    "df = pd.read_csv('dataset_bar_harmonics_median_filtered.csv', parse_dates=['date'])\n",
    "\n",
    "# Преобразуем к нужному формату\n",
    "df = df.rename(columns={'date': 'ds', 'value': 'y'})\n",
    "df['unique_id'] = 'id_1'  # один временной ряд\n",
    "\n",
    "# Проверка\n",
    "print(df.head())\n"
   ]
  },
  {
   "cell_type": "code",
   "execution_count": null,
   "id": "91249d09",
   "metadata": {},
   "outputs": [],
   "source": [
    "horizon = 200          # горизонт прогноза (выберите под свою задачу)\n",
    "input_size = 900       # размер окна истории (обычно в 2–4 раза больше горизонта)"
   ]
  },
  {
   "cell_type": "code",
   "execution_count": null,
   "id": "8649e2ed",
   "metadata": {},
   "outputs": [],
   "source": [
    "\n",
    "# Инициализация модели\n",
    "model = TimesNet(\n",
    "    h=horizon,\n",
    "    input_size=input_size,\n",
    "    max_steps=100,\n",
    "    learning_rate=1e-3,\n",
    "    scaler_type='standard'\n",
    ")\n",
    "\n",
    "# Определение контейнера моделей (важно указать freq вашей серии)\n",
    "nf = NeuralForecast(models=[model], freq='D')  # или 'H', если данные почасовые\n",
    "\n",
    "# Обучение модели\n",
    "nf.fit(df=df)\n"
   ]
  },
  {
   "cell_type": "code",
   "execution_count": null,
   "id": "1ec6c0de",
   "metadata": {},
   "outputs": [],
   "source": [
    "forecast_df = nf.predict()"
   ]
  },
  {
   "cell_type": "code",
   "execution_count": null,
   "id": "1b40fde5",
   "metadata": {},
   "outputs": [],
   "source": [
    "actual = df.set_index('ds')['y']\n",
    "forecast = forecast_df.set_index('ds')['TimesNet']\n",
    "\n",
    "plt.figure(figsize=(12, 6))\n",
    "plt.scatter(actual.index, actual.values, color='black', label='Исторические данные', s=10)\n",
    "plt.scatter(forecast.index, forecast.values, color='blue', label='TimesNet прогноз', s=10)\n",
    "plt.xlabel('Дата')\n",
    "plt.ylabel('Значение')\n",
    "plt.title('Исторические данные и прогноз TimesNet (только точки)')\n",
    "plt.legend()\n",
    "plt.grid(True)\n",
    "plt.show()"
   ]
  }
 ],
 "metadata": {
  "kernelspec": {
   "display_name": "myenv",
   "language": "python",
   "name": "python3"
  },
  "language_info": {
   "codemirror_mode": {
    "name": "ipython",
    "version": 3
   },
   "file_extension": ".py",
   "mimetype": "text/x-python",
   "name": "python",
   "nbconvert_exporter": "python",
   "pygments_lexer": "ipython3",
   "version": "3.10.18"
  }
 },
 "nbformat": 4,
 "nbformat_minor": 5
}
