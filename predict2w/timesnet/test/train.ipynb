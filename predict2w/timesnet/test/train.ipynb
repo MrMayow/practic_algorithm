{
 "cells": [
  {
   "cell_type": "code",
   "execution_count": 1,
   "metadata": {},
   "outputs": [
    {
     "name": "stderr",
     "output_type": "stream",
     "text": [
      "/home/maybe/miniconda3/envs/task2/lib/python3.10/site-packages/tqdm/auto.py:21: TqdmWarning: IProgress not found. Please update jupyter and ipywidgets. See https://ipywidgets.readthedocs.io/en/stable/user_install.html\n",
      "  from .autonotebook import tqdm as notebook_tqdm\n",
      "2025-07-16 14:40:41,720\tINFO util.py:154 -- Missing packages: ['ipywidgets']. Run `pip install -U ipywidgets`, then restart the notebook server for rich notebook output.\n",
      "2025-07-16 14:40:41,837\tINFO util.py:154 -- Missing packages: ['ipywidgets']. Run `pip install -U ipywidgets`, then restart the notebook server for rich notebook output.\n"
     ]
    }
   ],
   "source": [
    "import pandas as pd\n",
    "from neuralforecast.core import NeuralForecast\n",
    "from neuralforecast.models import TimesNet\n",
    "import torch"
   ]
  },
  {
   "cell_type": "code",
   "execution_count": 2,
   "metadata": {},
   "outputs": [],
   "source": [
    "# 2. Гиперпараметры\n",
    "horizon = 40\n",
    "input_size = 200"
   ]
  },
  {
   "cell_type": "code",
   "execution_count": 3,
   "metadata": {},
   "outputs": [],
   "source": [
    "# 1. Загрузка и подготовка данных\n",
    "df = pd.read_csv('evs1_012_10_bar_harmonics_median_new.csv', parse_dates=['date'])\n",
    "df = df.rename(columns={'date': 'ds', 'value': 'y'})\n",
    "df['unique_id'] = 'id_1'"
   ]
  },
  {
   "cell_type": "code",
   "execution_count": 4,
   "metadata": {},
   "outputs": [
    {
     "name": "stderr",
     "output_type": "stream",
     "text": [
      "Seed set to 1\n",
      "/home/maybe/miniconda3/envs/task2/lib/python3.10/site-packages/neuralforecast/common/_base_model.py:537: UserWarning: val_check_steps is greater than max_steps, setting val_check_steps to max_steps.\n",
      "  warnings.warn(\n",
      "GPU available: True (cuda), used: True\n",
      "TPU available: False, using: 0 TPU cores\n",
      "HPU available: False, using: 0 HPUs\n",
      "You are using a CUDA device ('NVIDIA GeForce RTX 3070 Laptop GPU') that has Tensor Cores. To properly utilize them, you should set `torch.set_float32_matmul_precision('medium' | 'high')` which will trade-off precision for performance. For more details, read https://pytorch.org/docs/stable/generated/torch.set_float32_matmul_precision.html#torch.set_float32_matmul_precision\n",
      "LOCAL_RANK: 0 - CUDA_VISIBLE_DEVICES: [0]\n",
      "\n",
      "  | Name           | Type          | Params | Mode \n",
      "---------------------------------------------------------\n",
      "0 | loss           | MAE           | 0      | train\n",
      "1 | padder_train   | ConstantPad1d | 0      | train\n",
      "2 | scaler         | TemporalNorm  | 0      | train\n",
      "3 | model          | ModuleList    | 4.7 M  | train\n",
      "4 | enc_embedding  | DataEmbedding | 192    | train\n",
      "5 | layer_norm     | LayerNorm     | 128    | train\n",
      "6 | predict_linear | Linear        | 48.2 K | train\n",
      "7 | projection     | Linear        | 65     | train\n",
      "---------------------------------------------------------\n",
      "4.7 M     Trainable params\n",
      "0         Non-trainable params\n",
      "4.7 M     Total params\n",
      "18.944    Total estimated model params size (MB)\n",
      "50        Modules in train mode\n",
      "0         Modules in eval mode\n"
     ]
    },
    {
     "name": "stdout",
     "output_type": "stream",
     "text": [
      "Epoch 59: 100%|██████████| 1/1 [00:00<00:00,  2.37it/s, v_num=0, train_loss_step=0.265, train_loss_epoch=0.265]"
     ]
    },
    {
     "name": "stderr",
     "output_type": "stream",
     "text": [
      "`Trainer.fit` stopped: `max_steps=60` reached.\n"
     ]
    },
    {
     "name": "stdout",
     "output_type": "stream",
     "text": [
      "Epoch 59: 100%|██████████| 1/1 [00:00<00:00,  2.36it/s, v_num=0, train_loss_step=0.265, train_loss_epoch=0.265]\n"
     ]
    }
   ],
   "source": [
    "# 3. Инициализация и обучение модели\n",
    "model = TimesNet(\n",
    "    h=horizon,\n",
    "    input_size=input_size,\n",
    "    max_steps=60,\n",
    "    learning_rate=1e-3,\n",
    "    scaler_type='standard'\n",
    ")\n",
    "nf = NeuralForecast(models=[model], freq='D')\n",
    "nf.fit(df=df)"
   ]
  },
  {
   "cell_type": "code",
   "execution_count": 5,
   "metadata": {},
   "outputs": [],
   "source": [
    "# 4. Сохранение модели\n",
    "# Сохраняет state_dict TimesNet и объект scaler, если требуется\n",
    "torch.save(model.model.state_dict(), 'timesnet_state_dict.pth')\n",
    "nf.save('neuralforecast_nf.pkl')  # Сохраняет весь контейнер (если потребуется)"
   ]
  }
 ],
 "metadata": {
  "kernelspec": {
   "display_name": "task2",
   "language": "python",
   "name": "python3"
  },
  "language_info": {
   "codemirror_mode": {
    "name": "ipython",
    "version": 3
   },
   "file_extension": ".py",
   "mimetype": "text/x-python",
   "name": "python",
   "nbconvert_exporter": "python",
   "pygments_lexer": "ipython3",
   "version": "3.10.18"
  }
 },
 "nbformat": 4,
 "nbformat_minor": 2
}
