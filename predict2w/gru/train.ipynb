{
 "cells": [
  {
   "cell_type": "code",
   "execution_count": 1,
   "metadata": {},
   "outputs": [
    {
     "name": "stderr",
     "output_type": "stream",
     "text": [
      "2025-07-14 15:55:43.111809: I tensorflow/core/platform/cpu_feature_guard.cc:193] This TensorFlow binary is optimized with oneAPI Deep Neural Network Library (oneDNN) to use the following CPU instructions in performance-critical operations:  AVX2 AVX512F AVX512_VNNI FMA\n",
      "To enable them in other operations, rebuild TensorFlow with the appropriate compiler flags.\n",
      "2025-07-14 15:55:43.252385: I tensorflow/core/util/util.cc:169] oneDNN custom operations are on. You may see slightly different numerical results due to floating-point round-off errors from different computation orders. To turn them off, set the environment variable `TF_ENABLE_ONEDNN_OPTS=0`.\n",
      "2025-07-14 15:55:43.290607: E tensorflow/stream_executor/cuda/cuda_blas.cc:2981] Unable to register cuBLAS factory: Attempting to register factory for plugin cuBLAS when one has already been registered\n",
      "2025-07-14 15:55:43.994777: W tensorflow/stream_executor/platform/default/dso_loader.cc:64] Could not load dynamic library 'libnvinfer.so.7'; dlerror: libnvinfer.so.7: cannot open shared object file: No such file or directory; LD_LIBRARY_PATH: /home/maybe/miniconda3/envs/tf-gpu/lib:\n",
      "2025-07-14 15:55:43.994851: W tensorflow/stream_executor/platform/default/dso_loader.cc:64] Could not load dynamic library 'libnvinfer_plugin.so.7'; dlerror: libnvinfer_plugin.so.7: cannot open shared object file: No such file or directory; LD_LIBRARY_PATH: /home/maybe/miniconda3/envs/tf-gpu/lib:\n",
      "2025-07-14 15:55:43.994863: W tensorflow/compiler/tf2tensorrt/utils/py_utils.cc:38] TF-TRT Warning: Cannot dlopen some TensorRT libraries. If you would like to use Nvidia GPU with TensorRT, please make sure the missing libraries mentioned above are installed properly.\n"
     ]
    }
   ],
   "source": [
    "import pandas as pd\n",
    "import numpy as np\n",
    "from sklearn.preprocessing import MinMaxScaler\n",
    "from tensorflow.keras.models import Sequential\n",
    "from tensorflow.keras.layers import GRU, Dense"
   ]
  },
  {
   "cell_type": "code",
   "execution_count": 2,
   "metadata": {},
   "outputs": [],
   "source": [
    "\n",
    "# Загрузка и агрегация данных\n",
    "data = pd.read_csv(\"filtered_dataset.csv\", parse_dates=[\"date\"])\n",
    "data_daily = data.set_index('date').resample('D').mean().reset_index()\n",
    "data_daily['value'] = data_daily['value'].interpolate(method='linear')\n",
    "\n"
   ]
  },
  {
   "cell_type": "code",
   "execution_count": 3,
   "metadata": {},
   "outputs": [],
   "source": [
    "# Нормализация\n",
    "scaler = MinMaxScaler()\n",
    "data_scaled = scaler.fit_transform(data_daily[['value']])"
   ]
  },
  {
   "cell_type": "code",
   "execution_count": 4,
   "metadata": {},
   "outputs": [],
   "source": [
    "# Формирование обучающих последовательностей\n",
    "sequence_length = 7\n",
    "X, y = [], []\n",
    "for i in range(len(data_scaled) - sequence_length):\n",
    "    X.append(data_scaled[i:i+sequence_length])\n",
    "    y.append(data_scaled[i+sequence_length])\n",
    "X, y = np.array(X), np.array(y)"
   ]
  },
  {
   "cell_type": "code",
   "execution_count": 5,
   "metadata": {},
   "outputs": [],
   "source": [
    "# Разделение на train/test\n",
    "train_size = int(len(X) * 0.8)\n",
    "X_train, X_test = X[:train_size], X[train_size:]\n",
    "y_train, y_test = y[:train_size], y[train_size:]"
   ]
  },
  {
   "cell_type": "code",
   "execution_count": null,
   "metadata": {},
   "outputs": [
    {
     "name": "stderr",
     "output_type": "stream",
     "text": [
      "2025-07-14 15:55:44.760492: I tensorflow/stream_executor/cuda/cuda_gpu_executor.cc:980] successful NUMA node read from SysFS had negative value (-1), but there must be at least one NUMA node, so returning NUMA node zero\n",
      "2025-07-14 15:55:44.768381: I tensorflow/stream_executor/cuda/cuda_gpu_executor.cc:980] successful NUMA node read from SysFS had negative value (-1), but there must be at least one NUMA node, so returning NUMA node zero\n",
      "2025-07-14 15:55:44.768811: I tensorflow/stream_executor/cuda/cuda_gpu_executor.cc:980] successful NUMA node read from SysFS had negative value (-1), but there must be at least one NUMA node, so returning NUMA node zero\n",
      "2025-07-14 15:55:44.769984: I tensorflow/core/platform/cpu_feature_guard.cc:193] This TensorFlow binary is optimized with oneAPI Deep Neural Network Library (oneDNN) to use the following CPU instructions in performance-critical operations:  AVX2 AVX512F AVX512_VNNI FMA\n",
      "To enable them in other operations, rebuild TensorFlow with the appropriate compiler flags.\n",
      "2025-07-14 15:55:44.771039: I tensorflow/stream_executor/cuda/cuda_gpu_executor.cc:980] successful NUMA node read from SysFS had negative value (-1), but there must be at least one NUMA node, so returning NUMA node zero\n",
      "2025-07-14 15:55:44.771406: I tensorflow/stream_executor/cuda/cuda_gpu_executor.cc:980] successful NUMA node read from SysFS had negative value (-1), but there must be at least one NUMA node, so returning NUMA node zero\n",
      "2025-07-14 15:55:44.771605: I tensorflow/stream_executor/cuda/cuda_gpu_executor.cc:980] successful NUMA node read from SysFS had negative value (-1), but there must be at least one NUMA node, so returning NUMA node zero\n",
      "2025-07-14 15:55:45.388260: I tensorflow/stream_executor/cuda/cuda_gpu_executor.cc:980] successful NUMA node read from SysFS had negative value (-1), but there must be at least one NUMA node, so returning NUMA node zero\n",
      "2025-07-14 15:55:45.388615: I tensorflow/stream_executor/cuda/cuda_gpu_executor.cc:980] successful NUMA node read from SysFS had negative value (-1), but there must be at least one NUMA node, so returning NUMA node zero\n",
      "2025-07-14 15:55:45.388788: I tensorflow/stream_executor/cuda/cuda_gpu_executor.cc:980] successful NUMA node read from SysFS had negative value (-1), but there must be at least one NUMA node, so returning NUMA node zero\n",
      "2025-07-14 15:55:45.388934: I tensorflow/core/common_runtime/gpu/gpu_device.cc:1616] Created device /job:localhost/replica:0/task:0/device:GPU:0 with 6115 MB memory:  -> device: 0, name: NVIDIA GeForce RTX 3070 Laptop GPU, pci bus id: 0000:01:00.0, compute capability: 8.6\n"
     ]
    }
   ],
   "source": [
    "# Модель GRU\n",
    "model = Sequential([\n",
    "    GRU(50, input_shape=(sequence_length, 1)),\n",
    "    Dense(1)\n",
    "])\n",
    "model.compile(optimizer='adam', loss='mse')"
   ]
  },
  {
   "cell_type": "code",
   "execution_count": null,
   "metadata": {},
   "outputs": [
    {
     "name": "stdout",
     "output_type": "stream",
     "text": [
      "Epoch 1/20\n"
     ]
    },
    {
     "name": "stderr",
     "output_type": "stream",
     "text": [
      "2025-07-14 15:55:47.633659: I tensorflow/stream_executor/cuda/cuda_dnn.cc:384] Loaded cuDNN version 8100\n"
     ]
    },
    {
     "name": "stdout",
     "output_type": "stream",
     "text": [
      " 1/21 [>.............................] - ETA: 57s - loss: 0.2219"
     ]
    },
    {
     "name": "stderr",
     "output_type": "stream",
     "text": [
      "2025-07-14 15:55:48.567188: I tensorflow/stream_executor/cuda/cuda_blas.cc:1614] TensorFloat-32 will be used for the matrix multiplication. This will only be logged once.\n"
     ]
    },
    {
     "name": "stdout",
     "output_type": "stream",
     "text": [
      "21/21 [==============================] - 3s 22ms/step - loss: 0.0508 - val_loss: 0.0063\n",
      "Epoch 2/20\n",
      "21/21 [==============================] - 0s 8ms/step - loss: 0.0074 - val_loss: 0.0154\n",
      "Epoch 3/20\n",
      "21/21 [==============================] - 0s 7ms/step - loss: 0.0054 - val_loss: 0.0085\n",
      "Epoch 4/20\n",
      "21/21 [==============================] - 0s 9ms/step - loss: 0.0045 - val_loss: 0.0064\n",
      "Epoch 5/20\n",
      "21/21 [==============================] - 0s 8ms/step - loss: 0.0041 - val_loss: 0.0047\n",
      "Epoch 6/20\n",
      "21/21 [==============================] - 0s 9ms/step - loss: 0.0040 - val_loss: 0.0048\n",
      "Epoch 7/20\n",
      "21/21 [==============================] - 0s 9ms/step - loss: 0.0040 - val_loss: 0.0042\n",
      "Epoch 8/20\n",
      "21/21 [==============================] - 0s 9ms/step - loss: 0.0040 - val_loss: 0.0050\n",
      "Epoch 9/20\n",
      "21/21 [==============================] - 0s 9ms/step - loss: 0.0039 - val_loss: 0.0051\n",
      "Epoch 10/20\n",
      "21/21 [==============================] - 0s 9ms/step - loss: 0.0039 - val_loss: 0.0050\n",
      "Epoch 11/20\n",
      "21/21 [==============================] - 0s 8ms/step - loss: 0.0039 - val_loss: 0.0041\n",
      "Epoch 12/20\n",
      "21/21 [==============================] - 0s 9ms/step - loss: 0.0039 - val_loss: 0.0044\n",
      "Epoch 13/20\n",
      "21/21 [==============================] - 0s 10ms/step - loss: 0.0038 - val_loss: 0.0037\n",
      "Epoch 14/20\n",
      "21/21 [==============================] - 0s 5ms/step - loss: 0.0041 - val_loss: 0.0037\n",
      "Epoch 15/20\n",
      "21/21 [==============================] - 0s 4ms/step - loss: 0.0039 - val_loss: 0.0041\n",
      "Epoch 16/20\n",
      "21/21 [==============================] - 0s 5ms/step - loss: 0.0039 - val_loss: 0.0043\n",
      "Epoch 17/20\n",
      "21/21 [==============================] - 0s 6ms/step - loss: 0.0038 - val_loss: 0.0038\n",
      "Epoch 18/20\n",
      "21/21 [==============================] - 0s 8ms/step - loss: 0.0041 - val_loss: 0.0038\n",
      "Epoch 19/20\n",
      "21/21 [==============================] - 0s 4ms/step - loss: 0.0039 - val_loss: 0.0066\n",
      "Epoch 20/20\n",
      "21/21 [==============================] - 0s 4ms/step - loss: 0.0038 - val_loss: 0.0040\n"
     ]
    },
    {
     "data": {
      "text/plain": [
       "<keras.callbacks.History at 0x79c960591600>"
      ]
     },
     "execution_count": 7,
     "metadata": {},
     "output_type": "execute_result"
    }
   ],
   "source": [
    "model.fit(X_train, y_train, epochs=5, batch_size=16, validation_data=(X_test, y_test))"
   ]
  },
  {
   "cell_type": "code",
   "execution_count": 8,
   "metadata": {},
   "outputs": [
    {
     "name": "stdout",
     "output_type": "stream",
     "text": [
      "1/1 [==============================] - 0s 281ms/step\n",
      "Прогноз: [[1.9735982]]\n",
      "1/1 [==============================] - 0s 24ms/step\n",
      "Прогноз: [[1.966381]]\n",
      "1/1 [==============================] - 0s 22ms/step\n",
      "Прогноз: [[1.9607514]]\n",
      "1/1 [==============================] - 0s 23ms/step\n",
      "Прогноз: [[1.9560223]]\n",
      "1/1 [==============================] - 0s 21ms/step\n",
      "Прогноз: [[1.9516114]]\n",
      "1/1 [==============================] - 0s 21ms/step\n",
      "Прогноз: [[1.9470956]]\n",
      "1/1 [==============================] - 0s 21ms/step\n",
      "Прогноз: [[1.9425513]]\n",
      "1/1 [==============================] - 0s 22ms/step\n",
      "Прогноз: [[1.9383104]]\n",
      "1/1 [==============================] - 0s 21ms/step\n",
      "Прогноз: [[1.9340909]]\n",
      "1/1 [==============================] - 0s 22ms/step\n",
      "Прогноз: [[1.9298649]]\n"
     ]
    }
   ],
   "source": [
    "# Прогноз на 2 дня вперёд\n",
    "last_sequence = data_scaled[-sequence_length:]\n",
    "for _ in range(10):\n",
    "    pred = model.predict(last_sequence.reshape(1, sequence_length, 1))\n",
    "    print('Прогноз:', scaler.inverse_transform(pred))\n",
    "    last_sequence = np.append(last_sequence[1:], pred).reshape(sequence_length, 1)\n"
   ]
  }
 ],
 "metadata": {
  "kernelspec": {
   "display_name": "tf-gpu",
   "language": "python",
   "name": "python3"
  },
  "language_info": {
   "codemirror_mode": {
    "name": "ipython",
    "version": 3
   },
   "file_extension": ".py",
   "mimetype": "text/x-python",
   "name": "python",
   "nbconvert_exporter": "python",
   "pygments_lexer": "ipython3",
   "version": "3.10.18"
  }
 },
 "nbformat": 4,
 "nbformat_minor": 2
}
